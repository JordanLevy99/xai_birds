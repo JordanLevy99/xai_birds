{
 "cells": [
  {
   "cell_type": "code",
   "execution_count": 1,
   "metadata": {},
   "outputs": [],
   "source": [
    "import os\n",
    "import torch\n",
    "import pandas as pd\n",
    "from skimage import io, transform\n",
    "import numpy as np\n",
    "import matplotlib.pyplot as plt\n",
    "from torch.utils.data import Dataset, DataLoader\n",
    "from torchvision import transforms, utils, models\n",
    "import PIL.Image as Image\n",
    "import torch.nn as nn\n",
    "import torchvision\n",
    "import torch.optim as optim\n",
    "import sys\n",
    "from captum.attr import GuidedGradCam\n",
    "import cv2\n",
    "from PIL import Image\n",
    "from matplotlib.colors import LinearSegmentedColormap\n",
    "from captum.attr import visualization as viz\n",
    "\n",
    "sys.path.insert(0, '../src')\n",
    "from bird_dataset import *\n",
    "from XAI_birds_dataloader import *\n",
    "from tqdm import tqdm\n",
    "from models.multi_task_model import *\n",
    "from XAI_birds_dataloader import *\n",
    "from XAI_BirdAttribute_dataloader import *\n",
    "\n",
    "from download import *\n",
    "\n",
    "import shutil"
   ]
  },
  {
   "cell_type": "code",
   "execution_count": 2,
   "metadata": {},
   "outputs": [],
   "source": [
    "# download = True\n",
    "# id = '156fCp5_VvRfnyHSCBCXhInSE9TxEqDaY'\n",
    "# destination = '../cub.zip'\n",
    "# if download:\n",
    "#     download_file_from_google_drive(id, destination)\n",
    "# # shutil.unpack_archive('../cub.zip', '../CUB_200_2011')"
   ]
  },
  {
   "cell_type": "code",
   "execution_count": 3,
   "metadata": {},
   "outputs": [],
   "source": [
    "bd = BirdDataset(preload=True, attr_file='attributes')"
   ]
  },
  {
   "cell_type": "code",
   "execution_count": 4,
   "metadata": {},
   "outputs": [],
   "source": [
    "vgg16 = models.vgg16_bn(pretrained=True)\n"
   ]
  },
  {
   "cell_type": "code",
   "execution_count": 5,
   "metadata": {},
   "outputs": [],
   "source": [
    "trans = transforms.Compose([\n",
    "    transforms.Resize((224, 224)),\n",
    "    transforms.ToTensor()\n",
    "])\n",
    "train_bird_dataset = Bird_Attribute_Loader(bd, attrs=['has_breast_pattern'], species=False, transform=trans, train=True)\n",
    "val_bird_dataset = Bird_Attribute_Loader(bd, attrs=['has_breast_pattern'], species=False, transform=trans, train=False, val=True)"
   ]
  },
  {
   "cell_type": "code",
   "execution_count": 6,
   "metadata": {},
   "outputs": [],
   "source": [
    "# train_bird_dataset[2]"
   ]
  },
  {
   "cell_type": "code",
   "execution_count": 7,
   "metadata": {},
   "outputs": [],
   "source": [
    "model = MultiTaskModel(vgg16, train_bird_dataset)"
   ]
  },
  {
   "cell_type": "code",
   "execution_count": null,
   "metadata": {},
   "outputs": [],
   "source": []
  },
  {
   "cell_type": "code",
   "execution_count": 8,
   "metadata": {},
   "outputs": [
    {
     "name": "stdout",
     "output_type": "stream",
     "text": [
      "cuda:0\n"
     ]
    }
   ],
   "source": [
    "# If there are GPUs, choose the first one for computing. Otherwise use CPU.\n",
    "device = torch.device(\"cuda:0\" if torch.cuda.is_available() else \"cpu\")\n",
    "print(device)\n",
    "# If 'cuda:0' is printed, it means GPU is available.\n",
    "\n",
    "if torch.cuda.is_available():\n",
    "    model.cuda()\n",
    "\n",
    "batch_size = 1\n",
    "trainloader = DataLoader(train_bird_dataset, batch_size=batch_size, shuffle=True)\n",
    "valloader = DataLoader(val_bird_dataset, batch_size=batch_size, shuffle=True)\n",
    "\n",
    "loss_func = MultiTaskLossWrapper().to(device)\n",
    "opt = optim.SGD(model.parameters(), lr=0.001, momentum=0.9)"
   ]
  },
  {
   "cell_type": "code",
   "execution_count": 9,
   "metadata": {},
   "outputs": [],
   "source": [
    "# data = train_bird_dataset[0]\n",
    "# inputs, labels = data['image'].cuda(), torch.LongTensor(data['labels']).cuda()\n",
    "# outputs =  model(inputs.reshape((1, 3, 224, 224)))"
   ]
  },
  {
   "cell_type": "code",
   "execution_count": null,
   "metadata": {},
   "outputs": [],
   "source": []
  },
  {
   "cell_type": "code",
   "execution_count": 10,
   "metadata": {
    "scrolled": true
   },
   "outputs": [
    {
     "name": "stdout",
     "output_type": "stream",
     "text": [
      "[epoch: 0, i:    99] avg mini-batch loss: 1.505\n",
      "[epoch: 0, i:   199] avg mini-batch loss: 1.092\n",
      "[epoch: 0, i:   299] avg mini-batch loss: 1.128\n",
      "[epoch: 0, i:   399] avg mini-batch loss: 0.894\n",
      "[epoch: 0, i:   499] avg mini-batch loss: 0.945\n",
      "[epoch: 0, i:   599] avg mini-batch loss: 1.018\n",
      "[epoch: 0, i:   699] avg mini-batch loss: 0.890\n",
      "[epoch: 0, i:   799] avg mini-batch loss: 1.109\n",
      "[epoch: 0, i:   899] avg mini-batch loss: 1.134\n",
      "[epoch: 0, i:   999] avg mini-batch loss: 0.932\n",
      "[epoch: 0, i:  1099] avg mini-batch loss: 0.850\n",
      "[epoch: 0, i:  1199] avg mini-batch loss: 0.891\n",
      "Validation accuracy: 0.6796116504854369\n",
      "Average validation loss: 0.8978971132954348\n",
      "[epoch: 1, i:    99] avg mini-batch loss: 0.953\n",
      "[epoch: 1, i:   199] avg mini-batch loss: 1.061\n",
      "[epoch: 1, i:   299] avg mini-batch loss: 0.904\n",
      "[epoch: 1, i:   399] avg mini-batch loss: 0.998\n",
      "[epoch: 1, i:   499] avg mini-batch loss: 0.934\n",
      "[epoch: 1, i:   599] avg mini-batch loss: 0.944\n",
      "[epoch: 1, i:   699] avg mini-batch loss: 0.927\n",
      "[epoch: 1, i:   799] avg mini-batch loss: 0.987\n",
      "[epoch: 1, i:   899] avg mini-batch loss: 0.846\n",
      "[epoch: 1, i:   999] avg mini-batch loss: 0.999\n",
      "[epoch: 1, i:  1099] avg mini-batch loss: 0.936\n",
      "[epoch: 1, i:  1199] avg mini-batch loss: 0.966\n",
      "Validation accuracy: 0.6763754045307443\n",
      "Average validation loss: 0.8891360908264481\n",
      "[epoch: 2, i:    99] avg mini-batch loss: 0.931\n",
      "[epoch: 2, i:   199] avg mini-batch loss: 0.908\n",
      "[epoch: 2, i:   299] avg mini-batch loss: 0.964\n",
      "[epoch: 2, i:   399] avg mini-batch loss: 0.851\n",
      "[epoch: 2, i:   499] avg mini-batch loss: 0.850\n",
      "[epoch: 2, i:   599] avg mini-batch loss: 0.947\n",
      "[epoch: 2, i:   699] avg mini-batch loss: 0.777\n",
      "[epoch: 2, i:   799] avg mini-batch loss: 1.028\n",
      "[epoch: 2, i:   899] avg mini-batch loss: 0.986\n",
      "[epoch: 2, i:   999] avg mini-batch loss: 0.911\n",
      "[epoch: 2, i:  1099] avg mini-batch loss: 0.772\n",
      "[epoch: 2, i:  1199] avg mini-batch loss: 0.947\n",
      "Validation accuracy: 0.6666666666666666\n",
      "Average validation loss: 1.0313685424505314\n",
      "[epoch: 3, i:    99] avg mini-batch loss: 0.830\n",
      "[epoch: 3, i:   199] avg mini-batch loss: 0.683\n",
      "[epoch: 3, i:   299] avg mini-batch loss: 0.819\n",
      "[epoch: 3, i:   399] avg mini-batch loss: 0.885\n",
      "[epoch: 3, i:   499] avg mini-batch loss: 0.929\n",
      "[epoch: 3, i:   599] avg mini-batch loss: 0.793\n",
      "[epoch: 3, i:   699] avg mini-batch loss: 0.905\n",
      "[epoch: 3, i:   799] avg mini-batch loss: 0.901\n",
      "[epoch: 3, i:   899] avg mini-batch loss: 0.832\n",
      "[epoch: 3, i:   999] avg mini-batch loss: 0.807\n",
      "[epoch: 3, i:  1099] avg mini-batch loss: 0.954\n",
      "[epoch: 3, i:  1199] avg mini-batch loss: 0.898\n",
      "Validation accuracy: 0.6699029126213593\n",
      "Average validation loss: 0.958562476156599\n",
      "[epoch: 4, i:    99] avg mini-batch loss: 0.738\n",
      "[epoch: 4, i:   199] avg mini-batch loss: 0.702\n",
      "[epoch: 4, i:   299] avg mini-batch loss: 0.835\n",
      "[epoch: 4, i:   399] avg mini-batch loss: 0.634\n",
      "[epoch: 4, i:   499] avg mini-batch loss: 0.882\n",
      "[epoch: 4, i:   599] avg mini-batch loss: 0.767\n",
      "[epoch: 4, i:   699] avg mini-batch loss: 0.835\n",
      "[epoch: 4, i:   799] avg mini-batch loss: 0.728\n",
      "[epoch: 4, i:   899] avg mini-batch loss: 0.913\n",
      "[epoch: 4, i:   999] avg mini-batch loss: 0.847\n",
      "[epoch: 4, i:  1099] avg mini-batch loss: 0.773\n",
      "[epoch: 4, i:  1199] avg mini-batch loss: 0.853\n",
      "Validation accuracy: 0.6828478964401294\n",
      "Average validation loss: 0.9527838345870231\n",
      "[epoch: 5, i:    99] avg mini-batch loss: 0.562\n",
      "[epoch: 5, i:   199] avg mini-batch loss: 0.719\n",
      "[epoch: 5, i:   299] avg mini-batch loss: 0.600\n",
      "[epoch: 5, i:   399] avg mini-batch loss: 0.747\n",
      "[epoch: 5, i:   499] avg mini-batch loss: 0.712\n",
      "[epoch: 5, i:   599] avg mini-batch loss: 0.759\n",
      "[epoch: 5, i:   699] avg mini-batch loss: 0.722\n",
      "[epoch: 5, i:   799] avg mini-batch loss: 0.835\n",
      "[epoch: 5, i:   899] avg mini-batch loss: 0.691\n",
      "[epoch: 5, i:   999] avg mini-batch loss: 0.778\n",
      "[epoch: 5, i:  1099] avg mini-batch loss: 0.743\n",
      "[epoch: 5, i:  1199] avg mini-batch loss: 0.676\n",
      "Validation accuracy: 0.627831715210356\n",
      "Average validation loss: 0.9723535386489819\n",
      "[epoch: 6, i:    99] avg mini-batch loss: 0.598\n",
      "[epoch: 6, i:   199] avg mini-batch loss: 0.500\n",
      "[epoch: 6, i:   299] avg mini-batch loss: 0.711\n",
      "[epoch: 6, i:   399] avg mini-batch loss: 0.657\n",
      "[epoch: 6, i:   499] avg mini-batch loss: 0.883\n",
      "[epoch: 6, i:   599] avg mini-batch loss: 0.636\n",
      "[epoch: 6, i:   699] avg mini-batch loss: 0.759\n",
      "[epoch: 6, i:   799] avg mini-batch loss: 0.720\n",
      "[epoch: 6, i:   899] avg mini-batch loss: 0.756\n",
      "[epoch: 6, i:   999] avg mini-batch loss: 0.725\n",
      "[epoch: 6, i:  1099] avg mini-batch loss: 0.695\n",
      "[epoch: 6, i:  1199] avg mini-batch loss: 0.581\n"
     ]
    },
    {
     "ename": "KeyboardInterrupt",
     "evalue": "",
     "output_type": "error",
     "traceback": [
      "\u001b[0;31m---------------------------------------------------------------------------\u001b[0m",
      "\u001b[0;31mKeyboardInterrupt\u001b[0m                         Traceback (most recent call last)",
      "\u001b[0;32m<timed exec>\u001b[0m in \u001b[0;36m<module>\u001b[0;34m\u001b[0m\n",
      "\u001b[0;31mKeyboardInterrupt\u001b[0m: "
     ]
    }
   ],
   "source": [
    "%%time\n",
    "avg_losses = []\n",
    "avg_val_losses = []\n",
    "epochs = 50\n",
    "print_freq = 100\n",
    "val_acc = []\n",
    "if len(train_bird_dataset.class_dict) > 1: plural = 's'\n",
    "else: plural = ''\n",
    "\n",
    "for epoch in range(epochs):\n",
    "    running_loss = 0.0\n",
    "    for i, data in enumerate(trainloader, 0):\n",
    "        # Get the inputs.\n",
    "#         print(\"LABELS:\",data['labels'])\n",
    "        inputs, labels = data['image'], torch.LongTensor(data[f'labels'])\n",
    "\n",
    "        # Move the inputs to the specified device.\n",
    "        inputs, labels = inputs.to(device), labels.to(device)\n",
    "        \n",
    "        # Zero the parameter gradients.\n",
    "        opt.zero_grad()\n",
    "\n",
    "        # Forward step.\n",
    "        outputs = model(inputs)\n",
    "        # print('outputs came')\n",
    "        # print(\"OUTPUTS:\",outputs) \n",
    "        # break\n",
    "        loss = loss_func(outputs, labels)\n",
    "        # print(loss)\n",
    "        # Backward step.\n",
    "        loss.backward()\n",
    "        \n",
    "        # Optimization step (update the parameters).\n",
    "        opt.step()\n",
    "\n",
    "        # Print statistics.\n",
    "        running_loss += loss.item()\n",
    "#         print('running loss', running_loss)\n",
    "#         print(outputs)\n",
    "        if i % print_freq == print_freq - 1: # Print every several mini-batches.\n",
    "            avg_loss = running_loss / print_freq\n",
    "            print('[epoch: {}, i: {:5d}] avg mini-batch loss: {:.3f}'.format(\n",
    "                epoch, i, avg_loss))\n",
    "            running_loss = 0.0\n",
    "            \n",
    "    avg_losses.append(avg_loss)\n",
    "    \n",
    "    model.eval()\n",
    "    with torch.no_grad():\n",
    "        num_correct=0\n",
    "        val_losses = []\n",
    "        data_iter = iter(valloader)\n",
    "        for val_data in data_iter:\n",
    "            val_inputs, val_labels = val_data['image'].cuda(), torch.LongTensor(val_data[f'labels']).cuda()\n",
    "            val_outputs = model(val_inputs)\n",
    "            opt.zero_grad() #zero the parameter gradients\n",
    "            val_predicted = [torch.max(i, 1)[1] for i in val_outputs]\n",
    "            num_correct += sum(np.array(val_labels.cpu())==np.array(val_predicted))\n",
    "            val_losses.append(loss_func(val_outputs, val_labels).item())\n",
    "        acc = num_correct/(len(data_iter)*batch_size*len(val_labels))\n",
    "        val_acc.append(acc)\n",
    "        print('Validation accuracy:',acc)\n",
    "        print('Average validation loss:',np.mean(val_losses))\n",
    "        avg_val_losses.append(np.mean(val_losses))\n",
    "    model.train()\n",
    "print('Finished Training.')"
   ]
  },
  {
   "cell_type": "code",
   "execution_count": 11,
   "metadata": {},
   "outputs": [],
   "source": [
    "task_str = '__'.join(list(train_bird_dataset.class_dict.keys()))"
   ]
  },
  {
   "cell_type": "code",
   "execution_count": 12,
   "metadata": {},
   "outputs": [],
   "source": [
    "def plot_train_val_loss(avg_losses, avg_val_losses, f_label_size=15, f_title_size=18, f_ticks_size=12):\n",
    "    plt.plot(avg_losses)\n",
    "    plt.plot(avg_val_losses)\n",
    "    plt.xlabel('Epochs', fontsize=f_label_size)\n",
    "    plt.ylabel('Loss', fontsize=f_label_size)\n",
    "    plt.title('Training and Validation Loss')\n",
    "    plt.legend(['Training Loss', 'Validation Loss']);\n",
    "    plt.savefig(f'../figures/{task_str}_{epochs}_epoch_train_val_loss.png', dpi=800)"
   ]
  },
  {
   "cell_type": "code",
   "execution_count": 13,
   "metadata": {},
   "outputs": [
    {
     "name": "stderr",
     "output_type": "stream",
     "text": [
      "ERROR:root:Internal Python error in the inspect module.\n",
      "Below is the traceback from this internal error.\n",
      "\n"
     ]
    },
    {
     "name": "stdout",
     "output_type": "stream",
     "text": [
      "Traceback (most recent call last):\n",
      "  File \"/opt/conda/lib/python3.7/site-packages/IPython/core/interactiveshell.py\", line 3331, in run_code\n",
      "    exec(code_obj, self.user_global_ns, self.user_ns)\n",
      "  File \"<ipython-input-13-a00bd82a6d22>\", line 1, in <module>\n",
      "    plot_train_val_loss(avg_losses, avg_val_losses)\n",
      "  File \"<ipython-input-12-b87e1bcb6dfd>\", line 8, in plot_train_val_loss\n",
      "    plt.savefig(f'../figures/{task_str}_{epochs}_epoch_train_val_loss.png', dpi=800)\n",
      "  File \"/opt/conda/lib/python3.7/site-packages/matplotlib/pyplot.py\", line 723, in savefig\n",
      "    res = fig.savefig(*args, **kwargs)\n",
      "  File \"/opt/conda/lib/python3.7/site-packages/matplotlib/figure.py\", line 2203, in savefig\n",
      "    self.canvas.print_figure(fname, **kwargs)\n",
      "  File \"/opt/conda/lib/python3.7/site-packages/matplotlib/backend_bases.py\", line 2105, in print_figure\n",
      "    **kwargs)\n",
      "  File \"/opt/conda/lib/python3.7/site-packages/matplotlib/backends/backend_agg.py\", line 514, in print_png\n",
      "    FigureCanvasAgg.draw(self)\n",
      "  File \"/opt/conda/lib/python3.7/site-packages/matplotlib/backends/backend_agg.py\", line 393, in draw\n",
      "    self.figure.draw(self.renderer)\n",
      "  File \"/opt/conda/lib/python3.7/site-packages/matplotlib/artist.py\", line 38, in draw_wrapper\n",
      "    return draw(artist, renderer, *args, **kwargs)\n",
      "  File \"/opt/conda/lib/python3.7/site-packages/matplotlib/figure.py\", line 1736, in draw\n",
      "    renderer, self, artists, self.suppressComposite)\n",
      "  File \"/opt/conda/lib/python3.7/site-packages/matplotlib/image.py\", line 137, in _draw_list_compositing_images\n",
      "    a.draw(renderer)\n",
      "  File \"/opt/conda/lib/python3.7/site-packages/matplotlib/artist.py\", line 38, in draw_wrapper\n",
      "    return draw(artist, renderer, *args, **kwargs)\n",
      "  File \"/opt/conda/lib/python3.7/site-packages/matplotlib/axes/_base.py\", line 2630, in draw\n",
      "    mimage._draw_list_compositing_images(renderer, self, artists)\n",
      "  File \"/opt/conda/lib/python3.7/site-packages/matplotlib/image.py\", line 137, in _draw_list_compositing_images\n",
      "    a.draw(renderer)\n",
      "  File \"/opt/conda/lib/python3.7/site-packages/matplotlib/artist.py\", line 38, in draw_wrapper\n",
      "    return draw(artist, renderer, *args, **kwargs)\n",
      "  File \"/opt/conda/lib/python3.7/site-packages/matplotlib/axis.py\", line 1232, in draw\n",
      "    tick.draw(renderer)\n",
      "  File \"/opt/conda/lib/python3.7/site-packages/matplotlib/artist.py\", line 38, in draw_wrapper\n",
      "    return draw(artist, renderer, *args, **kwargs)\n",
      "  File \"/opt/conda/lib/python3.7/site-packages/matplotlib/axis.py\", line 297, in draw\n",
      "    artist.draw(renderer)\n",
      "  File \"/opt/conda/lib/python3.7/site-packages/matplotlib/artist.py\", line 38, in draw_wrapper\n",
      "    return draw(artist, renderer, *args, **kwargs)\n",
      "  File \"/opt/conda/lib/python3.7/site-packages/matplotlib/text.py\", line 692, in draw\n",
      "    posx, posy = trans.transform((posx, posy))\n",
      "KeyboardInterrupt\n",
      "\n",
      "During handling of the above exception, another exception occurred:\n",
      "\n",
      "Traceback (most recent call last):\n",
      "  File \"/opt/conda/lib/python3.7/site-packages/IPython/core/interactiveshell.py\", line 2044, in showtraceback\n",
      "    stb = value._render_traceback_()\n",
      "AttributeError: 'KeyboardInterrupt' object has no attribute '_render_traceback_'\n",
      "\n",
      "During handling of the above exception, another exception occurred:\n",
      "\n",
      "Traceback (most recent call last):\n",
      "  File \"/opt/conda/lib/python3.7/site-packages/IPython/core/ultratb.py\", line 1148, in get_records\n",
      "    return _fixed_getinnerframes(etb, number_of_lines_of_context, tb_offset)\n",
      "  File \"/opt/conda/lib/python3.7/site-packages/IPython/core/ultratb.py\", line 316, in wrapped\n",
      "    return f(*args, **kwargs)\n",
      "  File \"/opt/conda/lib/python3.7/site-packages/IPython/core/ultratb.py\", line 350, in _fixed_getinnerframes\n",
      "    records = fix_frame_records_filenames(inspect.getinnerframes(etb, context))\n",
      "  File \"/opt/conda/lib/python3.7/inspect.py\", line 1502, in getinnerframes\n",
      "    frameinfo = (tb.tb_frame,) + getframeinfo(tb, context)\n",
      "  File \"/opt/conda/lib/python3.7/inspect.py\", line 1464, in getframeinfo\n",
      "    lines, lnum = findsource(frame)\n",
      "  File \"/opt/conda/lib/python3.7/site-packages/IPython/core/ultratb.py\", line 189, in findsource\n",
      "    if isclass(object):\n",
      "  File \"/opt/conda/lib/python3.7/inspect.py\", line 78, in isclass\n",
      "    return isinstance(object, type)\n",
      "KeyboardInterrupt\n"
     ]
    },
    {
     "ename": "KeyboardInterrupt",
     "evalue": "",
     "output_type": "error",
     "traceback": [
      "\u001b[0;31m---------------------------------------------------------------------------\u001b[0m"
     ]
    },
    {
     "data": {
      "image/png": "[encoded data removed]",
      "text/plain": [
       "<Figure size 432x288 with 1 Axes>"
      ]
     },
     "metadata": {
      "needs_background": "light"
     },
     "output_type": "display_data"
    },
    {
     "name": "stdout",
     "output_type": "stream",
     "text": [
      "Error in callback <function flush_figures at 0x7f49ce2879e0> (for post_execute):\n"
     ]
    },
    {
     "ename": "KeyboardInterrupt",
     "evalue": "",
     "output_type": "error",
     "traceback": [
      "\u001b[0;31m---------------------------------------------------------------------------\u001b[0m",
      "\u001b[0;31mKeyboardInterrupt\u001b[0m                         Traceback (most recent call last)",
      "\u001b[0;32m/opt/conda/lib/python3.7/site-packages/ipykernel/pylab/backend_inline.py\u001b[0m in \u001b[0;36mflush_figures\u001b[0;34m()\u001b[0m\n\u001b[1;32m    119\u001b[0m         \u001b[0;31m# ignore the tracking, just draw and close all figures\u001b[0m\u001b[0;34m\u001b[0m\u001b[0;34m\u001b[0m\u001b[0;34m\u001b[0m\u001b[0m\n\u001b[1;32m    120\u001b[0m         \u001b[0;32mtry\u001b[0m\u001b[0;34m:\u001b[0m\u001b[0;34m\u001b[0m\u001b[0;34m\u001b[0m\u001b[0m\n\u001b[0;32m--> 121\u001b[0;31m             \u001b[0;32mreturn\u001b[0m \u001b[0mshow\u001b[0m\u001b[0;34m(\u001b[0m\u001b[0;32mTrue\u001b[0m\u001b[0;34m)\u001b[0m\u001b[0;34m\u001b[0m\u001b[0;34m\u001b[0m\u001b[0m\n\u001b[0m\u001b[1;32m    122\u001b[0m         \u001b[0;32mexcept\u001b[0m \u001b[0mException\u001b[0m \u001b[0;32mas\u001b[0m \u001b[0me\u001b[0m\u001b[0;34m:\u001b[0m\u001b[0;34m\u001b[0m\u001b[0;34m\u001b[0m\u001b[0m\n\u001b[1;32m    123\u001b[0m             \u001b[0;31m# safely show traceback if in IPython, else raise\u001b[0m\u001b[0;34m\u001b[0m\u001b[0;34m\u001b[0m\u001b[0;34m\u001b[0m\u001b[0m\n",
      "\u001b[0;32m/opt/conda/lib/python3.7/site-packages/ipykernel/pylab/backend_inline.py\u001b[0m in \u001b[0;36mshow\u001b[0;34m(close, block)\u001b[0m\n\u001b[1;32m     48\u001b[0m         \u001b[0;31m# close triggers gc.collect, which can be slow\u001b[0m\u001b[0;34m\u001b[0m\u001b[0;34m\u001b[0m\u001b[0;34m\u001b[0m\u001b[0m\n\u001b[1;32m     49\u001b[0m         \u001b[0;32mif\u001b[0m \u001b[0mclose\u001b[0m \u001b[0;32mand\u001b[0m \u001b[0mGcf\u001b[0m\u001b[0;34m.\u001b[0m\u001b[0mget_all_fig_managers\u001b[0m\u001b[0;34m(\u001b[0m\u001b[0;34m)\u001b[0m\u001b[0;34m:\u001b[0m\u001b[0;34m\u001b[0m\u001b[0;34m\u001b[0m\u001b[0m\n\u001b[0;32m---> 50\u001b[0;31m             \u001b[0mmatplotlib\u001b[0m\u001b[0;34m.\u001b[0m\u001b[0mpyplot\u001b[0m\u001b[0;34m.\u001b[0m\u001b[0mclose\u001b[0m\u001b[0;34m(\u001b[0m\u001b[0;34m'all'\u001b[0m\u001b[0;34m)\u001b[0m\u001b[0;34m\u001b[0m\u001b[0;34m\u001b[0m\u001b[0m\n\u001b[0m\u001b[1;32m     51\u001b[0m \u001b[0;34m\u001b[0m\u001b[0m\n\u001b[1;32m     52\u001b[0m \u001b[0;34m\u001b[0m\u001b[0m\n",
      "\u001b[0;32m/opt/conda/lib/python3.7/site-packages/matplotlib/pyplot.py\u001b[0m in \u001b[0;36mclose\u001b[0;34m(fig)\u001b[0m\n\u001b[1;32m    679\u001b[0m             \u001b[0m_pylab_helpers\u001b[0m\u001b[0;34m.\u001b[0m\u001b[0mGcf\u001b[0m\u001b[0;34m.\u001b[0m\u001b[0mdestroy\u001b[0m\u001b[0;34m(\u001b[0m\u001b[0mfigManager\u001b[0m\u001b[0;34m.\u001b[0m\u001b[0mnum\u001b[0m\u001b[0;34m)\u001b[0m\u001b[0;34m\u001b[0m\u001b[0;34m\u001b[0m\u001b[0m\n\u001b[1;32m    680\u001b[0m     \u001b[0;32melif\u001b[0m \u001b[0mfig\u001b[0m \u001b[0;34m==\u001b[0m \u001b[0;34m'all'\u001b[0m\u001b[0;34m:\u001b[0m\u001b[0;34m\u001b[0m\u001b[0;34m\u001b[0m\u001b[0m\n\u001b[0;32m--> 681\u001b[0;31m         \u001b[0m_pylab_helpers\u001b[0m\u001b[0;34m.\u001b[0m\u001b[0mGcf\u001b[0m\u001b[0;34m.\u001b[0m\u001b[0mdestroy_all\u001b[0m\u001b[0;34m(\u001b[0m\u001b[0;34m)\u001b[0m\u001b[0;34m\u001b[0m\u001b[0;34m\u001b[0m\u001b[0m\n\u001b[0m\u001b[1;32m    682\u001b[0m     \u001b[0;32melif\u001b[0m \u001b[0misinstance\u001b[0m\u001b[0;34m(\u001b[0m\u001b[0mfig\u001b[0m\u001b[0;34m,\u001b[0m \u001b[0mint\u001b[0m\u001b[0;34m)\u001b[0m\u001b[0;34m:\u001b[0m\u001b[0;34m\u001b[0m\u001b[0;34m\u001b[0m\u001b[0m\n\u001b[1;32m    683\u001b[0m         \u001b[0m_pylab_helpers\u001b[0m\u001b[0;34m.\u001b[0m\u001b[0mGcf\u001b[0m\u001b[0;34m.\u001b[0m\u001b[0mdestroy\u001b[0m\u001b[0;34m(\u001b[0m\u001b[0mfig\u001b[0m\u001b[0;34m)\u001b[0m\u001b[0;34m\u001b[0m\u001b[0;34m\u001b[0m\u001b[0m\n",
      "\u001b[0;32m/opt/conda/lib/python3.7/site-packages/matplotlib/_pylab_helpers.py\u001b[0m in \u001b[0;36mdestroy_all\u001b[0;34m(cls)\u001b[0m\n\u001b[1;32m     74\u001b[0m         \u001b[0mcls\u001b[0m\u001b[0;34m.\u001b[0m\u001b[0m_activeQue\u001b[0m \u001b[0;34m=\u001b[0m \u001b[0;34m[\u001b[0m\u001b[0;34m]\u001b[0m\u001b[0;34m\u001b[0m\u001b[0;34m\u001b[0m\u001b[0m\n\u001b[1;32m     75\u001b[0m         \u001b[0mcls\u001b[0m\u001b[0;34m.\u001b[0m\u001b[0mfigs\u001b[0m\u001b[0;34m.\u001b[0m\u001b[0mclear\u001b[0m\u001b[0;34m(\u001b[0m\u001b[0;34m)\u001b[0m\u001b[0;34m\u001b[0m\u001b[0;34m\u001b[0m\u001b[0m\n\u001b[0;32m---> 76\u001b[0;31m         \u001b[0mgc\u001b[0m\u001b[0;34m.\u001b[0m\u001b[0mcollect\u001b[0m\u001b[0;34m(\u001b[0m\u001b[0;36m1\u001b[0m\u001b[0;34m)\u001b[0m\u001b[0;34m\u001b[0m\u001b[0;34m\u001b[0m\u001b[0m\n\u001b[0m\u001b[1;32m     77\u001b[0m \u001b[0;34m\u001b[0m\u001b[0m\n\u001b[1;32m     78\u001b[0m     \u001b[0;34m@\u001b[0m\u001b[0mclassmethod\u001b[0m\u001b[0;34m\u001b[0m\u001b[0;34m\u001b[0m\u001b[0m\n",
      "\u001b[0;31mKeyboardInterrupt\u001b[0m: "
     ]
    }
   ],
   "source": [
    "plot_train_val_loss(avg_losses, avg_val_losses)"
   ]
  },
  {
   "cell_type": "code",
   "execution_count": null,
   "metadata": {},
   "outputs": [],
   "source": [
    "torch.save(model.state_dict(), f'../models/{task_str}_{epochs}_epoch_state_dict.pth')"
   ]
  },
  {
   "cell_type": "code",
   "execution_count": null,
   "metadata": {},
   "outputs": [],
   "source": []
  }
 ],
 "metadata": {
  "interpreter": {
   "hash": "4c6f662cde1eb1592601abbdd2d729bcfa9367260f8aa16e06151e60a3b87cd8"
  },
  "kernelspec": {
   "display_name": "Python 3",
   "language": "python",
   "name": "python3"
  },
  "language_info": {
   "codemirror_mode": {
    "name": "ipython",
    "version": 3
   },
   "file_extension": ".py",
   "mimetype": "text/x-python",
   "name": "python",
   "nbconvert_exporter": "python",
   "pygments_lexer": "ipython3",
   "version": "3.7.6"
  }
 },
 "nbformat": 4,
 "nbformat_minor": 4
}

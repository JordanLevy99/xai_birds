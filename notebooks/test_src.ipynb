{
 "cells": [
  {
   "cell_type": "code",
   "execution_count": 1,
   "metadata": {},
   "outputs": [],
   "source": [
    "import sys\n",
    "sys.path.insert(0, '../src')\n",
    "from bird_dataset import *"
   ]
  },
  {
   "cell_type": "code",
   "execution_count": 2,
   "metadata": {},
   "outputs": [],
   "source": [
    "import os\n",
    "import torch\n",
    "import pandas as pd\n",
    "# from skimage import io, transform\n",
    "import numpy as np\n",
    "import matplotlib.pyplot as plt\n",
    "from torch.utils.data import Dataset, DataLoader\n",
    "from torchvision import transforms, utils, models\n",
    "import PIL.Image as Image\n",
    "import torch.nn as nn\n",
    "import torchvision\n",
    "import torch.optim as optim\n",
    "import sys\n",
    "from captum.attr import GuidedGradCam\n",
    "# import cv2\n",
    "from PIL import Image\n",
    "from matplotlib.colors import LinearSegmentedColormap\n",
    "from captum.attr import visualization as viz\n",
    "\n",
    "# sys.path.insert(0, '../src')\n",
    "from bird_dataset import *\n",
    "# from XAI_birds_dataloader import *\n",
    "from tqdm import tqdm\n",
    "from models.multi_task_model import *\n",
    "# from XAI_birds_dataloader import *\n",
    "from XAI_BirdAttribute_dataloader import *\n",
    "import pickle\n",
    "\n",
    "from download import *\n",
    "\n",
    "import shutil"
   ]
  },
  {
   "cell_type": "code",
   "execution_count": 3,
   "metadata": {},
   "outputs": [],
   "source": [
    "bd = BirdDataset(data_dir='../CUB_200_2011/', species_file='classes-families.txt', save=True, save_file='images-families.pkl', preload_dir='../processed_data/')"
   ]
  },
  {
   "cell_type": "code",
   "execution_count": null,
   "metadata": {},
   "outputs": [],
   "source": [
    "bd.fam[bd.bird_to_fam[bd.images[100]['filepath'].split('/')[0]]]"
   ]
  },
  {
   "cell_type": "code",
   "execution_count": null,
   "metadata": {},
   "outputs": [],
   "source": [
    "bird_names = pd.Series([i.split('_')[-1] for i in os.listdir('../CUB_200_2011/images')]).value_counts()\n",
    "bird_families = bird_names[bird_names > 1]\n",
    "bird_fam_dict = {i: i.split('_')[-1] for i in os.listdir('../CUB_200_2011/images')}\n",
    "fam_dict = dict(zip(bird_families.index, range(len(bird_families))))"
   ]
  },
  {
   "cell_type": "code",
   "execution_count": null,
   "metadata": {},
   "outputs": [],
   "source": [
    "species_file = [str(idx)+' '+str(j)+'\\n' for idx, j in enumerate([i for i in os.listdir('../CUB_200_2011/images') if bird_fam_dict[i] in bird_families.index])]"
   ]
  },
  {
   "cell_type": "code",
   "execution_count": null,
   "metadata": {},
   "outputs": [],
   "source": [
    "bird_names"
   ]
  },
  {
   "cell_type": "code",
   "execution_count": null,
   "metadata": {},
   "outputs": [],
   "source": [
    "name = 'families'\n",
    "with open(f'../CUB_200_2011/classes-{name}.txt', 'w') as f:\n",
    "    for spec in species_file:\n",
    "        f.write(spec)"
   ]
  },
  {
   "cell_type": "code",
   "execution_count": null,
   "metadata": {},
   "outputs": [],
   "source": [
    "len(bird_families)"
   ]
  },
  {
   "cell_type": "code",
   "execution_count": null,
   "metadata": {},
   "outputs": [],
   "source": [
    "# bird_names.reset_index()[pd.Series(bird_names.index).apply(lambda x: x[0].isalpha()==False)]"
   ]
  },
  {
   "cell_type": "code",
   "execution_count": null,
   "metadata": {},
   "outputs": [],
   "source": [
    "BirdDataset?"
   ]
  },
  {
   "cell_type": "code",
   "execution_count": null,
   "metadata": {},
   "outputs": [],
   "source": [
    "bd = BirdDataset(save=True, data_dir='../CUB_200_2011/', preload_dir='../processed_data/')"
   ]
  },
  {
   "cell_type": "code",
   "execution_count": null,
   "metadata": {},
   "outputs": [],
   "source": [
    "# class_labels = [bd.images[i]['class_label'] for i in bd.images]"
   ]
  },
  {
   "cell_type": "code",
   "execution_count": 3,
   "metadata": {},
   "outputs": [],
   "source": [
    "bd = BirdDataset(preload=True, data_dir='../CUB_200_2011/', species_file='classes-families.txt', preload_dir='../processed_data/', preload_file='images-families.pkl')"
   ]
  },
  {
   "cell_type": "code",
   "execution_count": 6,
   "metadata": {},
   "outputs": [],
   "source": [
    "# bd.images"
   ]
  },
  {
   "cell_type": "code",
   "execution_count": 7,
   "metadata": {},
   "outputs": [
    {
     "data": {
      "text/plain": [
       "'1.6.0+cu101'"
      ]
     },
     "execution_count": 7,
     "metadata": {},
     "output_type": "execute_result"
    }
   ],
   "source": [
    "torch.__version__"
   ]
  },
  {
   "cell_type": "code",
   "execution_count": null,
   "metadata": {},
   "outputs": [],
   "source": [
    "# tasks: [\"has_bill_shape\",\"has_wing_shape\", \"has_breast_pattern\"]"
   ]
  },
  {
   "cell_type": "code",
   "execution_count": 4,
   "metadata": {},
   "outputs": [],
   "source": [
    "# bd = BirdDataset(preload=True, attr_file='attributes')\n",
    "vgg16 = models.vgg16_bn(pretrained=True)\n",
    "trans = transforms.Compose([\n",
    "   transforms.Resize((224, 224)),\n",
    "   transforms.ToTensor()\n",
    "])\n",
    "\n",
    "full_dataset = Bird_Attribute_Loader(bd, attrs=None, verbose=False, species=True, transform=trans)\n",
    "np.random.seed(42)\n",
    "train_indices = np.random.choice(a=range(len(full_dataset)), size=int(0.8*len(full_dataset)), replace=False)\n",
    "val_indices = list(set(range(len(full_dataset))) - set(train_indices))\n",
    "train_bird_dataset = torch.utils.data.Subset(full_dataset, train_indices)\n",
    "val_bird_dataset = torch.utils.data.Subset(full_dataset, val_indices)\n",
    "# train_bird_dataset = Bird_Attribute_Loader(bd, attrs=None, verbose=True, species=True, transform=trans, train=True)\n",
    "# val_bird_dataset = Bird_Attribute_Loader(bd, attrs=None, verbose=True, species=True, transform=trans, train=False, val=True)\n",
    "model = MultiTaskModel(vgg16, full_dataset)\n",
    "loss_func = MultiTaskLossWrapper(full_dataset)"
   ]
  },
  {
   "cell_type": "code",
   "execution_count": 6,
   "metadata": {
    "scrolled": true
   },
   "outputs": [],
   "source": [
    "# model"
   ]
  },
  {
   "cell_type": "code",
   "execution_count": null,
   "metadata": {},
   "outputs": [
    {
     "name": "stderr",
     "output_type": "stream",
     "text": [
      " 49%|████▉     | 5810/11780 [00:42<00:47, 125.11it/s]"
     ]
    }
   ],
   "source": [
    "for i in tqdm(full_dataset):\n",
    "    pass\n",
    "#     print(i['labels'])"
   ]
  },
  {
   "cell_type": "code",
   "execution_count": 14,
   "metadata": {},
   "outputs": [
    {
     "data": {
      "text/plain": [
       "tensor([[  5,   3,   3,   0],\n",
       "        [  6,   3,   3, 169]])"
      ]
     },
     "execution_count": 14,
     "metadata": {},
     "output_type": "execute_result"
    }
   ],
   "source": [
    "torch.LongTensor([val_bird_dataset[0]['labels'] , val_bird_dataset[1]['labels']])"
   ]
  },
  {
   "cell_type": "code",
   "execution_count": 23,
   "metadata": {},
   "outputs": [],
   "source": [
    "# def _filter_images_by_attributes():\n",
    "#         filt_images = []\n",
    "#         attr_indices = []\n",
    "#         for i, img in enumerate(full_dataset.images):\n",
    "#             check=0\n",
    "#             attr_index = []\n",
    "#             attrs = []\n",
    "            \n",
    "#             for idx, attr in enumerate(img['attributes']):\n",
    "#                 if isinstance(full_dataset.attrs, str):\n",
    "#                     if full_dataset.attrs in attr:\n",
    "#                         filt_images.append(img)\n",
    "#                         attr_indices.append(idx)\n",
    "#                         break\n",
    "#                 elif isinstance(full_dataset.attrs, list):\n",
    "#                     for attribute in full_dataset.attrs:\n",
    "#                         if attribute in attr:\n",
    "#                             check+=1\n",
    "#                             attr_index.append(idx)\n",
    "#                             attrs.append(attr)\n",
    "#                 else: raise(ValueError, \"self.attrs must be a string or a list of strings\")\n",
    "#             if check==len(full_dataset.attrs): # only append to images/indices if all attributes in self.attrs are in the images attributes\n",
    "#                 unique_attrs = [attr.split('::')[0] for attr in attrs]\n",
    "#                 if len(set(unique_attrs)) == len(full_dataset.attrs):\n",
    "#                     img['attrs'] = attrs\n",
    "#                     filt_images.append(img)\n",
    "#                     attr_indices.append((list(attr_index)))\n",
    "# #                 else: print(\"Attributes aren't unique:\",attr)\n",
    "#         return filt_images, attr_indices"
   ]
  },
  {
   "cell_type": "code",
   "execution_count": 24,
   "metadata": {},
   "outputs": [
    {
     "data": {
      "text/plain": [
       "{'image': tensor([[[0.5569, 0.5451, 0.5216,  ..., 0.6353, 0.5961, 0.5765],\n",
       "          [0.5451, 0.5294, 0.4980,  ..., 0.6431, 0.5922, 0.5569],\n",
       "          [0.5216, 0.5137, 0.4549,  ..., 0.6392, 0.5843, 0.5412],\n",
       "          ...,\n",
       "          [0.0314, 0.0196, 0.0157,  ..., 0.3882, 0.4039, 0.4118],\n",
       "          [0.0235, 0.0196, 0.0157,  ..., 0.3843, 0.4000, 0.4118],\n",
       "          [0.0157, 0.0157, 0.0196,  ..., 0.3922, 0.4078, 0.4157]],\n",
       " \n",
       "         [[0.5098, 0.4902, 0.4824,  ..., 0.6510, 0.6118, 0.5882],\n",
       "          [0.4980, 0.4941, 0.4588,  ..., 0.6588, 0.6157, 0.5804],\n",
       "          [0.4784, 0.4824, 0.4275,  ..., 0.6588, 0.6078, 0.5608],\n",
       "          ...,\n",
       "          [0.0392, 0.0235, 0.0196,  ..., 0.3882, 0.4000, 0.4157],\n",
       "          [0.0353, 0.0235, 0.0196,  ..., 0.3882, 0.4000, 0.4157],\n",
       "          [0.0275, 0.0235, 0.0235,  ..., 0.3882, 0.4000, 0.4157]],\n",
       " \n",
       "         [[0.4431, 0.4588, 0.4706,  ..., 0.4824, 0.4353, 0.4078],\n",
       "          [0.4510, 0.4706, 0.4588,  ..., 0.4824, 0.4392, 0.4078],\n",
       "          [0.4549, 0.4667, 0.4157,  ..., 0.4941, 0.4431, 0.4039],\n",
       "          ...,\n",
       "          [0.0588, 0.0431, 0.0314,  ..., 0.2627, 0.2667, 0.2549],\n",
       "          [0.0549, 0.0431, 0.0353,  ..., 0.2549, 0.2667, 0.2627],\n",
       "          [0.0431, 0.0392, 0.0431,  ..., 0.2588, 0.2706, 0.2784]]]),\n",
       " 'labels': [6, 3, 3, 175]}"
      ]
     },
     "execution_count": 24,
     "metadata": {},
     "output_type": "execute_result"
    }
   ],
   "source": [
    "train_bird_dataset[0]"
   ]
  },
  {
   "cell_type": "code",
   "execution_count": 25,
   "metadata": {},
   "outputs": [],
   "source": [
    "# sum(['has_wing_shape' in full_dataset.bd.images[key]['attributes'][i] for key in full_dataset.bd.images.keys() for i in range(len(full_dataset.bd.images[key]['attributes']))])"
   ]
  },
  {
   "cell_type": "code",
   "execution_count": 26,
   "metadata": {},
   "outputs": [],
   "source": [
    "# len(full_dataset.bd.images)"
   ]
  },
  {
   "cell_type": "code",
   "execution_count": 21,
   "metadata": {},
   "outputs": [],
   "source": [
    "valloader = DataLoader(val_bird_dataset, batch_size=4)"
   ]
  },
  {
   "cell_type": "code",
   "execution_count": 26,
   "metadata": {},
   "outputs": [
    {
     "name": "stderr",
     "output_type": "stream",
     "text": [
      "  0%|          | 0/589 [00:00<?, ?it/s]"
     ]
    },
    {
     "name": "stdout",
     "output_type": "stream",
     "text": [
      "tensor([  0, 139, 139,   0], device='cuda:0')\n",
      "[tensor([ 18,  88, 139,  13], device='cuda:0')]\n",
      "1\n"
     ]
    },
    {
     "name": "stderr",
     "output_type": "stream",
     "text": [
      "\n"
     ]
    }
   ],
   "source": [
    "with torch.no_grad():\n",
    "    num_correct=0\n",
    "    val_losses = []\n",
    "    data_iter = iter(valloader)\n",
    "    for val_data in tqdm(data_iter):\n",
    "        val_inputs, val_labels = val_data['image'].cuda(), torch.LongTensor(val_data['labels']).cuda()\n",
    "        val_outputs = model(val_inputs)\n",
    "#         opt.zero_grad() # zero the parameter gradients\n",
    "        val_predicted = [torch.max(i, 1)[1] for i in val_outputs]\n",
    "        num_correct += sum(np.array(val_labels.cpu()).flatten()==np.array(val_predicted[0].cpu()).flatten())\n",
    "        print(val_labels)\n",
    "        print(val_predicted)\n",
    "        print(num_correct)        \n",
    "        break\n",
    "        val_losses.append(loss_func(val_outputs, val_labels).item())\n"
   ]
  },
  {
   "cell_type": "code",
   "execution_count": null,
   "metadata": {},
   "outputs": [],
   "source": []
  },
  {
   "cell_type": "code",
   "execution_count": 51,
   "metadata": {},
   "outputs": [],
   "source": [
    "train_data = iter(DataLoader(train_bird_dataset, batch_size=4))"
   ]
  },
  {
   "cell_type": "code",
   "execution_count": 52,
   "metadata": {},
   "outputs": [],
   "source": [
    "val_data = iter(DataLoader(val_bird_dataset))"
   ]
  },
  {
   "cell_type": "code",
   "execution_count": 53,
   "metadata": {},
   "outputs": [
    {
     "name": "stdout",
     "output_type": "stream",
     "text": [
      "<torch.utils.data.dataloader._SingleProcessDataLoaderIter object at 0x7f8162a45f50>\n"
     ]
    }
   ],
   "source": [
    "print(val_data)"
   ]
  },
  {
   "cell_type": "code",
   "execution_count": 54,
   "metadata": {},
   "outputs": [],
   "source": [
    "torch.utils.data.random_split?"
   ]
  },
  {
   "cell_type": "code",
   "execution_count": 55,
   "metadata": {},
   "outputs": [],
   "source": [
    "train_size = int(0.8*len(full_dataset))\n",
    "test_size = int(0.2*len(full_dataset))+1"
   ]
  },
  {
   "cell_type": "code",
   "execution_count": 63,
   "metadata": {},
   "outputs": [],
   "source": [
    "train_dataset, test_dataset = torch.utils.data.random_split(full_dataset, [train_size, test_size], generator=torch.Generator().manual_seed(42) )"
   ]
  },
  {
   "cell_type": "code",
   "execution_count": 64,
   "metadata": {},
   "outputs": [],
   "source": [
    "train_data = DataLoader(train_dataset, batch_size=4)"
   ]
  },
  {
   "cell_type": "code",
   "execution_count": 65,
   "metadata": {},
   "outputs": [],
   "source": [
    "d = iter(train_data)"
   ]
  },
  {
   "cell_type": "code",
   "execution_count": 66,
   "metadata": {},
   "outputs": [
    {
     "data": {
      "text/plain": [
       "<torch.utils.data.dataloader._SingleProcessDataLoaderIter at 0x7f8161bc0c10>"
      ]
     },
     "execution_count": 66,
     "metadata": {},
     "output_type": "execute_result"
    }
   ],
   "source": [
    "d"
   ]
  },
  {
   "cell_type": "code",
   "execution_count": 47,
   "metadata": {},
   "outputs": [
    {
     "ename": "NameError",
     "evalue": "name 'val_data' is not defined",
     "output_type": "error",
     "traceback": [
      "\u001b[0;31m---------------------------------------------------------------------------\u001b[0m",
      "\u001b[0;31mNameError\u001b[0m                                 Traceback (most recent call last)",
      "\u001b[0;32m<ipython-input-47-0471e923895e>\u001b[0m in \u001b[0;36m<module>\u001b[0;34m\u001b[0m\n\u001b[0;32m----> 1\u001b[0;31m \u001b[0;34m(\u001b[0m\u001b[0mval_data\u001b[0m\u001b[0;34m)\u001b[0m\u001b[0;34m\u001b[0m\u001b[0;34m\u001b[0m\u001b[0m\n\u001b[0m",
      "\u001b[0;31mNameError\u001b[0m: name 'val_data' is not defined"
     ]
    }
   ],
   "source": [
    "(val_data)"
   ]
  },
  {
   "cell_type": "code",
   "execution_count": 67,
   "metadata": {},
   "outputs": [
    {
     "data": {
      "text/plain": [
       "[<torch.utils.data.dataset.Subset at 0x7f8161c84d10>,\n",
       " <torch.utils.data.dataset.Subset at 0x7f8161c84d90>]"
      ]
     },
     "execution_count": 67,
     "metadata": {},
     "output_type": "execute_result"
    }
   ],
   "source": [
    "torch.utils.data.random_split(range(10), [3, 7], generator=torch.Generator().manual_seed(42))"
   ]
  },
  {
   "cell_type": "code",
   "execution_count": 70,
   "metadata": {
    "scrolled": true
   },
   "outputs": [
    {
     "name": "stdout",
     "output_type": "stream",
     "text": [
      "{'image': tensor([[[[0.8078, 0.8118, 0.8157,  ..., 0.4510, 0.4431, 0.4431],\n",
      "          [0.8078, 0.8078, 0.8118,  ..., 0.4510, 0.4471, 0.4471],\n",
      "          [0.8078, 0.8118, 0.8118,  ..., 0.4471, 0.4431, 0.4431],\n",
      "          ...,\n",
      "          [0.4706, 0.5725, 0.6157,  ..., 0.5373, 0.5373, 0.5373],\n",
      "          [0.4471, 0.4510, 0.4588,  ..., 0.5373, 0.5373, 0.5373],\n",
      "          [0.4549, 0.4510, 0.4510,  ..., 0.5451, 0.5451, 0.5451]],\n",
      "\n",
      "         [[0.8706, 0.8745, 0.8784,  ..., 0.4980, 0.4902, 0.4902],\n",
      "          [0.8706, 0.8706, 0.8706,  ..., 0.4980, 0.4941, 0.4941],\n",
      "          [0.8706, 0.8745, 0.8745,  ..., 0.4941, 0.4902, 0.4902],\n",
      "          ...,\n",
      "          [0.5882, 0.6627, 0.6941,  ..., 0.5804, 0.5804, 0.5804],\n",
      "          [0.5765, 0.5804, 0.5804,  ..., 0.5804, 0.5804, 0.5804],\n",
      "          [0.5882, 0.5843, 0.5843,  ..., 0.5882, 0.5882, 0.5882]],\n",
      "\n",
      "         [[0.4863, 0.4902, 0.4980,  ..., 0.2431, 0.2392, 0.2392],\n",
      "          [0.4863, 0.4863, 0.4902,  ..., 0.2392, 0.2353, 0.2353],\n",
      "          [0.4863, 0.4902, 0.4941,  ..., 0.2314, 0.2314, 0.2314],\n",
      "          ...,\n",
      "          [0.0588, 0.2980, 0.4118,  ..., 0.3451, 0.3451, 0.3451],\n",
      "          [0.0353, 0.0471, 0.0784,  ..., 0.3451, 0.3529, 0.3529],\n",
      "          [0.0196, 0.0196, 0.0235,  ..., 0.3529, 0.3608, 0.3608]]],\n",
      "\n",
      "\n",
      "        [[[0.5137, 0.5137, 0.5216,  ..., 0.4784, 0.4784, 0.4824],\n",
      "          [0.5020, 0.5020, 0.5059,  ..., 0.4784, 0.4745, 0.4784],\n",
      "          [0.4980, 0.4980, 0.4980,  ..., 0.4784, 0.4824, 0.4824],\n",
      "          ...,\n",
      "          [0.1608, 0.0863, 0.0471,  ..., 0.3176, 0.2824, 0.2745],\n",
      "          [0.1961, 0.1137, 0.0980,  ..., 0.2980, 0.2627, 0.2863],\n",
      "          [0.1412, 0.1373, 0.0902,  ..., 0.1686, 0.1608, 0.2078]],\n",
      "\n",
      "         [[0.5137, 0.5098, 0.5137,  ..., 0.4706, 0.4745, 0.4784],\n",
      "          [0.4980, 0.4980, 0.5020,  ..., 0.4706, 0.4667, 0.4706],\n",
      "          [0.4941, 0.4941, 0.4941,  ..., 0.4706, 0.4745, 0.4745],\n",
      "          ...,\n",
      "          [0.1608, 0.0824, 0.0510,  ..., 0.2706, 0.2471, 0.2431],\n",
      "          [0.1922, 0.1020, 0.1059,  ..., 0.2784, 0.2392, 0.2706],\n",
      "          [0.1529, 0.1294, 0.0980,  ..., 0.1608, 0.1569, 0.2078]],\n",
      "\n",
      "         [[0.5255, 0.5255, 0.5294,  ..., 0.5137, 0.5098, 0.5059],\n",
      "          [0.5255, 0.5216, 0.5255,  ..., 0.5137, 0.5176, 0.5176],\n",
      "          [0.5216, 0.5216, 0.5176,  ..., 0.5137, 0.5176, 0.5255],\n",
      "          ...,\n",
      "          [0.1333, 0.0549, 0.0314,  ..., 0.1608, 0.1373, 0.1451],\n",
      "          [0.1451, 0.0510, 0.0627,  ..., 0.1765, 0.1882, 0.2157],\n",
      "          [0.1098, 0.0745, 0.0392,  ..., 0.1176, 0.1333, 0.1922]]],\n",
      "\n",
      "\n",
      "        [[[0.0118, 0.0157, 0.0314,  ..., 0.0314, 0.0118, 0.0039],\n",
      "          [0.0118, 0.1882, 0.6235,  ..., 0.6275, 0.1843, 0.0078],\n",
      "          [0.0078, 0.2706, 0.7882,  ..., 0.7765, 0.2627, 0.0078],\n",
      "          ...,\n",
      "          [0.0078, 0.2627, 0.6588,  ..., 0.7294, 0.2627, 0.0078],\n",
      "          [0.0118, 0.1843, 0.6039,  ..., 0.6157, 0.1882, 0.0078],\n",
      "          [0.0078, 0.0118, 0.0275,  ..., 0.0235, 0.0118, 0.0078]],\n",
      "\n",
      "         [[0.0118, 0.0157, 0.0314,  ..., 0.0275, 0.0196, 0.0039],\n",
      "          [0.0118, 0.1882, 0.6235,  ..., 0.6275, 0.1922, 0.0039],\n",
      "          [0.0078, 0.2667, 0.7569,  ..., 0.7686, 0.2667, 0.0078],\n",
      "          ...,\n",
      "          [0.0039, 0.2627, 0.6941,  ..., 0.7294, 0.2667, 0.0078],\n",
      "          [0.0118, 0.1882, 0.6118,  ..., 0.6196, 0.1882, 0.0078],\n",
      "          [0.0078, 0.0118, 0.0275,  ..., 0.0235, 0.0118, 0.0078]],\n",
      "\n",
      "         [[0.0118, 0.0157, 0.0275,  ..., 0.0196, 0.0235, 0.0039],\n",
      "          [0.0078, 0.1843, 0.6157,  ..., 0.5804, 0.1843, 0.0118],\n",
      "          [0.0157, 0.2549, 0.7176,  ..., 0.5765, 0.2549, 0.0118],\n",
      "          ...,\n",
      "          [0.0196, 0.2627, 0.5725,  ..., 0.6078, 0.2549, 0.0078],\n",
      "          [0.0118, 0.1843, 0.5843,  ..., 0.5922, 0.1882, 0.0078],\n",
      "          [0.0078, 0.0118, 0.0235,  ..., 0.0235, 0.0118, 0.0078]]],\n",
      "\n",
      "\n",
      "        [[[0.8431, 0.8431, 0.8471,  ..., 0.8353, 0.8392, 0.8431],\n",
      "          [0.8431, 0.8471, 0.8431,  ..., 0.8431, 0.8471, 0.8392],\n",
      "          [0.8431, 0.8471, 0.8353,  ..., 0.8392, 0.8431, 0.8392],\n",
      "          ...,\n",
      "          [0.6353, 0.7608, 0.8196,  ..., 0.1529, 0.1647, 0.2039],\n",
      "          [0.4863, 0.6627, 0.7725,  ..., 0.1608, 0.1647, 0.2000],\n",
      "          [0.4039, 0.5412, 0.7020,  ..., 0.1647, 0.1725, 0.2078]],\n",
      "\n",
      "         [[0.8078, 0.8078, 0.8118,  ..., 0.8000, 0.8039, 0.8078],\n",
      "          [0.8078, 0.8118, 0.8078,  ..., 0.8078, 0.8118, 0.8039],\n",
      "          [0.8078, 0.8118, 0.8000,  ..., 0.8039, 0.8078, 0.8039],\n",
      "          ...,\n",
      "          [0.6235, 0.7490, 0.7922,  ..., 0.1137, 0.1216, 0.1608],\n",
      "          [0.4824, 0.6510, 0.7451,  ..., 0.1255, 0.1294, 0.1686],\n",
      "          [0.3608, 0.4941, 0.6549,  ..., 0.1294, 0.1373, 0.1765]],\n",
      "\n",
      "         [[0.8275, 0.8275, 0.8314,  ..., 0.8196, 0.8235, 0.8275],\n",
      "          [0.8275, 0.8314, 0.8275,  ..., 0.8275, 0.8314, 0.8235],\n",
      "          [0.8275, 0.8314, 0.8196,  ..., 0.8235, 0.8275, 0.8235],\n",
      "          ...,\n",
      "          [0.6000, 0.7294, 0.7922,  ..., 0.0824, 0.0941, 0.1412],\n",
      "          [0.4471, 0.6275, 0.7412,  ..., 0.0902, 0.0941, 0.1255],\n",
      "          [0.3412, 0.4863, 0.6510,  ..., 0.0941, 0.0980, 0.1333]]]]), 'labels': [tensor([6, 6, 6, 7]), tensor([3, 0, 0, 1]), tensor([2, 0, 3, 1]), tensor([151,  59, 191, 119])]}\n"
     ]
    }
   ],
   "source": [
    "for data in train_data:\n",
    "    x = data\n",
    "    print(data)\n",
    "    break"
   ]
  },
  {
   "cell_type": "code",
   "execution_count": 73,
   "metadata": {},
   "outputs": [
    {
     "data": {
      "text/plain": [
       "tensor([[  6,   6,   6,   7],\n",
       "        [  3,   0,   0,   1],\n",
       "        [  2,   0,   3,   1],\n",
       "        [151,  59, 191, 119]])"
      ]
     },
     "execution_count": 73,
     "metadata": {},
     "output_type": "execute_result"
    }
   ],
   "source": [
    "torch.stack(x['labels'])"
   ]
  },
  {
   "cell_type": "code",
   "execution_count": null,
   "metadata": {},
   "outputs": [],
   "source": []
  },
  {
   "cell_type": "code",
   "execution_count": 69,
   "metadata": {},
   "outputs": [],
   "source": [
    "# len([i['image_id'] for i in train_bird_dataset.images])# + len([i['image_id'] for i in val_bird_dataset.images])"
   ]
  },
  {
   "cell_type": "code",
   "execution_count": 11,
   "metadata": {},
   "outputs": [
    {
     "data": {
      "text/plain": [
       "11780"
      ]
     },
     "execution_count": 11,
     "metadata": {},
     "output_type": "execute_result"
    }
   ],
   "source": [
    "len(((set([i['image_id'] for i in train_bird_dataset.dataset.images]).intersection(set([i['image_id'] for i in val_bird_dataset.dataset.images])))))"
   ]
  },
  {
   "cell_type": "code",
   "execution_count": 12,
   "metadata": {},
   "outputs": [],
   "source": [
    "# (set([i['image_id'] for i in train_bird_dataset.images])) - len((set([i['image_id'] for i in train_bird_dataset.images])-(set([i['image_id'] for i in val_bird_dataset.images]))))"
   ]
  },
  {
   "cell_type": "code",
   "execution_count": 13,
   "metadata": {},
   "outputs": [],
   "source": [
    "# len(set([i['image_id'] for i in val_bird_dataset.images]))"
   ]
  },
  {
   "cell_type": "markdown",
   "metadata": {},
   "source": [
    "# Multi-Task Training"
   ]
  },
  {
   "cell_type": "code",
   "execution_count": 5,
   "metadata": {},
   "outputs": [],
   "source": [
    "from multi_task_training import *"
   ]
  },
  {
   "cell_type": "code",
   "execution_count": 6,
   "metadata": {
    "scrolled": true
   },
   "outputs": [
    {
     "name": "stdout",
     "output_type": "stream",
     "text": [
      "cuda:0\n",
      "species__family\n"
     ]
    }
   ],
   "source": [
    "mtt = MultiTaskTraining(model, train_bird_dataset, val_bird_dataset, loss_func, epochs=50, lr=0.0001, patience=7, batch_size=1)"
   ]
  },
  {
   "cell_type": "code",
   "execution_count": null,
   "metadata": {},
   "outputs": [],
   "source": [
    "loss = sum([nn.CrossEntropyLoss()(preds[i].reshape(1, -1), labels[i].reshape(len(self.dataset.class_dict))) for i in range(len(preds))])"
   ]
  },
  {
   "cell_type": "code",
   "execution_count": 12,
   "metadata": {},
   "outputs": [
    {
     "data": {
      "text/plain": [
       "torch.Size([2])"
      ]
     },
     "execution_count": 12,
     "metadata": {},
     "output_type": "execute_result"
    }
   ],
   "source": [
    "torch.Tensor([[63,  0]])[0].size()"
   ]
  },
  {
   "cell_type": "code",
   "execution_count": 7,
   "metadata": {},
   "outputs": [
    {
     "name": "stderr",
     "output_type": "stream",
     "text": [
      "0it [00:00, ?it/s]\n"
     ]
    },
    {
     "name": "stdout",
     "output_type": "stream",
     "text": [
      "LABELS: tensor([[127,  33]])\n",
      "PREDICTIONS: (tensor([[ 1.1869,  0.2762,  0.0607,  0.0169,  0.3121,  0.5991,  1.4568,  0.0127,\n",
      "         -1.2741, -0.9705,  0.8816, -0.4713, -0.2603, -0.8248, -0.3904,  1.0208,\n",
      "         -2.0527, -0.2700,  0.1863, -0.8016,  0.5367,  1.0074,  1.1655, -0.0029,\n",
      "          0.1828,  1.0523,  1.0362,  2.2917, -0.6803,  0.0062,  0.7945,  0.9544,\n",
      "          0.7100, -0.0393, -0.5320, -0.4488,  0.6781, -1.3071,  1.9142, -0.3373,\n",
      "          0.1754,  0.5911,  0.3595,  1.9886,  0.2337,  1.2409,  0.1150, -1.0193,\n",
      "         -1.2040, -0.2438, -1.3085,  2.1871,  0.7250, -0.3577, -0.7577, -0.2432,\n",
      "          1.0317, -0.1090,  1.0346, -0.5093,  0.0993,  0.8481, -1.2935,  1.0787,\n",
      "          1.0066,  0.0242, -0.6231,  1.2199,  1.1260, -0.1601,  0.2833,  0.6249,\n",
      "         -0.6106,  0.5875,  0.8174, -0.2295,  0.1111,  0.0543, -0.1930,  1.6079,\n",
      "          1.0507, -0.4968,  1.0142, -0.3443,  0.9901, -0.3888, -0.0792,  1.3265,\n",
      "          0.7907, -1.0578, -1.1052,  1.0357,  0.7055, -1.9441,  0.1276,  0.0523,\n",
      "          1.1621,  0.3972, -0.5751,  1.0747,  0.3150, -1.0295,  0.1213,  0.7454,\n",
      "         -1.6437,  0.0204, -0.2119,  1.1602,  1.5212, -0.6387,  1.0592,  0.7707,\n",
      "          0.9550,  1.3570,  0.4136,  0.8911, -2.0689, -0.5047, -0.0333, -0.3945,\n",
      "         -0.2801, -1.4816,  1.7129,  0.8462, -0.3679,  0.8326, -0.6657, -1.2380,\n",
      "          1.9959,  0.6129,  0.3176, -1.4203,  1.7934, -0.3935,  0.3392, -0.7751,\n",
      "         -0.4848, -0.9659,  0.7241, -2.0167, -0.0574,  1.3347, -0.3264,  0.3838,\n",
      "         -0.0077, -0.5219,  1.0280, -1.5264, -0.7352,  0.8272, -0.0122,  0.1967,\n",
      "         -0.7169, -0.2281,  0.4503, -1.4874, -1.6892,  0.3593,  0.3249, -0.1760,\n",
      "          0.1281,  1.0607,  0.0823,  1.4621,  0.8351,  0.0998,  0.7041]],\n",
      "       device='cuda:0', grad_fn=<AddmmBackward>), tensor([[-0.8208, -1.1091,  1.8163,  0.0419, -0.0108,  0.8940, -0.2846,  1.1337,\n",
      "          0.8812,  0.0467, -0.9123, -0.1477,  0.9691, -0.7745, -0.4841,  0.4634,\n",
      "          0.1524, -1.1871, -0.3732, -0.8735,  0.2255,  0.6910,  0.7684,  1.1378,\n",
      "         -0.3696,  0.5351,  1.0507,  0.3573,  0.3213,  0.6863, -0.8854,  0.0889,\n",
      "          0.9766, -0.0545,  1.1965,  0.2842,  0.5468]], device='cuda:0',\n",
      "       grad_fn=<AddmmBackward>))\n",
      "LABELS: tensor([[127,  33]], device='cuda:0')\n"
     ]
    },
    {
     "ename": "IndexError",
     "evalue": "dimension specified as 0 but tensor has no dimensions",
     "output_type": "error",
     "traceback": [
      "\u001b[0;31m---------------------------------------------------------------------------\u001b[0m",
      "\u001b[0;31mIndexError\u001b[0m                                Traceback (most recent call last)",
      "\u001b[0;32m<ipython-input-7-1779c5b99abd>\u001b[0m in \u001b[0;36m<module>\u001b[0;34m\u001b[0m\n\u001b[0;32m----> 1\u001b[0;31m \u001b[0mmtt\u001b[0m\u001b[0;34m.\u001b[0m\u001b[0mtrain\u001b[0m\u001b[0;34m(\u001b[0m\u001b[0;34m)\u001b[0m\u001b[0;34m\u001b[0m\u001b[0;34m\u001b[0m\u001b[0m\n\u001b[0m",
      "\u001b[0;32m~/xai_birds/src/multi_task_training.py\u001b[0m in \u001b[0;36mtrain\u001b[0;34m(self)\u001b[0m\n\u001b[1;32m     84\u001b[0m                 \u001b[0;31m# print(\"OUTPUTS:\",outputs)\u001b[0m\u001b[0;34m\u001b[0m\u001b[0;34m\u001b[0m\u001b[0;34m\u001b[0m\u001b[0m\n\u001b[1;32m     85\u001b[0m                 \u001b[0;31m# break\u001b[0m\u001b[0;34m\u001b[0m\u001b[0;34m\u001b[0m\u001b[0;34m\u001b[0m\u001b[0m\n\u001b[0;32m---> 86\u001b[0;31m                 \u001b[0mloss\u001b[0m \u001b[0;34m=\u001b[0m \u001b[0mself\u001b[0m\u001b[0;34m.\u001b[0m\u001b[0mloss_func\u001b[0m\u001b[0;34m(\u001b[0m\u001b[0moutputs\u001b[0m\u001b[0;34m,\u001b[0m \u001b[0mlabels\u001b[0m\u001b[0;34m)\u001b[0m\u001b[0;34m\u001b[0m\u001b[0;34m\u001b[0m\u001b[0m\n\u001b[0m\u001b[1;32m     87\u001b[0m                 \u001b[0;31m# print(loss)\u001b[0m\u001b[0;34m\u001b[0m\u001b[0;34m\u001b[0m\u001b[0;34m\u001b[0m\u001b[0m\n\u001b[1;32m     88\u001b[0m                 \u001b[0;31m# Backward step.\u001b[0m\u001b[0;34m\u001b[0m\u001b[0;34m\u001b[0m\u001b[0;34m\u001b[0m\u001b[0m\n",
      "\u001b[0;32m/datasets/home/41/641/jdlevy/.conda/envs/torchgeo/lib/python3.7/site-packages/torch/nn/modules/module.py\u001b[0m in \u001b[0;36m_call_impl\u001b[0;34m(self, *input, **kwargs)\u001b[0m\n\u001b[1;32m    720\u001b[0m             \u001b[0mresult\u001b[0m \u001b[0;34m=\u001b[0m \u001b[0mself\u001b[0m\u001b[0;34m.\u001b[0m\u001b[0m_slow_forward\u001b[0m\u001b[0;34m(\u001b[0m\u001b[0;34m*\u001b[0m\u001b[0minput\u001b[0m\u001b[0;34m,\u001b[0m \u001b[0;34m**\u001b[0m\u001b[0mkwargs\u001b[0m\u001b[0;34m)\u001b[0m\u001b[0;34m\u001b[0m\u001b[0;34m\u001b[0m\u001b[0m\n\u001b[1;32m    721\u001b[0m         \u001b[0;32melse\u001b[0m\u001b[0;34m:\u001b[0m\u001b[0;34m\u001b[0m\u001b[0;34m\u001b[0m\u001b[0m\n\u001b[0;32m--> 722\u001b[0;31m             \u001b[0mresult\u001b[0m \u001b[0;34m=\u001b[0m \u001b[0mself\u001b[0m\u001b[0;34m.\u001b[0m\u001b[0mforward\u001b[0m\u001b[0;34m(\u001b[0m\u001b[0;34m*\u001b[0m\u001b[0minput\u001b[0m\u001b[0;34m,\u001b[0m \u001b[0;34m**\u001b[0m\u001b[0mkwargs\u001b[0m\u001b[0;34m)\u001b[0m\u001b[0;34m\u001b[0m\u001b[0;34m\u001b[0m\u001b[0m\n\u001b[0m\u001b[1;32m    723\u001b[0m         for hook in itertools.chain(\n\u001b[1;32m    724\u001b[0m                 \u001b[0m_global_forward_hooks\u001b[0m\u001b[0;34m.\u001b[0m\u001b[0mvalues\u001b[0m\u001b[0;34m(\u001b[0m\u001b[0;34m)\u001b[0m\u001b[0;34m,\u001b[0m\u001b[0;34m\u001b[0m\u001b[0;34m\u001b[0m\u001b[0m\n",
      "\u001b[0;32m~/xai_birds/src/models/multi_task_model.py\u001b[0m in \u001b[0;36mforward\u001b[0;34m(self, preds, labels)\u001b[0m\n\u001b[1;32m     67\u001b[0m         \u001b[0mprint\u001b[0m\u001b[0;34m(\u001b[0m\u001b[0;34m\"LABELS:\"\u001b[0m\u001b[0;34m,\u001b[0m\u001b[0mlabels\u001b[0m\u001b[0;34m)\u001b[0m\u001b[0;34m\u001b[0m\u001b[0;34m\u001b[0m\u001b[0m\n\u001b[1;32m     68\u001b[0m \u001b[0;34m\u001b[0m\u001b[0m\n\u001b[0;32m---> 69\u001b[0;31m         \u001b[0mloss\u001b[0m \u001b[0;34m=\u001b[0m \u001b[0msum\u001b[0m\u001b[0;34m(\u001b[0m\u001b[0;34m[\u001b[0m\u001b[0mnn\u001b[0m\u001b[0;34m.\u001b[0m\u001b[0mCrossEntropyLoss\u001b[0m\u001b[0;34m(\u001b[0m\u001b[0;34m)\u001b[0m\u001b[0;34m(\u001b[0m\u001b[0mpreds\u001b[0m\u001b[0;34m[\u001b[0m\u001b[0mi\u001b[0m\u001b[0;34m]\u001b[0m\u001b[0;34m,\u001b[0m \u001b[0mlabels\u001b[0m\u001b[0;34m[\u001b[0m\u001b[0;36m0\u001b[0m\u001b[0;34m]\u001b[0m\u001b[0;34m[\u001b[0m\u001b[0mi\u001b[0m\u001b[0;34m]\u001b[0m\u001b[0;34m)\u001b[0m \u001b[0;32mfor\u001b[0m \u001b[0mi\u001b[0m \u001b[0;32min\u001b[0m \u001b[0mrange\u001b[0m\u001b[0;34m(\u001b[0m\u001b[0mlen\u001b[0m\u001b[0;34m(\u001b[0m\u001b[0mpreds\u001b[0m\u001b[0;34m)\u001b[0m\u001b[0;34m)\u001b[0m\u001b[0;34m]\u001b[0m\u001b[0;34m)\u001b[0m\u001b[0;34m\u001b[0m\u001b[0;34m\u001b[0m\u001b[0m\n\u001b[0m\u001b[1;32m     70\u001b[0m \u001b[0;34m\u001b[0m\u001b[0m\n\u001b[1;32m     71\u001b[0m         \u001b[0;31m#         loss = sum([nn.CrossEntropyLoss()(preds[i].reshape(1, -1), labels[i].reshape(len(self.dataset.class_dict))) for i in range(len(preds))])\u001b[0m\u001b[0;34m\u001b[0m\u001b[0;34m\u001b[0m\u001b[0;34m\u001b[0m\u001b[0m\n",
      "\u001b[0;32m~/xai_birds/src/models/multi_task_model.py\u001b[0m in \u001b[0;36m<listcomp>\u001b[0;34m(.0)\u001b[0m\n\u001b[1;32m     67\u001b[0m         \u001b[0mprint\u001b[0m\u001b[0;34m(\u001b[0m\u001b[0;34m\"LABELS:\"\u001b[0m\u001b[0;34m,\u001b[0m\u001b[0mlabels\u001b[0m\u001b[0;34m)\u001b[0m\u001b[0;34m\u001b[0m\u001b[0;34m\u001b[0m\u001b[0m\n\u001b[1;32m     68\u001b[0m \u001b[0;34m\u001b[0m\u001b[0m\n\u001b[0;32m---> 69\u001b[0;31m         \u001b[0mloss\u001b[0m \u001b[0;34m=\u001b[0m \u001b[0msum\u001b[0m\u001b[0;34m(\u001b[0m\u001b[0;34m[\u001b[0m\u001b[0mnn\u001b[0m\u001b[0;34m.\u001b[0m\u001b[0mCrossEntropyLoss\u001b[0m\u001b[0;34m(\u001b[0m\u001b[0;34m)\u001b[0m\u001b[0;34m(\u001b[0m\u001b[0mpreds\u001b[0m\u001b[0;34m[\u001b[0m\u001b[0mi\u001b[0m\u001b[0;34m]\u001b[0m\u001b[0;34m,\u001b[0m \u001b[0mlabels\u001b[0m\u001b[0;34m[\u001b[0m\u001b[0;36m0\u001b[0m\u001b[0;34m]\u001b[0m\u001b[0;34m[\u001b[0m\u001b[0mi\u001b[0m\u001b[0;34m]\u001b[0m\u001b[0;34m)\u001b[0m \u001b[0;32mfor\u001b[0m \u001b[0mi\u001b[0m \u001b[0;32min\u001b[0m \u001b[0mrange\u001b[0m\u001b[0;34m(\u001b[0m\u001b[0mlen\u001b[0m\u001b[0;34m(\u001b[0m\u001b[0mpreds\u001b[0m\u001b[0;34m)\u001b[0m\u001b[0;34m)\u001b[0m\u001b[0;34m]\u001b[0m\u001b[0;34m)\u001b[0m\u001b[0;34m\u001b[0m\u001b[0;34m\u001b[0m\u001b[0m\n\u001b[0m\u001b[1;32m     70\u001b[0m \u001b[0;34m\u001b[0m\u001b[0m\n\u001b[1;32m     71\u001b[0m         \u001b[0;31m#         loss = sum([nn.CrossEntropyLoss()(preds[i].reshape(1, -1), labels[i].reshape(len(self.dataset.class_dict))) for i in range(len(preds))])\u001b[0m\u001b[0;34m\u001b[0m\u001b[0;34m\u001b[0m\u001b[0;34m\u001b[0m\u001b[0m\n",
      "\u001b[0;32m/datasets/home/41/641/jdlevy/.conda/envs/torchgeo/lib/python3.7/site-packages/torch/nn/modules/module.py\u001b[0m in \u001b[0;36m_call_impl\u001b[0;34m(self, *input, **kwargs)\u001b[0m\n\u001b[1;32m    720\u001b[0m             \u001b[0mresult\u001b[0m \u001b[0;34m=\u001b[0m \u001b[0mself\u001b[0m\u001b[0;34m.\u001b[0m\u001b[0m_slow_forward\u001b[0m\u001b[0;34m(\u001b[0m\u001b[0;34m*\u001b[0m\u001b[0minput\u001b[0m\u001b[0;34m,\u001b[0m \u001b[0;34m**\u001b[0m\u001b[0mkwargs\u001b[0m\u001b[0;34m)\u001b[0m\u001b[0;34m\u001b[0m\u001b[0;34m\u001b[0m\u001b[0m\n\u001b[1;32m    721\u001b[0m         \u001b[0;32melse\u001b[0m\u001b[0;34m:\u001b[0m\u001b[0;34m\u001b[0m\u001b[0;34m\u001b[0m\u001b[0m\n\u001b[0;32m--> 722\u001b[0;31m             \u001b[0mresult\u001b[0m \u001b[0;34m=\u001b[0m \u001b[0mself\u001b[0m\u001b[0;34m.\u001b[0m\u001b[0mforward\u001b[0m\u001b[0;34m(\u001b[0m\u001b[0;34m*\u001b[0m\u001b[0minput\u001b[0m\u001b[0;34m,\u001b[0m \u001b[0;34m**\u001b[0m\u001b[0mkwargs\u001b[0m\u001b[0;34m)\u001b[0m\u001b[0;34m\u001b[0m\u001b[0;34m\u001b[0m\u001b[0m\n\u001b[0m\u001b[1;32m    723\u001b[0m         for hook in itertools.chain(\n\u001b[1;32m    724\u001b[0m                 \u001b[0m_global_forward_hooks\u001b[0m\u001b[0;34m.\u001b[0m\u001b[0mvalues\u001b[0m\u001b[0;34m(\u001b[0m\u001b[0;34m)\u001b[0m\u001b[0;34m,\u001b[0m\u001b[0;34m\u001b[0m\u001b[0;34m\u001b[0m\u001b[0m\n",
      "\u001b[0;32m/datasets/home/41/641/jdlevy/.conda/envs/torchgeo/lib/python3.7/site-packages/torch/nn/modules/loss.py\u001b[0m in \u001b[0;36mforward\u001b[0;34m(self, input, target)\u001b[0m\n\u001b[1;32m    946\u001b[0m     \u001b[0;32mdef\u001b[0m \u001b[0mforward\u001b[0m\u001b[0;34m(\u001b[0m\u001b[0mself\u001b[0m\u001b[0;34m,\u001b[0m \u001b[0minput\u001b[0m\u001b[0;34m:\u001b[0m \u001b[0mTensor\u001b[0m\u001b[0;34m,\u001b[0m \u001b[0mtarget\u001b[0m\u001b[0;34m:\u001b[0m \u001b[0mTensor\u001b[0m\u001b[0;34m)\u001b[0m \u001b[0;34m->\u001b[0m \u001b[0mTensor\u001b[0m\u001b[0;34m:\u001b[0m\u001b[0;34m\u001b[0m\u001b[0;34m\u001b[0m\u001b[0m\n\u001b[1;32m    947\u001b[0m         return F.cross_entropy(input, target, weight=self.weight,\n\u001b[0;32m--> 948\u001b[0;31m                                ignore_index=self.ignore_index, reduction=self.reduction)\n\u001b[0m\u001b[1;32m    949\u001b[0m \u001b[0;34m\u001b[0m\u001b[0m\n\u001b[1;32m    950\u001b[0m \u001b[0;34m\u001b[0m\u001b[0m\n",
      "\u001b[0;32m/datasets/home/41/641/jdlevy/.conda/envs/torchgeo/lib/python3.7/site-packages/torch/nn/functional.py\u001b[0m in \u001b[0;36mcross_entropy\u001b[0;34m(input, target, weight, size_average, ignore_index, reduce, reduction)\u001b[0m\n\u001b[1;32m   2420\u001b[0m     \u001b[0;32mif\u001b[0m \u001b[0msize_average\u001b[0m \u001b[0;32mis\u001b[0m \u001b[0;32mnot\u001b[0m \u001b[0;32mNone\u001b[0m \u001b[0;32mor\u001b[0m \u001b[0mreduce\u001b[0m \u001b[0;32mis\u001b[0m \u001b[0;32mnot\u001b[0m \u001b[0;32mNone\u001b[0m\u001b[0;34m:\u001b[0m\u001b[0;34m\u001b[0m\u001b[0;34m\u001b[0m\u001b[0m\n\u001b[1;32m   2421\u001b[0m         \u001b[0mreduction\u001b[0m \u001b[0;34m=\u001b[0m \u001b[0m_Reduction\u001b[0m\u001b[0;34m.\u001b[0m\u001b[0mlegacy_get_string\u001b[0m\u001b[0;34m(\u001b[0m\u001b[0msize_average\u001b[0m\u001b[0;34m,\u001b[0m \u001b[0mreduce\u001b[0m\u001b[0;34m)\u001b[0m\u001b[0;34m\u001b[0m\u001b[0;34m\u001b[0m\u001b[0m\n\u001b[0;32m-> 2422\u001b[0;31m     \u001b[0;32mreturn\u001b[0m \u001b[0mnll_loss\u001b[0m\u001b[0;34m(\u001b[0m\u001b[0mlog_softmax\u001b[0m\u001b[0;34m(\u001b[0m\u001b[0minput\u001b[0m\u001b[0;34m,\u001b[0m \u001b[0;36m1\u001b[0m\u001b[0;34m)\u001b[0m\u001b[0;34m,\u001b[0m \u001b[0mtarget\u001b[0m\u001b[0;34m,\u001b[0m \u001b[0mweight\u001b[0m\u001b[0;34m,\u001b[0m \u001b[0;32mNone\u001b[0m\u001b[0;34m,\u001b[0m \u001b[0mignore_index\u001b[0m\u001b[0;34m,\u001b[0m \u001b[0;32mNone\u001b[0m\u001b[0;34m,\u001b[0m \u001b[0mreduction\u001b[0m\u001b[0;34m)\u001b[0m\u001b[0;34m\u001b[0m\u001b[0;34m\u001b[0m\u001b[0m\n\u001b[0m\u001b[1;32m   2423\u001b[0m \u001b[0;34m\u001b[0m\u001b[0m\n\u001b[1;32m   2424\u001b[0m \u001b[0;34m\u001b[0m\u001b[0m\n",
      "\u001b[0;32m/datasets/home/41/641/jdlevy/.conda/envs/torchgeo/lib/python3.7/site-packages/torch/nn/functional.py\u001b[0m in \u001b[0;36mnll_loss\u001b[0;34m(input, target, weight, size_average, ignore_index, reduce, reduction)\u001b[0m\n\u001b[1;32m   2212\u001b[0m         \u001b[0;32mraise\u001b[0m \u001b[0mValueError\u001b[0m\u001b[0;34m(\u001b[0m\u001b[0;34m'Expected 2 or more dimensions (got {})'\u001b[0m\u001b[0;34m.\u001b[0m\u001b[0mformat\u001b[0m\u001b[0;34m(\u001b[0m\u001b[0mdim\u001b[0m\u001b[0;34m)\u001b[0m\u001b[0;34m)\u001b[0m\u001b[0;34m\u001b[0m\u001b[0;34m\u001b[0m\u001b[0m\n\u001b[1;32m   2213\u001b[0m \u001b[0;34m\u001b[0m\u001b[0m\n\u001b[0;32m-> 2214\u001b[0;31m     \u001b[0;32mif\u001b[0m \u001b[0minput\u001b[0m\u001b[0;34m.\u001b[0m\u001b[0msize\u001b[0m\u001b[0;34m(\u001b[0m\u001b[0;36m0\u001b[0m\u001b[0;34m)\u001b[0m \u001b[0;34m!=\u001b[0m \u001b[0mtarget\u001b[0m\u001b[0;34m.\u001b[0m\u001b[0msize\u001b[0m\u001b[0;34m(\u001b[0m\u001b[0;36m0\u001b[0m\u001b[0;34m)\u001b[0m\u001b[0;34m:\u001b[0m\u001b[0;34m\u001b[0m\u001b[0;34m\u001b[0m\u001b[0m\n\u001b[0m\u001b[1;32m   2215\u001b[0m         raise ValueError('Expected input batch_size ({}) to match target batch_size ({}).'\n\u001b[1;32m   2216\u001b[0m                          .format(input.size(0), target.size(0)))\n",
      "\u001b[0;31mIndexError\u001b[0m: dimension specified as 0 but tensor has no dimensions"
     ]
    }
   ],
   "source": [
    "mtt.train()"
   ]
  },
  {
   "cell_type": "code",
   "execution_count": 15,
   "metadata": {},
   "outputs": [],
   "source": [
    "# preds = (torch.Tensor([[-0.1654,  1.7167,  0.3085, -0.4484, -0.1295, -0.2691, -0.1973, -0.4742,\n",
    "#          -0.9800],\n",
    "#         [-0.7576,  0.1325,  0.6803,  0.9214, -0.4653,  1.9751,  0.3790, -0.5589,\n",
    "#           0.2431],\n",
    "#         [-0.2137,  0.2937, -0.4808, -2.0652, -1.2837, -2.0810,  0.6016,  1.0635,\n",
    "#           0.3386],\n",
    "#         [ 0.8723, -1.7949,  1.4109, -1.4373, -1.7372,  0.5594, -1.3526,  0.9271,\n",
    "#          -0.4259]]), \n",
    "#          torch.Tensor([[-1.2771,  0.3203, -0.9238,  0.2083],\n",
    "#         [-1.1229, -2.0029,  1.6569,  0.4800],\n",
    "#         [ 0.1119,  1.6074, -1.6294, -1.9116],\n",
    "#         [-0.4751, -1.4349, -0.7779, -0.4444]]), \n",
    "#          torch.Tensor([[-1.9170,  1.2044, -1.2757,  0.5097],\n",
    "#         [ 0.2896, -0.0633, -1.6042, -0.0619],\n",
    "#         [-0.2362,  1.4970,  0.0553, -0.1821],\n",
    "#         [ 2.7936,  0.2265, -3.3088,  1.1016]]))\n",
    "\n",
    "# labels = torch.Tensor([[  6,   0,   2, 101],\n",
    "#         [  6,   2,   0,  17],\n",
    "#         [  1,   0,   3, 145],\n",
    "#         [  7,   0,   3,  42]])"
   ]
  },
  {
   "cell_type": "code",
   "execution_count": 25,
   "metadata": {},
   "outputs": [
    {
     "data": {
      "text/plain": [
       "tensor(0.)"
      ]
     },
     "execution_count": 25,
     "metadata": {},
     "output_type": "execute_result"
    }
   ],
   "source": [
    "labels[0][1]"
   ]
  },
  {
   "cell_type": "code",
   "execution_count": 52,
   "metadata": {},
   "outputs": [
    {
     "name": "stdout",
     "output_type": "stream",
     "text": [
      "labels: 0\n"
     ]
    },
    {
     "ename": "TypeError",
     "evalue": "reshape() missing 1 required positional arguments: \"shape\"",
     "output_type": "error",
     "traceback": [
      "\u001b[0;31m---------------------------------------------------------------------------\u001b[0m",
      "\u001b[0;31mTypeError\u001b[0m                                 Traceback (most recent call last)",
      "\u001b[0;32m<ipython-input-52-88c9bf4a74a2>\u001b[0m in \u001b[0;36m<module>\u001b[0;34m\u001b[0m\n\u001b[1;32m      2\u001b[0m     \u001b[0;32mfor\u001b[0m \u001b[0mj\u001b[0m \u001b[0;32min\u001b[0m \u001b[0mrange\u001b[0m\u001b[0;34m(\u001b[0m\u001b[0mlen\u001b[0m\u001b[0;34m(\u001b[0m\u001b[0mpreds\u001b[0m\u001b[0;34m)\u001b[0m\u001b[0;34m)\u001b[0m\u001b[0;34m:\u001b[0m\u001b[0;34m\u001b[0m\u001b[0;34m\u001b[0m\u001b[0m\n\u001b[1;32m      3\u001b[0m         \u001b[0mprint\u001b[0m\u001b[0;34m(\u001b[0m\u001b[0;34m'labels:'\u001b[0m\u001b[0;34m,\u001b[0m\u001b[0mlabels\u001b[0m\u001b[0;34m[\u001b[0m\u001b[0mi\u001b[0m\u001b[0;34m]\u001b[0m\u001b[0;34m[\u001b[0m\u001b[0mj\u001b[0m\u001b[0;34m]\u001b[0m\u001b[0;34m.\u001b[0m\u001b[0mdim\u001b[0m\u001b[0;34m(\u001b[0m\u001b[0;34m)\u001b[0m\u001b[0;34m)\u001b[0m\u001b[0;34m\u001b[0m\u001b[0;34m\u001b[0m\u001b[0m\n\u001b[0;32m----> 4\u001b[0;31m         \u001b[0mprint\u001b[0m\u001b[0;34m(\u001b[0m\u001b[0;34m'preds:'\u001b[0m\u001b[0;34m,\u001b[0m \u001b[0mpreds\u001b[0m\u001b[0;34m[\u001b[0m\u001b[0mj\u001b[0m\u001b[0;34m]\u001b[0m\u001b[0;34m[\u001b[0m\u001b[0mi\u001b[0m\u001b[0;34m]\u001b[0m\u001b[0;34m.\u001b[0m\u001b[0mreshape\u001b[0m\u001b[0;34m(\u001b[0m\u001b[0;34m)\u001b[0m\u001b[0;34m.\u001b[0m\u001b[0mdim\u001b[0m\u001b[0;34m(\u001b[0m\u001b[0;34m)\u001b[0m\u001b[0;34m)\u001b[0m\u001b[0;34m\u001b[0m\u001b[0;34m\u001b[0m\u001b[0m\n\u001b[0m\u001b[1;32m      5\u001b[0m         \u001b[0mnn\u001b[0m\u001b[0;34m.\u001b[0m\u001b[0mCrossEntropyLoss\u001b[0m\u001b[0;34m(\u001b[0m\u001b[0;34m)\u001b[0m\u001b[0;34m(\u001b[0m\u001b[0mlabels\u001b[0m\u001b[0;34m[\u001b[0m\u001b[0mi\u001b[0m\u001b[0;34m]\u001b[0m\u001b[0;34m[\u001b[0m\u001b[0mj\u001b[0m\u001b[0;34m]\u001b[0m\u001b[0;34m,\u001b[0m \u001b[0mpreds\u001b[0m\u001b[0;34m[\u001b[0m\u001b[0mj\u001b[0m\u001b[0;34m]\u001b[0m\u001b[0;34m[\u001b[0m\u001b[0mi\u001b[0m\u001b[0;34m]\u001b[0m\u001b[0;34m)\u001b[0m\u001b[0;34m\u001b[0m\u001b[0;34m\u001b[0m\u001b[0m\n\u001b[1;32m      6\u001b[0m         \u001b[0mprint\u001b[0m\u001b[0;34m(\u001b[0m\u001b[0;34m)\u001b[0m\u001b[0;34m\u001b[0m\u001b[0;34m\u001b[0m\u001b[0m\n",
      "\u001b[0;31mTypeError\u001b[0m: reshape() missing 1 required positional arguments: \"shape\""
     ]
    }
   ],
   "source": [
    "for i in range(len(labels)):\n",
    "    for j in range(len(preds)):\n",
    "        print('labels:',labels[i][j].dim())\n",
    "        print('preds:', preds[j][i].reshape().dim())\n",
    "        nn.CrossEntropyLoss()(labels[i][j], preds[j][i])\n",
    "        print()\n",
    "    print()"
   ]
  },
  {
   "cell_type": "code",
   "execution_count": 27,
   "metadata": {},
   "outputs": [
    {
     "data": {
      "text/plain": [
       "tensor([-1.2771,  0.3203, -0.9238,  0.2083])"
      ]
     },
     "execution_count": 27,
     "metadata": {},
     "output_type": "execute_result"
    }
   ],
   "source": [
    "preds[1][0]"
   ]
  },
  {
   "cell_type": "code",
   "execution_count": 11,
   "metadata": {},
   "outputs": [
    {
     "name": "stderr",
     "output_type": "stream",
     "text": [
      "\r",
      "0it [00:00, ?it/s]"
     ]
    },
    {
     "name": "stdout",
     "output_type": "stream",
     "text": [
      "LABELS: tensor([[  6,   0,   2, 101],\n",
      "        [  6,   2,   0,  17],\n",
      "        [  1,   0,   3, 145],\n",
      "        [  7,   0,   3,  42]])\n"
     ]
    },
    {
     "name": "stderr",
     "output_type": "stream",
     "text": [
      "\r",
      "0it [00:12, ?it/s]"
     ]
    },
    {
     "name": "stdout",
     "output_type": "stream",
     "text": [
      "PREDICTIONS: (tensor([[-0.1654,  1.7167,  0.3085, -0.4484, -0.1295, -0.2691, -0.1973, -0.4742,\n",
      "         -0.9800],\n",
      "        [-0.7576,  0.1325,  0.6803,  0.9214, -0.4653,  1.9751,  0.3790, -0.5589,\n",
      "          0.2431],\n",
      "        [-0.2137,  0.2937, -0.4808, -2.0652, -1.2837, -2.0810,  0.6016,  1.0635,\n",
      "          0.3386],\n",
      "        [ 0.8723, -1.7949,  1.4109, -1.4373, -1.7372,  0.5594, -1.3526,  0.9271,\n",
      "         -0.4259]], grad_fn=<AddmmBackward>), tensor([[-1.2771,  0.3203, -0.9238,  0.2083],\n",
      "        [-1.1229, -2.0029,  1.6569,  0.4800],\n",
      "        [ 0.1119,  1.6074, -1.6294, -1.9116],\n",
      "        [-0.4751, -1.4349, -0.7779, -0.4444]], grad_fn=<AddmmBackward>), tensor([[-1.9170,  1.2044, -1.2757,  0.5097],\n",
      "        [ 0.2896, -0.0633, -1.6042, -0.0619],\n",
      "        [-0.2362,  1.4970,  0.0553, -0.1821],\n",
      "        [ 2.7936,  0.2265, -3.3088,  1.1016]], grad_fn=<AddmmBackward>), tensor([[ 7.4822e-01, -1.4717e-01,  5.6113e-01, -1.3976e+00,  2.5080e+00,\n",
      "         -1.4112e+00,  1.1762e+00,  2.3842e+00,  1.8115e+00, -1.6699e+00,\n",
      "         -7.2305e-02, -2.5633e+00, -2.7487e-01, -1.0036e+00, -1.8277e+00,\n",
      "          2.3028e+00,  1.3265e-01, -1.2837e-01,  6.1540e-01,  4.9475e-02,\n",
      "         -1.4194e+00, -5.8119e-01,  1.3219e+00,  8.5283e-01, -1.9165e+00,\n",
      "          1.0775e-01,  1.5029e+00,  7.2638e-01,  8.1358e-01, -2.1646e-01,\n",
      "         -3.3121e-01, -1.9825e+00, -1.2841e-01, -1.3470e-01,  3.1724e-01,\n",
      "         -2.1936e+00, -1.4985e+00,  4.9875e-01, -1.9265e-01,  1.8607e-01,\n",
      "         -4.5081e-01,  1.0694e+00, -9.9472e-01, -3.0535e-01,  5.9273e-01,\n",
      "          3.1424e-01,  1.6902e-01, -1.8234e+00, -1.6497e+00,  7.0957e-01,\n",
      "          1.4877e+00, -1.6397e+00, -6.8035e-01, -1.1062e+00, -6.1427e-01,\n",
      "          3.2480e-01,  1.7272e+00,  3.5798e-01,  4.6904e-01,  2.6027e+00,\n",
      "          7.9411e-04,  7.7441e-01, -1.0977e+00, -4.0551e-01, -1.0939e+00,\n",
      "          1.8579e+00, -2.9295e+00, -7.1363e-01,  1.8833e-01, -1.3709e+00,\n",
      "         -1.4326e+00,  8.2298e-01, -8.7336e-01,  2.9386e-01,  8.5894e-01,\n",
      "          1.6729e+00,  1.3347e-01, -5.8724e-01, -6.6606e-01, -5.2361e-01,\n",
      "         -9.8146e-01, -2.9276e-01,  6.1535e-01, -3.3719e-01, -1.1549e-01,\n",
      "          1.6273e-01,  7.8808e-01,  1.1422e-02, -8.4498e-02, -1.8120e+00,\n",
      "         -9.6829e-02,  2.3492e+00, -6.9018e-01,  1.0133e+00,  1.3323e+00,\n",
      "          1.4731e-01, -7.0704e-01, -9.7491e-01,  7.7924e-01, -1.3461e+00,\n",
      "         -2.1024e+00,  4.2147e-01,  1.9496e-01, -3.4877e-01,  9.2866e-01,\n",
      "          1.3519e+00, -2.3922e+00, -2.2576e+00,  1.5843e-01,  2.3928e-01,\n",
      "          1.8078e-01, -8.3626e-01, -1.3683e+00, -3.2462e-01,  1.2203e+00,\n",
      "         -1.9522e+00, -7.3069e-01, -1.4958e+00,  6.2975e-01,  2.0777e-01,\n",
      "         -1.2522e+00,  1.0622e-01, -6.0658e-02,  9.3698e-01,  2.5470e+00,\n",
      "          1.2442e-01, -7.4128e-01,  1.4983e+00,  5.3643e-01, -2.6197e-01,\n",
      "          8.8856e-01,  4.3449e-01, -4.7020e-01,  5.6190e-01, -7.9325e-01,\n",
      "          7.1218e-01,  5.5432e-01, -2.1143e+00,  9.6903e-01,  7.4464e-01,\n",
      "          5.4553e-02,  7.8652e-01, -5.3736e-01,  6.7534e-01, -1.2756e+00,\n",
      "          1.3264e+00,  2.9870e-01,  3.0862e-01,  8.2347e-01, -3.0954e-01,\n",
      "          2.5409e-01, -9.5168e-01,  7.5472e-01, -5.8779e-01, -9.4268e-01,\n",
      "          1.1004e+00, -3.1363e-01, -3.1250e-02, -1.2926e+00,  7.1941e-01,\n",
      "         -1.0195e+00,  7.3836e-01,  3.3750e-01, -4.2119e-01,  1.0711e+00,\n",
      "          7.3213e-02, -1.4218e+00,  2.0302e+00,  7.0223e-01,  1.1944e-01,\n",
      "         -3.2355e-02,  7.4721e-01,  8.9345e-02,  1.6728e-01, -5.4699e-01,\n",
      "          1.8707e+00,  6.1010e-01,  5.3137e-01,  4.4035e-01,  1.3289e+00,\n",
      "          9.8655e-01,  6.8291e-02,  4.2189e-01,  4.0486e+00, -9.8374e-01,\n",
      "          1.5528e+00, -9.1713e-01,  1.7475e+00,  1.2033e+00, -1.3176e+00,\n",
      "          9.2863e-01, -1.9787e+00, -1.2476e+00, -2.4888e+00, -1.0548e+00,\n",
      "         -9.7060e-01, -5.6070e-01,  2.5299e+00,  2.3484e-01, -1.3239e+00],\n",
      "        [-5.3998e-01, -3.1896e-01, -1.3625e-02, -5.1700e-01, -1.1063e+00,\n",
      "         -5.8433e-01, -8.1277e-01, -3.4891e-01,  6.9049e-01, -3.7385e-01,\n",
      "          4.0740e-01,  7.1478e-01, -5.9044e-01,  8.7912e-01,  3.6591e-01,\n",
      "          4.7782e-01, -5.2939e-01, -8.4509e-01,  4.5541e-01, -1.0695e+00,\n",
      "         -1.8053e-01, -1.0476e+00,  1.0830e+00,  9.5529e-01, -6.1658e-01,\n",
      "         -4.5915e-01, -1.3808e+00,  3.6835e-01,  2.0836e-01, -1.4552e+00,\n",
      "         -1.0318e+00, -2.1636e-01, -4.9111e-01, -3.8220e-03, -7.5065e-01,\n",
      "          2.3627e-01, -1.1139e+00, -1.1358e+00,  6.1191e-01,  1.9243e-01,\n",
      "         -8.9751e-02, -4.0578e-01,  1.0168e+00, -4.5278e-01,  1.4206e+00,\n",
      "         -9.8980e-01, -5.3706e-01, -2.4463e+00,  9.8667e-01,  1.0121e-01,\n",
      "          7.1143e-01, -4.7279e-01, -7.0590e-01, -2.7964e-01, -3.7864e-01,\n",
      "          1.2250e+00,  8.3117e-01,  1.2288e+00,  4.3635e-01, -5.3880e-01,\n",
      "          2.3267e-01, -8.3717e-01,  4.8212e-01, -1.3566e+00,  1.4410e+00,\n",
      "         -5.1523e-01, -2.6011e-01, -1.9822e-01,  9.0631e-01, -2.9601e-01,\n",
      "         -1.7133e+00, -1.8845e-01,  1.0212e+00, -7.7383e-01,  6.4628e-01,\n",
      "         -2.0425e-01, -8.6559e-01,  9.6808e-01,  3.9257e-02, -1.6513e-01,\n",
      "         -8.5232e-01,  5.2362e-02, -8.9182e-01, -8.5161e-01, -3.1664e-01,\n",
      "         -1.1827e+00,  1.9097e-01, -1.2923e+00,  9.8169e-01,  1.4801e-02,\n",
      "         -8.3403e-02, -1.1090e+00, -3.2518e-01, -7.0627e-01,  7.0781e-01,\n",
      "         -4.9271e-01,  7.3788e-01, -4.4634e-01,  1.4710e+00,  6.2203e-01,\n",
      "         -1.3687e+00,  1.2150e+00, -8.1532e-01, -3.9955e-03,  3.1725e-02,\n",
      "          1.0581e+00, -3.5685e-02,  2.0008e-03, -9.7028e-01, -7.9180e-01,\n",
      "         -2.1672e-01, -1.5894e+00, -1.1286e-01,  9.6350e-01,  1.0622e+00,\n",
      "         -7.0796e-01,  5.1396e-01,  2.2694e+00, -4.4422e-01,  7.3141e-01,\n",
      "          1.1882e+00,  6.3807e-01, -2.4579e+00, -4.8188e-01,  1.4259e+00,\n",
      "         -4.6452e-01,  1.7557e-01, -2.7060e-01,  1.2662e+00,  7.5337e-01,\n",
      "          9.7583e-01, -5.2906e-01, -6.4904e-01, -5.6437e-01,  8.9169e-02,\n",
      "          4.6902e-01,  3.6929e-01, -1.1328e+00, -6.9603e-01,  7.9861e-02,\n",
      "          6.2295e-01, -1.9219e+00,  9.2620e-03,  6.2467e-01, -1.4427e+00,\n",
      "         -6.7592e-01, -7.3025e-01, -3.8832e-01, -4.4483e-01, -6.4354e-02,\n",
      "         -9.9280e-01,  1.4856e-01,  1.9718e+00, -1.2274e-01, -3.7825e-01,\n",
      "          1.0545e+00, -4.5796e-01, -9.6037e-01,  2.6327e-01,  1.1464e+00,\n",
      "          4.4228e-01,  2.0484e-02,  5.3780e-01,  6.1082e-01, -2.8928e-01,\n",
      "         -8.3566e-01,  1.7428e-01, -5.3971e-01,  6.9939e-01, -8.3135e-01,\n",
      "         -5.6592e-01, -1.0246e+00, -2.9849e-01, -1.7190e-01, -2.2254e-01,\n",
      "          1.3444e+00,  5.5449e-01,  1.3609e+00,  8.1989e-01,  2.0682e-01,\n",
      "          1.5177e+00,  5.2164e-02, -8.6577e-01, -7.6200e-01,  2.1457e+00,\n",
      "          1.8454e+00,  2.6701e-01,  3.1481e-03, -7.6247e-01, -1.0135e+00,\n",
      "          8.9226e-01,  1.0259e-03, -2.4576e-02,  1.3849e+00,  4.9575e-02,\n",
      "         -2.0678e+00, -8.0827e-01, -8.9842e-01,  2.5437e-01, -7.0604e-02],\n",
      "        [ 2.2084e+00, -1.0755e+00,  1.0679e+00, -4.6047e-01,  1.1116e+00,\n",
      "         -9.8807e-01,  2.7011e+00,  7.4136e-01,  1.3792e+00,  5.9389e-01,\n",
      "         -1.1137e+00, -5.9210e-01,  8.5646e-01, -1.1822e+00, -2.8743e-02,\n",
      "          1.1907e+00,  2.8426e-01, -1.2615e+00,  2.7661e-01, -5.9330e-01,\n",
      "          8.8634e-01,  1.6810e+00,  9.0371e-01, -9.7723e-01, -2.4248e+00,\n",
      "          1.9268e-01,  1.9235e+00,  1.1724e+00,  3.7356e-01,  7.1097e-01,\n",
      "         -1.5600e+00,  2.5476e+00, -2.2108e+00,  1.3741e+00,  2.1274e-01,\n",
      "          2.4005e+00, -9.0970e-02,  1.1184e-02,  1.1194e+00, -1.2239e-01,\n",
      "         -4.1647e-01,  9.2578e-01, -8.7092e-01,  9.7537e-01,  1.2101e+00,\n",
      "          1.6953e-01, -8.9992e-02, -1.2123e+00, -1.2391e+00,  7.2042e-01,\n",
      "         -1.9563e+00,  1.0007e-01,  9.0644e-01,  3.8285e-01, -2.4070e-01,\n",
      "          1.0522e+00,  3.8783e-02, -8.3007e-01, -5.6034e-01,  2.7070e+00,\n",
      "          3.0158e+00,  1.0042e+00,  6.0281e-01,  7.7667e-02, -7.2974e-01,\n",
      "          1.8380e+00, -9.3001e-01,  2.4629e-01, -1.2049e+00, -6.3153e-01,\n",
      "          9.6504e-01, -4.3786e-02, -2.6540e+00, -2.1066e-01,  1.9823e-01,\n",
      "          1.5565e+00, -6.7011e-02, -1.2411e+00, -9.1043e-01, -6.4624e-01,\n",
      "          3.5042e-01,  9.2064e-01,  1.0352e+00,  1.1019e+00, -1.7119e-01,\n",
      "         -1.7848e+00, -1.7503e+00,  2.4349e+00, -1.0524e+00, -4.8938e-01,\n",
      "          1.2409e+00,  1.4207e+00, -4.9727e-01,  1.3550e+00, -1.6685e-01,\n",
      "          1.4200e+00, -1.5382e+00,  1.5194e-04, -8.3139e-01,  9.6068e-01,\n",
      "         -2.6389e-01, -3.8752e-01,  3.2440e+00, -7.5449e-02,  7.2121e-01,\n",
      "         -1.8237e+00, -2.2464e+00, -1.7552e+00, -1.1641e+00,  3.5303e-01,\n",
      "         -1.3471e-02, -3.5874e-01, -3.3916e-01,  1.9407e+00, -1.3106e+00,\n",
      "         -1.1429e+00, -3.9459e-01, -2.4404e+00, -1.0789e+00,  5.9088e-01,\n",
      "          3.4719e-01,  6.8322e-02,  1.5592e+00,  8.1402e-01,  6.3182e-01,\n",
      "         -1.1253e+00,  1.6698e-03, -1.0312e+00, -1.2878e+00,  1.9927e+00,\n",
      "         -1.7914e+00,  5.8518e-01, -1.1906e+00,  4.6770e-01, -1.2718e+00,\n",
      "          2.6575e-01, -1.9807e-01,  5.4341e-01,  2.0386e+00, -1.0751e+00,\n",
      "         -6.0839e-01,  3.0657e+00,  8.3935e-02,  2.8965e-02, -1.7407e+00,\n",
      "         -2.2404e-01,  2.5988e+00,  1.9381e+00,  1.6032e-01, -8.6172e-01,\n",
      "         -4.5136e-01, -1.3918e+00, -1.8978e-01,  3.0410e-01, -8.7575e-01,\n",
      "         -1.6550e+00,  3.0010e+00, -4.3048e-01, -3.3527e+00,  8.7462e-01,\n",
      "          2.7465e+00, -3.3902e-01,  1.4819e+00, -1.8003e+00, -1.8229e+00,\n",
      "         -6.4549e-01,  3.6009e-01,  5.3302e-01, -3.3788e-01,  4.1263e-01,\n",
      "          1.6623e+00, -1.3574e+00, -9.0187e-01,  8.9689e-01, -2.8250e-01,\n",
      "          8.5512e-01,  6.7294e-01, -4.2384e-01, -5.6695e-01,  6.6052e-01,\n",
      "         -1.1136e+00,  1.8292e+00,  1.6864e+00,  1.9419e+00, -1.2455e+00,\n",
      "          3.1876e-01,  6.7861e-01,  2.8559e-01, -2.5757e+00, -3.3245e+00,\n",
      "         -1.6415e+00, -1.7340e+00, -7.6598e-01, -1.2371e+00,  1.1240e+00,\n",
      "          6.7768e-01,  1.8392e-01,  6.5214e-02,  7.6512e-01,  1.5500e+00],\n",
      "        [ 1.6133e+00,  7.5496e-01,  1.8970e+00,  2.8945e-01, -4.7175e+00,\n",
      "         -2.0648e-01, -4.4268e-01,  3.2029e-01, -1.0337e+00, -1.0863e-01,\n",
      "         -1.2367e-01,  9.5658e-01,  1.2466e+00, -7.5702e-01,  9.5263e-01,\n",
      "         -3.8872e-01,  9.1611e-01,  4.6205e-01, -1.0734e+00, -1.8021e+00,\n",
      "          6.5467e-01, -4.3396e-01, -2.1131e+00, -7.1487e-01,  1.1271e+00,\n",
      "         -1.4521e+00, -1.0771e+00, -6.0631e-01,  3.0009e-01, -4.4911e-01,\n",
      "          1.4022e-01,  2.8411e+00, -6.8153e-01, -3.4074e-01,  1.6015e+00,\n",
      "          7.8703e-02, -1.1428e+00, -4.9668e-01,  2.1600e+00,  5.3623e-01,\n",
      "         -5.4372e-01,  1.5164e+00,  1.1852e+00, -1.7651e+00,  3.7870e-01,\n",
      "         -8.3093e-01, -7.3211e-01, -1.3674e+00, -5.1021e-01,  3.1455e+00,\n",
      "         -1.1539e+00,  1.9683e+00, -2.8876e-01,  3.1148e-01,  1.2285e+00,\n",
      "         -2.7859e-01,  2.4911e+00,  2.9170e-02, -3.3213e-01, -4.6577e-01,\n",
      "         -3.0564e-01, -9.4207e-01,  2.7787e-01,  3.7571e-01,  1.1133e+00,\n",
      "          2.5190e+00, -4.3489e-02,  2.2682e+00, -7.5233e-01,  2.0331e+00,\n",
      "          7.1110e-01,  4.9794e+00,  6.6450e-01, -4.6236e-01,  1.1744e+00,\n",
      "         -2.1017e+00, -8.7540e-01, -7.3416e-01, -2.0640e-01,  1.8884e-01,\n",
      "         -8.1330e-01,  1.4949e+00,  2.2170e-01, -3.7544e-01,  2.7955e-01,\n",
      "          3.5237e+00, -5.0178e-02, -3.3902e-01, -4.4643e-01, -6.5110e-01,\n",
      "         -2.2086e-01, -6.4593e-01, -1.4610e+00,  5.8458e-01, -1.9694e+00,\n",
      "          1.9050e+00, -1.1818e+00,  6.7039e-01, -2.2649e+00,  1.2367e+00,\n",
      "          1.3655e+00,  7.4214e-01,  1.2714e+00, -1.1757e+00, -2.7097e-01,\n",
      "         -1.6824e+00,  7.5323e-01,  2.2415e+00,  6.9912e-01,  1.6195e+00,\n",
      "          5.6622e-01, -6.8103e-01, -1.6205e+00,  4.7483e-01,  7.5037e-01,\n",
      "         -1.1207e-01, -1.9621e+00, -8.7975e-01, -5.6278e-01,  3.8415e-01,\n",
      "         -1.1336e-01, -1.1342e+00, -1.1206e-01,  1.6113e+00,  4.8915e-01,\n",
      "         -2.4038e+00, -1.2287e+00,  1.9437e+00, -3.1241e-01, -4.3799e-01,\n",
      "         -1.0240e+00, -1.2294e+00, -1.2070e+00, -1.1440e+00, -1.6974e+00,\n",
      "          1.1606e+00, -7.3252e-01,  2.0996e+00, -4.4936e-01, -1.5264e+00,\n",
      "          7.7192e-01, -1.1350e+00,  6.2270e-01, -3.9344e-02,  2.4218e+00,\n",
      "         -2.4950e+00,  4.6018e-01,  3.4098e-01,  8.3042e-01, -9.1464e-01,\n",
      "          1.4909e+00,  2.3203e-02,  6.9438e-01, -1.5115e+00,  2.2157e+00,\n",
      "         -1.6266e+00,  9.6407e-01, -2.4389e+00, -7.9233e-01,  7.9839e-01,\n",
      "         -5.5747e-01, -1.0855e+00,  2.2872e+00,  9.8598e-01, -2.2704e+00,\n",
      "         -3.0241e-02, -8.7909e-01, -4.7518e-01, -3.5154e-01,  2.7844e-01,\n",
      "         -7.0808e-01,  7.9603e-01,  7.3243e-01, -8.7794e-01,  2.5647e+00,\n",
      "          1.3579e+00, -1.5052e-01,  8.2299e-01, -1.1609e+00,  1.2181e+00,\n",
      "          3.3524e-01,  3.9790e-01, -6.5811e-01, -1.3065e+00,  5.3074e-01,\n",
      "          6.0619e-02,  1.1142e+00, -6.7506e-01, -3.2637e+00, -4.9927e-01,\n",
      "          7.8917e-01, -8.1977e-01,  2.4561e+00, -1.6113e+00,  2.3491e+00,\n",
      "         -1.2589e+00, -9.6128e-01, -5.2363e-01,  1.7826e+00,  1.7121e-01]],\n",
      "       grad_fn=<AddmmBackward>))\n",
      "LABELS: tensor([[  6,   0,   2, 101],\n",
      "        [  6,   2,   0,  17],\n",
      "        [  1,   0,   3, 145],\n",
      "        [  7,   0,   3,  42]])\n"
     ]
    },
    {
     "name": "stderr",
     "output_type": "stream",
     "text": [
      "\n"
     ]
    },
    {
     "ename": "ValueError",
     "evalue": "Expected input batch_size (1) to match target batch_size (4).",
     "output_type": "error",
     "traceback": [
      "\u001b[0;31m---------------------------------------------------------------------------\u001b[0m",
      "\u001b[0;31mValueError\u001b[0m                                Traceback (most recent call last)",
      "\u001b[0;32m<ipython-input-11-1779c5b99abd>\u001b[0m in \u001b[0;36m<module>\u001b[0;34m\u001b[0m\n\u001b[0;32m----> 1\u001b[0;31m \u001b[0mmtt\u001b[0m\u001b[0;34m.\u001b[0m\u001b[0mtrain\u001b[0m\u001b[0;34m(\u001b[0m\u001b[0;34m)\u001b[0m\u001b[0;34m\u001b[0m\u001b[0;34m\u001b[0m\u001b[0m\n\u001b[0m",
      "\u001b[0;32m~/xai_birds/src/multi_task_training.py\u001b[0m in \u001b[0;36mtrain\u001b[0;34m(self)\u001b[0m\n\u001b[1;32m     84\u001b[0m                 \u001b[0;31m# print(\"OUTPUTS:\",outputs)\u001b[0m\u001b[0;34m\u001b[0m\u001b[0;34m\u001b[0m\u001b[0;34m\u001b[0m\u001b[0m\n\u001b[1;32m     85\u001b[0m                 \u001b[0;31m# break\u001b[0m\u001b[0;34m\u001b[0m\u001b[0;34m\u001b[0m\u001b[0;34m\u001b[0m\u001b[0m\n\u001b[0;32m---> 86\u001b[0;31m                 \u001b[0mloss\u001b[0m \u001b[0;34m=\u001b[0m \u001b[0mself\u001b[0m\u001b[0;34m.\u001b[0m\u001b[0mloss_func\u001b[0m\u001b[0;34m(\u001b[0m\u001b[0moutputs\u001b[0m\u001b[0;34m,\u001b[0m \u001b[0mlabels\u001b[0m\u001b[0;34m)\u001b[0m\u001b[0;34m\u001b[0m\u001b[0;34m\u001b[0m\u001b[0m\n\u001b[0m\u001b[1;32m     87\u001b[0m                 \u001b[0;31m# print(loss)\u001b[0m\u001b[0;34m\u001b[0m\u001b[0;34m\u001b[0m\u001b[0;34m\u001b[0m\u001b[0m\n\u001b[1;32m     88\u001b[0m                 \u001b[0;31m# Backward step.\u001b[0m\u001b[0;34m\u001b[0m\u001b[0;34m\u001b[0m\u001b[0;34m\u001b[0m\u001b[0m\n",
      "\u001b[0;32m/datasets/home/41/641/jdlevy/.conda/envs/torchgeo/lib/python3.7/site-packages/torch/nn/modules/module.py\u001b[0m in \u001b[0;36m_call_impl\u001b[0;34m(self, *input, **kwargs)\u001b[0m\n\u001b[1;32m    720\u001b[0m             \u001b[0mresult\u001b[0m \u001b[0;34m=\u001b[0m \u001b[0mself\u001b[0m\u001b[0;34m.\u001b[0m\u001b[0m_slow_forward\u001b[0m\u001b[0;34m(\u001b[0m\u001b[0;34m*\u001b[0m\u001b[0minput\u001b[0m\u001b[0;34m,\u001b[0m \u001b[0;34m**\u001b[0m\u001b[0mkwargs\u001b[0m\u001b[0;34m)\u001b[0m\u001b[0;34m\u001b[0m\u001b[0;34m\u001b[0m\u001b[0m\n\u001b[1;32m    721\u001b[0m         \u001b[0;32melse\u001b[0m\u001b[0;34m:\u001b[0m\u001b[0;34m\u001b[0m\u001b[0;34m\u001b[0m\u001b[0m\n\u001b[0;32m--> 722\u001b[0;31m             \u001b[0mresult\u001b[0m \u001b[0;34m=\u001b[0m \u001b[0mself\u001b[0m\u001b[0;34m.\u001b[0m\u001b[0mforward\u001b[0m\u001b[0;34m(\u001b[0m\u001b[0;34m*\u001b[0m\u001b[0minput\u001b[0m\u001b[0;34m,\u001b[0m \u001b[0;34m**\u001b[0m\u001b[0mkwargs\u001b[0m\u001b[0;34m)\u001b[0m\u001b[0;34m\u001b[0m\u001b[0;34m\u001b[0m\u001b[0m\n\u001b[0m\u001b[1;32m    723\u001b[0m         for hook in itertools.chain(\n\u001b[1;32m    724\u001b[0m                 \u001b[0m_global_forward_hooks\u001b[0m\u001b[0;34m.\u001b[0m\u001b[0mvalues\u001b[0m\u001b[0;34m(\u001b[0m\u001b[0;34m)\u001b[0m\u001b[0;34m,\u001b[0m\u001b[0;34m\u001b[0m\u001b[0;34m\u001b[0m\u001b[0m\n",
      "\u001b[0;32m~/xai_birds/src/models/multi_task_model.py\u001b[0m in \u001b[0;36mforward\u001b[0;34m(self, preds, labels)\u001b[0m\n\u001b[1;32m     66\u001b[0m         \u001b[0mprint\u001b[0m\u001b[0;34m(\u001b[0m\u001b[0;34m\"PREDICTIONS:\"\u001b[0m\u001b[0;34m,\u001b[0m\u001b[0mpreds\u001b[0m\u001b[0;34m)\u001b[0m\u001b[0;34m\u001b[0m\u001b[0;34m\u001b[0m\u001b[0m\n\u001b[1;32m     67\u001b[0m         \u001b[0mprint\u001b[0m\u001b[0;34m(\u001b[0m\u001b[0;34m\"LABELS:\"\u001b[0m\u001b[0;34m,\u001b[0m\u001b[0mlabels\u001b[0m\u001b[0;34m)\u001b[0m\u001b[0;34m\u001b[0m\u001b[0;34m\u001b[0m\u001b[0m\n\u001b[0;32m---> 68\u001b[0;31m         \u001b[0mloss\u001b[0m \u001b[0;34m=\u001b[0m \u001b[0msum\u001b[0m\u001b[0;34m(\u001b[0m\u001b[0;34m[\u001b[0m\u001b[0mnn\u001b[0m\u001b[0;34m.\u001b[0m\u001b[0mCrossEntropyLoss\u001b[0m\u001b[0;34m(\u001b[0m\u001b[0;34m)\u001b[0m\u001b[0;34m(\u001b[0m\u001b[0mpreds\u001b[0m\u001b[0;34m[\u001b[0m\u001b[0mi\u001b[0m\u001b[0;34m]\u001b[0m\u001b[0;34m.\u001b[0m\u001b[0mreshape\u001b[0m\u001b[0;34m(\u001b[0m\u001b[0;36m1\u001b[0m\u001b[0;34m,\u001b[0m \u001b[0;34m-\u001b[0m\u001b[0;36m1\u001b[0m\u001b[0;34m)\u001b[0m\u001b[0;34m,\u001b[0m \u001b[0mlabels\u001b[0m\u001b[0;34m[\u001b[0m\u001b[0mi\u001b[0m\u001b[0;34m]\u001b[0m\u001b[0;34m.\u001b[0m\u001b[0mreshape\u001b[0m\u001b[0;34m(\u001b[0m\u001b[0mlen\u001b[0m\u001b[0;34m(\u001b[0m\u001b[0mself\u001b[0m\u001b[0;34m.\u001b[0m\u001b[0mdataset\u001b[0m\u001b[0;34m.\u001b[0m\u001b[0mclass_dict\u001b[0m\u001b[0;34m)\u001b[0m\u001b[0;34m)\u001b[0m\u001b[0;34m)\u001b[0m \u001b[0;32mfor\u001b[0m \u001b[0mi\u001b[0m \u001b[0;32min\u001b[0m \u001b[0mrange\u001b[0m\u001b[0;34m(\u001b[0m\u001b[0mlen\u001b[0m\u001b[0;34m(\u001b[0m\u001b[0mpreds\u001b[0m\u001b[0;34m)\u001b[0m\u001b[0;34m)\u001b[0m\u001b[0;34m]\u001b[0m\u001b[0;34m)\u001b[0m\u001b[0;34m\u001b[0m\u001b[0;34m\u001b[0m\u001b[0m\n\u001b[0m\u001b[1;32m     69\u001b[0m \u001b[0;34m\u001b[0m\u001b[0m\n\u001b[1;32m     70\u001b[0m \u001b[0;31m#         loss0 = nn.CrossEntropyLoss()(preds[0].reshape(1, -1), labels[0].reshape(1))\u001b[0m\u001b[0;34m\u001b[0m\u001b[0;34m\u001b[0m\u001b[0;34m\u001b[0m\u001b[0m\n",
      "\u001b[0;32m~/xai_birds/src/models/multi_task_model.py\u001b[0m in \u001b[0;36m<listcomp>\u001b[0;34m(.0)\u001b[0m\n\u001b[1;32m     66\u001b[0m         \u001b[0mprint\u001b[0m\u001b[0;34m(\u001b[0m\u001b[0;34m\"PREDICTIONS:\"\u001b[0m\u001b[0;34m,\u001b[0m\u001b[0mpreds\u001b[0m\u001b[0;34m)\u001b[0m\u001b[0;34m\u001b[0m\u001b[0;34m\u001b[0m\u001b[0m\n\u001b[1;32m     67\u001b[0m         \u001b[0mprint\u001b[0m\u001b[0;34m(\u001b[0m\u001b[0;34m\"LABELS:\"\u001b[0m\u001b[0;34m,\u001b[0m\u001b[0mlabels\u001b[0m\u001b[0;34m)\u001b[0m\u001b[0;34m\u001b[0m\u001b[0;34m\u001b[0m\u001b[0m\n\u001b[0;32m---> 68\u001b[0;31m         \u001b[0mloss\u001b[0m \u001b[0;34m=\u001b[0m \u001b[0msum\u001b[0m\u001b[0;34m(\u001b[0m\u001b[0;34m[\u001b[0m\u001b[0mnn\u001b[0m\u001b[0;34m.\u001b[0m\u001b[0mCrossEntropyLoss\u001b[0m\u001b[0;34m(\u001b[0m\u001b[0;34m)\u001b[0m\u001b[0;34m(\u001b[0m\u001b[0mpreds\u001b[0m\u001b[0;34m[\u001b[0m\u001b[0mi\u001b[0m\u001b[0;34m]\u001b[0m\u001b[0;34m.\u001b[0m\u001b[0mreshape\u001b[0m\u001b[0;34m(\u001b[0m\u001b[0;36m1\u001b[0m\u001b[0;34m,\u001b[0m \u001b[0;34m-\u001b[0m\u001b[0;36m1\u001b[0m\u001b[0;34m)\u001b[0m\u001b[0;34m,\u001b[0m \u001b[0mlabels\u001b[0m\u001b[0;34m[\u001b[0m\u001b[0mi\u001b[0m\u001b[0;34m]\u001b[0m\u001b[0;34m.\u001b[0m\u001b[0mreshape\u001b[0m\u001b[0;34m(\u001b[0m\u001b[0mlen\u001b[0m\u001b[0;34m(\u001b[0m\u001b[0mself\u001b[0m\u001b[0;34m.\u001b[0m\u001b[0mdataset\u001b[0m\u001b[0;34m.\u001b[0m\u001b[0mclass_dict\u001b[0m\u001b[0;34m)\u001b[0m\u001b[0;34m)\u001b[0m\u001b[0;34m)\u001b[0m \u001b[0;32mfor\u001b[0m \u001b[0mi\u001b[0m \u001b[0;32min\u001b[0m \u001b[0mrange\u001b[0m\u001b[0;34m(\u001b[0m\u001b[0mlen\u001b[0m\u001b[0;34m(\u001b[0m\u001b[0mpreds\u001b[0m\u001b[0;34m)\u001b[0m\u001b[0;34m)\u001b[0m\u001b[0;34m]\u001b[0m\u001b[0;34m)\u001b[0m\u001b[0;34m\u001b[0m\u001b[0;34m\u001b[0m\u001b[0m\n\u001b[0m\u001b[1;32m     69\u001b[0m \u001b[0;34m\u001b[0m\u001b[0m\n\u001b[1;32m     70\u001b[0m \u001b[0;31m#         loss0 = nn.CrossEntropyLoss()(preds[0].reshape(1, -1), labels[0].reshape(1))\u001b[0m\u001b[0;34m\u001b[0m\u001b[0;34m\u001b[0m\u001b[0;34m\u001b[0m\u001b[0m\n",
      "\u001b[0;32m/datasets/home/41/641/jdlevy/.conda/envs/torchgeo/lib/python3.7/site-packages/torch/nn/modules/module.py\u001b[0m in \u001b[0;36m_call_impl\u001b[0;34m(self, *input, **kwargs)\u001b[0m\n\u001b[1;32m    720\u001b[0m             \u001b[0mresult\u001b[0m \u001b[0;34m=\u001b[0m \u001b[0mself\u001b[0m\u001b[0;34m.\u001b[0m\u001b[0m_slow_forward\u001b[0m\u001b[0;34m(\u001b[0m\u001b[0;34m*\u001b[0m\u001b[0minput\u001b[0m\u001b[0;34m,\u001b[0m \u001b[0;34m**\u001b[0m\u001b[0mkwargs\u001b[0m\u001b[0;34m)\u001b[0m\u001b[0;34m\u001b[0m\u001b[0;34m\u001b[0m\u001b[0m\n\u001b[1;32m    721\u001b[0m         \u001b[0;32melse\u001b[0m\u001b[0;34m:\u001b[0m\u001b[0;34m\u001b[0m\u001b[0;34m\u001b[0m\u001b[0m\n\u001b[0;32m--> 722\u001b[0;31m             \u001b[0mresult\u001b[0m \u001b[0;34m=\u001b[0m \u001b[0mself\u001b[0m\u001b[0;34m.\u001b[0m\u001b[0mforward\u001b[0m\u001b[0;34m(\u001b[0m\u001b[0;34m*\u001b[0m\u001b[0minput\u001b[0m\u001b[0;34m,\u001b[0m \u001b[0;34m**\u001b[0m\u001b[0mkwargs\u001b[0m\u001b[0;34m)\u001b[0m\u001b[0;34m\u001b[0m\u001b[0;34m\u001b[0m\u001b[0m\n\u001b[0m\u001b[1;32m    723\u001b[0m         for hook in itertools.chain(\n\u001b[1;32m    724\u001b[0m                 \u001b[0m_global_forward_hooks\u001b[0m\u001b[0;34m.\u001b[0m\u001b[0mvalues\u001b[0m\u001b[0;34m(\u001b[0m\u001b[0;34m)\u001b[0m\u001b[0;34m,\u001b[0m\u001b[0;34m\u001b[0m\u001b[0;34m\u001b[0m\u001b[0m\n",
      "\u001b[0;32m/datasets/home/41/641/jdlevy/.conda/envs/torchgeo/lib/python3.7/site-packages/torch/nn/modules/loss.py\u001b[0m in \u001b[0;36mforward\u001b[0;34m(self, input, target)\u001b[0m\n\u001b[1;32m    946\u001b[0m     \u001b[0;32mdef\u001b[0m \u001b[0mforward\u001b[0m\u001b[0;34m(\u001b[0m\u001b[0mself\u001b[0m\u001b[0;34m,\u001b[0m \u001b[0minput\u001b[0m\u001b[0;34m:\u001b[0m \u001b[0mTensor\u001b[0m\u001b[0;34m,\u001b[0m \u001b[0mtarget\u001b[0m\u001b[0;34m:\u001b[0m \u001b[0mTensor\u001b[0m\u001b[0;34m)\u001b[0m \u001b[0;34m->\u001b[0m \u001b[0mTensor\u001b[0m\u001b[0;34m:\u001b[0m\u001b[0;34m\u001b[0m\u001b[0;34m\u001b[0m\u001b[0m\n\u001b[1;32m    947\u001b[0m         return F.cross_entropy(input, target, weight=self.weight,\n\u001b[0;32m--> 948\u001b[0;31m                                ignore_index=self.ignore_index, reduction=self.reduction)\n\u001b[0m\u001b[1;32m    949\u001b[0m \u001b[0;34m\u001b[0m\u001b[0m\n\u001b[1;32m    950\u001b[0m \u001b[0;34m\u001b[0m\u001b[0m\n",
      "\u001b[0;32m/datasets/home/41/641/jdlevy/.conda/envs/torchgeo/lib/python3.7/site-packages/torch/nn/functional.py\u001b[0m in \u001b[0;36mcross_entropy\u001b[0;34m(input, target, weight, size_average, ignore_index, reduce, reduction)\u001b[0m\n\u001b[1;32m   2420\u001b[0m     \u001b[0;32mif\u001b[0m \u001b[0msize_average\u001b[0m \u001b[0;32mis\u001b[0m \u001b[0;32mnot\u001b[0m \u001b[0;32mNone\u001b[0m \u001b[0;32mor\u001b[0m \u001b[0mreduce\u001b[0m \u001b[0;32mis\u001b[0m \u001b[0;32mnot\u001b[0m \u001b[0;32mNone\u001b[0m\u001b[0;34m:\u001b[0m\u001b[0;34m\u001b[0m\u001b[0;34m\u001b[0m\u001b[0m\n\u001b[1;32m   2421\u001b[0m         \u001b[0mreduction\u001b[0m \u001b[0;34m=\u001b[0m \u001b[0m_Reduction\u001b[0m\u001b[0;34m.\u001b[0m\u001b[0mlegacy_get_string\u001b[0m\u001b[0;34m(\u001b[0m\u001b[0msize_average\u001b[0m\u001b[0;34m,\u001b[0m \u001b[0mreduce\u001b[0m\u001b[0;34m)\u001b[0m\u001b[0;34m\u001b[0m\u001b[0;34m\u001b[0m\u001b[0m\n\u001b[0;32m-> 2422\u001b[0;31m     \u001b[0;32mreturn\u001b[0m \u001b[0mnll_loss\u001b[0m\u001b[0;34m(\u001b[0m\u001b[0mlog_softmax\u001b[0m\u001b[0;34m(\u001b[0m\u001b[0minput\u001b[0m\u001b[0;34m,\u001b[0m \u001b[0;36m1\u001b[0m\u001b[0;34m)\u001b[0m\u001b[0;34m,\u001b[0m \u001b[0mtarget\u001b[0m\u001b[0;34m,\u001b[0m \u001b[0mweight\u001b[0m\u001b[0;34m,\u001b[0m \u001b[0;32mNone\u001b[0m\u001b[0;34m,\u001b[0m \u001b[0mignore_index\u001b[0m\u001b[0;34m,\u001b[0m \u001b[0;32mNone\u001b[0m\u001b[0;34m,\u001b[0m \u001b[0mreduction\u001b[0m\u001b[0;34m)\u001b[0m\u001b[0;34m\u001b[0m\u001b[0;34m\u001b[0m\u001b[0m\n\u001b[0m\u001b[1;32m   2423\u001b[0m \u001b[0;34m\u001b[0m\u001b[0m\n\u001b[1;32m   2424\u001b[0m \u001b[0;34m\u001b[0m\u001b[0m\n",
      "\u001b[0;32m/datasets/home/41/641/jdlevy/.conda/envs/torchgeo/lib/python3.7/site-packages/torch/nn/functional.py\u001b[0m in \u001b[0;36mnll_loss\u001b[0;34m(input, target, weight, size_average, ignore_index, reduce, reduction)\u001b[0m\n\u001b[1;32m   2214\u001b[0m     \u001b[0;32mif\u001b[0m \u001b[0minput\u001b[0m\u001b[0;34m.\u001b[0m\u001b[0msize\u001b[0m\u001b[0;34m(\u001b[0m\u001b[0;36m0\u001b[0m\u001b[0;34m)\u001b[0m \u001b[0;34m!=\u001b[0m \u001b[0mtarget\u001b[0m\u001b[0;34m.\u001b[0m\u001b[0msize\u001b[0m\u001b[0;34m(\u001b[0m\u001b[0;36m0\u001b[0m\u001b[0;34m)\u001b[0m\u001b[0;34m:\u001b[0m\u001b[0;34m\u001b[0m\u001b[0;34m\u001b[0m\u001b[0m\n\u001b[1;32m   2215\u001b[0m         raise ValueError('Expected input batch_size ({}) to match target batch_size ({}).'\n\u001b[0;32m-> 2216\u001b[0;31m                          .format(input.size(0), target.size(0)))\n\u001b[0m\u001b[1;32m   2217\u001b[0m     \u001b[0;32mif\u001b[0m \u001b[0mdim\u001b[0m \u001b[0;34m==\u001b[0m \u001b[0;36m2\u001b[0m\u001b[0;34m:\u001b[0m\u001b[0;34m\u001b[0m\u001b[0;34m\u001b[0m\u001b[0m\n\u001b[1;32m   2218\u001b[0m         \u001b[0mret\u001b[0m \u001b[0;34m=\u001b[0m \u001b[0mtorch\u001b[0m\u001b[0;34m.\u001b[0m\u001b[0m_C\u001b[0m\u001b[0;34m.\u001b[0m\u001b[0m_nn\u001b[0m\u001b[0;34m.\u001b[0m\u001b[0mnll_loss\u001b[0m\u001b[0;34m(\u001b[0m\u001b[0minput\u001b[0m\u001b[0;34m,\u001b[0m \u001b[0mtarget\u001b[0m\u001b[0;34m,\u001b[0m \u001b[0mweight\u001b[0m\u001b[0;34m,\u001b[0m \u001b[0m_Reduction\u001b[0m\u001b[0;34m.\u001b[0m\u001b[0mget_enum\u001b[0m\u001b[0;34m(\u001b[0m\u001b[0mreduction\u001b[0m\u001b[0;34m)\u001b[0m\u001b[0;34m,\u001b[0m \u001b[0mignore_index\u001b[0m\u001b[0;34m)\u001b[0m\u001b[0;34m\u001b[0m\u001b[0;34m\u001b[0m\u001b[0m\n",
      "\u001b[0;31mValueError\u001b[0m: Expected input batch_size (1) to match target batch_size (4)."
     ]
    }
   ],
   "source": [
    "mtt.train()"
   ]
  },
  {
   "cell_type": "code",
   "execution_count": 28,
   "metadata": {},
   "outputs": [],
   "source": [
    "from tqdm import tqdm"
   ]
  },
  {
   "cell_type": "code",
   "execution_count": 29,
   "metadata": {},
   "outputs": [
    {
     "data": {
      "text/plain": [
       "<torch.utils.data.dataset.Subset at 0x7fdaa7674ed0>"
      ]
     },
     "execution_count": 29,
     "metadata": {},
     "output_type": "execute_result"
    }
   ],
   "source": [
    "train_bird_dataset"
   ]
  },
  {
   "cell_type": "code",
   "execution_count": 30,
   "metadata": {},
   "outputs": [],
   "source": [
    "# bd.images[1401]"
   ]
  },
  {
   "cell_type": "code",
   "execution_count": 31,
   "metadata": {},
   "outputs": [],
   "source": [
    "# train_bird_dataset[478]"
   ]
  },
  {
   "cell_type": "code",
   "execution_count": 38,
   "metadata": {},
   "outputs": [
    {
     "data": {
      "text/plain": [
       "'RGB'"
      ]
     },
     "execution_count": 38,
     "metadata": {},
     "output_type": "execute_result"
    }
   ],
   "source": [
    "full_dataset[0]['image'].mode"
   ]
  },
  {
   "cell_type": "code",
   "execution_count": 41,
   "metadata": {},
   "outputs": [
    {
     "name": "stderr",
     "output_type": "stream",
     "text": [
      "  8%|▊         | 899/11788 [00:00<00:06, 1659.40it/s]"
     ]
    },
    {
     "name": "stdout",
     "output_type": "stream",
     "text": [
      "447\n"
     ]
    },
    {
     "name": "stderr",
     "output_type": "stream",
     "text": [
      " 13%|█▎        | 1510/11788 [00:01<00:08, 1181.56it/s]"
     ]
    },
    {
     "name": "stdout",
     "output_type": "stream",
     "text": [
      "1400\n"
     ]
    },
    {
     "name": "stderr",
     "output_type": "stream",
     "text": [
      " 32%|███▏      | 3750/11788 [00:03<00:07, 1096.70it/s]"
     ]
    },
    {
     "name": "stdout",
     "output_type": "stream",
     "text": [
      "3616\n",
      "3618\n",
      "3779\n"
     ]
    },
    {
     "name": "stderr",
     "output_type": "stream",
     "text": [
      " 44%|████▍     | 5169/11788 [00:04<00:06, 1045.36it/s]"
     ]
    },
    {
     "name": "stdout",
     "output_type": "stream",
     "text": [
      "5028\n"
     ]
    },
    {
     "name": "stderr",
     "output_type": "stream",
     "text": [
      " 47%|████▋     | 5599/11788 [00:04<00:05, 1056.59it/s]"
     ]
    },
    {
     "name": "stdout",
     "output_type": "stream",
     "text": [
      "5392\n"
     ]
    },
    {
     "name": "stderr",
     "output_type": "stream",
     "text": [
      " 55%|█████▍    | 6458/11788 [00:05<00:05, 1035.06it/s]"
     ]
    },
    {
     "name": "stdout",
     "output_type": "stream",
     "text": [
      "6320\n"
     ]
    },
    {
     "name": "stderr",
     "output_type": "stream",
     "text": [
      "100%|██████████| 11788/11788 [00:10<00:00, 1087.08it/s]\n"
     ]
    }
   ],
   "source": [
    "bw_idx = []\n",
    "for i in tqdm(range(len(full_dataset))):\n",
    "    if full_dataset[i]['image'].mode != 'RGB':\n",
    "        print(i)\n",
    "        bw_idx.append(i)\n",
    "#         print(train_bird_dataset[i])\n",
    "#         break"
   ]
  },
  {
   "cell_type": "code",
   "execution_count": 42,
   "metadata": {},
   "outputs": [
    {
     "data": {
      "text/plain": [
       "[447, 1400, 3616, 3618, 3779, 5028, 5392, 6320]"
      ]
     },
     "execution_count": 42,
     "metadata": {},
     "output_type": "execute_result"
    }
   ],
   "source": [
    "bw_idx"
   ]
  },
  {
   "cell_type": "code",
   "execution_count": null,
   "metadata": {},
   "outputs": [],
   "source": [
    "bw_ids = [448, 1401, 3617, 3619, 3780, 5029, 5393, 6321]"
   ]
  },
  {
   "cell_type": "code",
   "execution_count": 44,
   "metadata": {},
   "outputs": [
    {
     "name": "stdout",
     "output_type": "stream",
     "text": [
      "image_id:  448\n",
      "{'image': <PIL.JpegImagePlugin.JpegImageFile image mode=L size=500x333 at 0x7FDAA8E13990>, 'labels': 8}\n",
      "image_id:  1401\n",
      "{'image': <PIL.JpegImagePlugin.JpegImageFile image mode=L size=500x375 at 0x7FDAA8F935D0>, 'labels': 24}\n",
      "image_id:  3617\n",
      "{'image': <PIL.JpegImagePlugin.JpegImageFile image mode=L size=500x326 at 0x7FDAA8E13B50>, 'labels': 62}\n",
      "image_id:  3619\n",
      "{'image': <PIL.JpegImagePlugin.JpegImageFile image mode=L size=500x398 at 0x7FDAA76838D0>, 'labels': 62}\n",
      "image_id:  3780\n",
      "{'image': <PIL.JpegImagePlugin.JpegImageFile image mode=L size=500x281 at 0x7FDAA8E13990>, 'labels': 65}\n",
      "image_id:  5029\n",
      "{'image': <PIL.JpegImagePlugin.JpegImageFile image mode=L size=485x500 at 0x7FDAA8F93810>, 'labels': 86}\n",
      "image_id:  5393\n",
      "{'image': <PIL.JpegImagePlugin.JpegImageFile image mode=L size=500x500 at 0x7FDAA8E13810>, 'labels': 92}\n",
      "image_id:  6321\n",
      "{'image': <PIL.JpegImagePlugin.JpegImageFile image mode=L size=484x500 at 0x7FDAA76837D0>, 'labels': 107}\n"
     ]
    }
   ],
   "source": [
    "for idx in bw_idx:\n",
    "    print(full_dataset[idx])"
   ]
  },
  {
   "cell_type": "code",
   "execution_count": 24,
   "metadata": {},
   "outputs": [
    {
     "name": "stderr",
     "output_type": "stream",
     "text": [
      "  0%|          | 0/11788 [00:00<?, ?it/s]\n"
     ]
    },
    {
     "ename": "AttributeError",
     "evalue": "'Bird_Attribute_Loader' object has no attribute 'transform'",
     "output_type": "error",
     "traceback": [
      "\u001b[0;31m---------------------------------------------------------------------------\u001b[0m",
      "\u001b[0;31mAttributeError\u001b[0m                            Traceback (most recent call last)",
      "\u001b[0;32m<ipython-input-24-b3dc87da2831>\u001b[0m in \u001b[0;36m<module>\u001b[0;34m\u001b[0m\n\u001b[1;32m      1\u001b[0m \u001b[0;32mfor\u001b[0m \u001b[0mi\u001b[0m \u001b[0;32min\u001b[0m \u001b[0mtqdm\u001b[0m\u001b[0;34m(\u001b[0m\u001b[0mrange\u001b[0m\u001b[0;34m(\u001b[0m\u001b[0mlen\u001b[0m\u001b[0;34m(\u001b[0m\u001b[0mfull_dataset\u001b[0m\u001b[0;34m)\u001b[0m\u001b[0;34m)\u001b[0m\u001b[0;34m)\u001b[0m\u001b[0;34m:\u001b[0m\u001b[0;34m\u001b[0m\u001b[0;34m\u001b[0m\u001b[0m\n\u001b[0;32m----> 2\u001b[0;31m     \u001b[0;32mif\u001b[0m \u001b[0mfull_dataset\u001b[0m\u001b[0;34m[\u001b[0m\u001b[0mi\u001b[0m\u001b[0;34m]\u001b[0m\u001b[0;34m[\u001b[0m\u001b[0;34m'image'\u001b[0m\u001b[0;34m]\u001b[0m\u001b[0;34m.\u001b[0m\u001b[0msize\u001b[0m\u001b[0;34m(\u001b[0m\u001b[0;34m)\u001b[0m \u001b[0;34m!=\u001b[0m \u001b[0mtorch\u001b[0m\u001b[0;34m.\u001b[0m\u001b[0mSize\u001b[0m\u001b[0;34m(\u001b[0m\u001b[0;34m[\u001b[0m\u001b[0;36m3\u001b[0m\u001b[0;34m,\u001b[0m \u001b[0;36m224\u001b[0m\u001b[0;34m,\u001b[0m \u001b[0;36m224\u001b[0m\u001b[0;34m]\u001b[0m\u001b[0;34m)\u001b[0m\u001b[0;34m:\u001b[0m\u001b[0;34m\u001b[0m\u001b[0;34m\u001b[0m\u001b[0m\n\u001b[0m\u001b[1;32m      3\u001b[0m         \u001b[0mprint\u001b[0m\u001b[0;34m(\u001b[0m\u001b[0mi\u001b[0m\u001b[0;34m)\u001b[0m\u001b[0;34m\u001b[0m\u001b[0;34m\u001b[0m\u001b[0m\n",
      "\u001b[0;32m~/xai_birds/src/XAI_BirdAttribute_dataloader.py\u001b[0m in \u001b[0;36m__getitem__\u001b[0;34m(self, idx)\u001b[0m\n\u001b[1;32m     61\u001b[0m             \u001b[0mlabel\u001b[0m \u001b[0;34m=\u001b[0m \u001b[0mself\u001b[0m\u001b[0;34m.\u001b[0m\u001b[0mimages\u001b[0m\u001b[0;34m[\u001b[0m\u001b[0midx\u001b[0m\u001b[0;34m]\u001b[0m\u001b[0;34m[\u001b[0m\u001b[0;34m'class_label'\u001b[0m\u001b[0;34m]\u001b[0m\u001b[0;34m\u001b[0m\u001b[0;34m\u001b[0m\u001b[0m\n\u001b[1;32m     62\u001b[0m             \u001b[0msample\u001b[0m \u001b[0;34m=\u001b[0m \u001b[0;34m{\u001b[0m\u001b[0;34m'image'\u001b[0m\u001b[0;34m:\u001b[0m \u001b[0mimage\u001b[0m\u001b[0;34m,\u001b[0m \u001b[0;34m'labels'\u001b[0m\u001b[0;34m:\u001b[0m\u001b[0mlabel\u001b[0m\u001b[0;34m}\u001b[0m\u001b[0;34m\u001b[0m\u001b[0;34m\u001b[0m\u001b[0m\n\u001b[0;32m---> 63\u001b[0;31m         \u001b[0;32mif\u001b[0m \u001b[0mself\u001b[0m\u001b[0;34m.\u001b[0m\u001b[0mtransform\u001b[0m\u001b[0;34m:\u001b[0m\u001b[0;34m\u001b[0m\u001b[0;34m\u001b[0m\u001b[0m\n\u001b[0m\u001b[1;32m     64\u001b[0m             \u001b[0msample\u001b[0m\u001b[0;34m[\u001b[0m\u001b[0;34m'image'\u001b[0m\u001b[0;34m]\u001b[0m \u001b[0;34m=\u001b[0m \u001b[0mself\u001b[0m\u001b[0;34m.\u001b[0m\u001b[0mtransform\u001b[0m\u001b[0;34m(\u001b[0m\u001b[0msample\u001b[0m\u001b[0;34m[\u001b[0m\u001b[0;34m'image'\u001b[0m\u001b[0;34m]\u001b[0m\u001b[0;34m)\u001b[0m\u001b[0;34m\u001b[0m\u001b[0;34m\u001b[0m\u001b[0m\n\u001b[1;32m     65\u001b[0m         \u001b[0;32mif\u001b[0m \u001b[0mself\u001b[0m\u001b[0;34m.\u001b[0m\u001b[0mverbose\u001b[0m\u001b[0;34m:\u001b[0m\u001b[0;34m\u001b[0m\u001b[0;34m\u001b[0m\u001b[0m\n",
      "\u001b[0;31mAttributeError\u001b[0m: 'Bird_Attribute_Loader' object has no attribute 'transform'"
     ]
    }
   ],
   "source": [
    "for i in tqdm(range(len(full_dataset))):\n",
    "    if full_dataset[i]['image'].size() != torch.Size([3, 224, 224]):\n",
    "        print(i)"
   ]
  },
  {
   "cell_type": "code",
   "execution_count": 34,
   "metadata": {},
   "outputs": [
    {
     "name": "stdout",
     "output_type": "stream",
     "text": [
      "image_id:  3617\n",
      "torch.Size([1, 224, 224])\n",
      "image_id:  3780\n",
      "torch.Size([1, 224, 224])\n",
      "image_id:  5029\n",
      "torch.Size([1, 224, 224])\n"
     ]
    }
   ],
   "source": [
    "b_w_indices = [1407, 1444, 1681]\n",
    "for idx in b_w_indices:\n",
    "    print(val_bird_dataset[idx]['image'].size())"
   ]
  },
  {
   "cell_type": "code",
   "execution_count": null,
   "metadata": {},
   "outputs": [],
   "source": [
    "bd.images"
   ]
  },
  {
   "cell_type": "code",
   "execution_count": null,
   "metadata": {},
   "outputs": [],
   "source": [
    "train_bird_dataset"
   ]
  },
  {
   "cell_type": "code",
   "execution_count": 33,
   "metadata": {},
   "outputs": [
    {
     "name": "stdout",
     "output_type": "stream",
     "text": [
      "image_id:  1401\n",
      "torch.Size([1, 224, 224])\n",
      "image_id:  3780\n",
      "torch.Size([1, 224, 224])\n",
      "image_id:  448\n",
      "torch.Size([1, 224, 224])\n",
      "image_id:  5393\n",
      "torch.Size([1, 224, 224])\n",
      "image_id:  3617\n",
      "torch.Size([1, 224, 224])\n",
      "image_id:  3619\n",
      "torch.Size([1, 224, 224])\n"
     ]
    }
   ],
   "source": [
    "b_w_indices = [478, 1761, 5146, 5244, 5650, 7718]\n",
    "for idx in b_w_indices:\n",
    "    print(train_bird_dataset[idx]['image'].size())"
   ]
  },
  {
   "cell_type": "code",
   "execution_count": null,
   "metadata": {},
   "outputs": [],
   "source": []
  },
  {
   "cell_type": "code",
   "execution_count": 14,
   "metadata": {},
   "outputs": [
    {
     "name": "stderr",
     "output_type": "stream",
     "text": [
      "98it [00:07, 12.54it/s]\n"
     ]
    },
    {
     "ename": "KeyboardInterrupt",
     "evalue": "",
     "output_type": "error",
     "traceback": [
      "\u001b[0;31m---------------------------------------------------------------------------\u001b[0m",
      "\u001b[0;31mKeyboardInterrupt\u001b[0m                         Traceback (most recent call last)",
      "\u001b[0;32m<ipython-input-14-ccb59b72e89a>\u001b[0m in \u001b[0;36m<module>\u001b[0;34m\u001b[0m\n\u001b[0;32m----> 1\u001b[0;31m \u001b[0;32mfor\u001b[0m \u001b[0mi\u001b[0m\u001b[0;34m,\u001b[0m \u001b[0mdata\u001b[0m \u001b[0;32min\u001b[0m \u001b[0mtqdm\u001b[0m\u001b[0;34m(\u001b[0m\u001b[0menumerate\u001b[0m\u001b[0;34m(\u001b[0m\u001b[0mtrain_bird_dataset\u001b[0m\u001b[0;34m)\u001b[0m\u001b[0;34m)\u001b[0m\u001b[0;34m:\u001b[0m\u001b[0;34m\u001b[0m\u001b[0;34m\u001b[0m\u001b[0m\n\u001b[0m\u001b[1;32m      2\u001b[0m     \u001b[0;32mif\u001b[0m \u001b[0mdata\u001b[0m\u001b[0;34m[\u001b[0m\u001b[0;34m'labels'\u001b[0m\u001b[0;34m]\u001b[0m\u001b[0;34m>\u001b[0m\u001b[0;36m199\u001b[0m\u001b[0;34m:\u001b[0m\u001b[0;34m\u001b[0m\u001b[0;34m\u001b[0m\u001b[0m\n\u001b[1;32m      3\u001b[0m         \u001b[0mprint\u001b[0m\u001b[0;34m(\u001b[0m\u001b[0mi\u001b[0m\u001b[0;34m)\u001b[0m\u001b[0;34m\u001b[0m\u001b[0;34m\u001b[0m\u001b[0m\n\u001b[1;32m      4\u001b[0m         \u001b[0mprint\u001b[0m\u001b[0;34m(\u001b[0m\u001b[0mdata\u001b[0m\u001b[0;34m)\u001b[0m\u001b[0;34m\u001b[0m\u001b[0;34m\u001b[0m\u001b[0m\n\u001b[1;32m      5\u001b[0m         \u001b[0;32mbreak\u001b[0m\u001b[0;34m\u001b[0m\u001b[0;34m\u001b[0m\u001b[0m\n",
      "\u001b[0;32m/opt/conda/lib/python3.7/site-packages/tqdm/std.py\u001b[0m in \u001b[0;36m__iter__\u001b[0;34m(self)\u001b[0m\n\u001b[1;32m   1127\u001b[0m \u001b[0;34m\u001b[0m\u001b[0m\n\u001b[1;32m   1128\u001b[0m         \u001b[0;32mtry\u001b[0m\u001b[0;34m:\u001b[0m\u001b[0;34m\u001b[0m\u001b[0;34m\u001b[0m\u001b[0m\n\u001b[0;32m-> 1129\u001b[0;31m             \u001b[0;32mfor\u001b[0m \u001b[0mobj\u001b[0m \u001b[0;32min\u001b[0m \u001b[0miterable\u001b[0m\u001b[0;34m:\u001b[0m\u001b[0;34m\u001b[0m\u001b[0;34m\u001b[0m\u001b[0m\n\u001b[0m\u001b[1;32m   1130\u001b[0m                 \u001b[0;32myield\u001b[0m \u001b[0mobj\u001b[0m\u001b[0;34m\u001b[0m\u001b[0;34m\u001b[0m\u001b[0m\n\u001b[1;32m   1131\u001b[0m                 \u001b[0;31m# Update and possibly print the progressbar.\u001b[0m\u001b[0;34m\u001b[0m\u001b[0;34m\u001b[0m\u001b[0;34m\u001b[0m\u001b[0m\n",
      "\u001b[0;32m~/xai_birds/src/XAI_BirdAttribute_dataloader.py\u001b[0m in \u001b[0;36m__getitem__\u001b[0;34m(self, idx)\u001b[0m\n\u001b[1;32m     54\u001b[0m             \u001b[0msample\u001b[0m \u001b[0;34m=\u001b[0m \u001b[0;34m{\u001b[0m\u001b[0;34m'image'\u001b[0m\u001b[0;34m:\u001b[0m \u001b[0mimage\u001b[0m\u001b[0;34m,\u001b[0m \u001b[0;34m'labels'\u001b[0m\u001b[0;34m:\u001b[0m\u001b[0mlabel\u001b[0m\u001b[0;34m}\u001b[0m\u001b[0;34m\u001b[0m\u001b[0;34m\u001b[0m\u001b[0m\n\u001b[1;32m     55\u001b[0m         \u001b[0;32mif\u001b[0m \u001b[0mself\u001b[0m\u001b[0;34m.\u001b[0m\u001b[0mtransform\u001b[0m\u001b[0;34m:\u001b[0m\u001b[0;34m\u001b[0m\u001b[0;34m\u001b[0m\u001b[0m\n\u001b[0;32m---> 56\u001b[0;31m             \u001b[0msample\u001b[0m\u001b[0;34m[\u001b[0m\u001b[0;34m'image'\u001b[0m\u001b[0;34m]\u001b[0m \u001b[0;34m=\u001b[0m \u001b[0mself\u001b[0m\u001b[0;34m.\u001b[0m\u001b[0mtransform\u001b[0m\u001b[0;34m(\u001b[0m\u001b[0msample\u001b[0m\u001b[0;34m[\u001b[0m\u001b[0;34m'image'\u001b[0m\u001b[0;34m]\u001b[0m\u001b[0;34m)\u001b[0m\u001b[0;34m\u001b[0m\u001b[0;34m\u001b[0m\u001b[0m\n\u001b[0m\u001b[1;32m     57\u001b[0m         \u001b[0;32mif\u001b[0m \u001b[0mself\u001b[0m\u001b[0;34m.\u001b[0m\u001b[0mverbose\u001b[0m\u001b[0;34m:\u001b[0m\u001b[0;34m\u001b[0m\u001b[0;34m\u001b[0m\u001b[0m\n\u001b[1;32m     58\u001b[0m             \u001b[0mprint\u001b[0m\u001b[0;34m(\u001b[0m\u001b[0;34m'image_id: '\u001b[0m\u001b[0;34m,\u001b[0m \u001b[0mself\u001b[0m\u001b[0;34m.\u001b[0m\u001b[0mimages\u001b[0m\u001b[0;34m[\u001b[0m\u001b[0midx\u001b[0m\u001b[0;34m]\u001b[0m\u001b[0;34m[\u001b[0m\u001b[0;34m'image_id'\u001b[0m\u001b[0;34m]\u001b[0m\u001b[0;34m)\u001b[0m\u001b[0;34m\u001b[0m\u001b[0;34m\u001b[0m\u001b[0m\n",
      "\u001b[0;32m/opt/conda/lib/python3.7/site-packages/torchvision/transforms/transforms.py\u001b[0m in \u001b[0;36m__call__\u001b[0;34m(self, img)\u001b[0m\n\u001b[1;32m     59\u001b[0m     \u001b[0;32mdef\u001b[0m \u001b[0m__call__\u001b[0m\u001b[0;34m(\u001b[0m\u001b[0mself\u001b[0m\u001b[0;34m,\u001b[0m \u001b[0mimg\u001b[0m\u001b[0;34m)\u001b[0m\u001b[0;34m:\u001b[0m\u001b[0;34m\u001b[0m\u001b[0;34m\u001b[0m\u001b[0m\n\u001b[1;32m     60\u001b[0m         \u001b[0;32mfor\u001b[0m \u001b[0mt\u001b[0m \u001b[0;32min\u001b[0m \u001b[0mself\u001b[0m\u001b[0;34m.\u001b[0m\u001b[0mtransforms\u001b[0m\u001b[0;34m:\u001b[0m\u001b[0;34m\u001b[0m\u001b[0;34m\u001b[0m\u001b[0m\n\u001b[0;32m---> 61\u001b[0;31m             \u001b[0mimg\u001b[0m \u001b[0;34m=\u001b[0m \u001b[0mt\u001b[0m\u001b[0;34m(\u001b[0m\u001b[0mimg\u001b[0m\u001b[0;34m)\u001b[0m\u001b[0;34m\u001b[0m\u001b[0;34m\u001b[0m\u001b[0m\n\u001b[0m\u001b[1;32m     62\u001b[0m         \u001b[0;32mreturn\u001b[0m \u001b[0mimg\u001b[0m\u001b[0;34m\u001b[0m\u001b[0;34m\u001b[0m\u001b[0m\n\u001b[1;32m     63\u001b[0m \u001b[0;34m\u001b[0m\u001b[0m\n",
      "\u001b[0;32m/opt/conda/lib/python3.7/site-packages/torchvision/transforms/transforms.py\u001b[0m in \u001b[0;36m__call__\u001b[0;34m(self, img)\u001b[0m\n\u001b[1;32m    196\u001b[0m             \u001b[0mPIL\u001b[0m \u001b[0mImage\u001b[0m\u001b[0;34m:\u001b[0m \u001b[0mRescaled\u001b[0m \u001b[0mimage\u001b[0m\u001b[0;34m.\u001b[0m\u001b[0;34m\u001b[0m\u001b[0;34m\u001b[0m\u001b[0m\n\u001b[1;32m    197\u001b[0m         \"\"\"\n\u001b[0;32m--> 198\u001b[0;31m         \u001b[0;32mreturn\u001b[0m \u001b[0mF\u001b[0m\u001b[0;34m.\u001b[0m\u001b[0mresize\u001b[0m\u001b[0;34m(\u001b[0m\u001b[0mimg\u001b[0m\u001b[0;34m,\u001b[0m \u001b[0mself\u001b[0m\u001b[0;34m.\u001b[0m\u001b[0msize\u001b[0m\u001b[0;34m,\u001b[0m \u001b[0mself\u001b[0m\u001b[0;34m.\u001b[0m\u001b[0minterpolation\u001b[0m\u001b[0;34m)\u001b[0m\u001b[0;34m\u001b[0m\u001b[0;34m\u001b[0m\u001b[0m\n\u001b[0m\u001b[1;32m    199\u001b[0m \u001b[0;34m\u001b[0m\u001b[0m\n\u001b[1;32m    200\u001b[0m     \u001b[0;32mdef\u001b[0m \u001b[0m__repr__\u001b[0m\u001b[0;34m(\u001b[0m\u001b[0mself\u001b[0m\u001b[0;34m)\u001b[0m\u001b[0;34m:\u001b[0m\u001b[0;34m\u001b[0m\u001b[0;34m\u001b[0m\u001b[0m\n",
      "\u001b[0;32m/opt/conda/lib/python3.7/site-packages/torchvision/transforms/functional.py\u001b[0m in \u001b[0;36mresize\u001b[0;34m(img, size, interpolation)\u001b[0m\n\u001b[1;32m    253\u001b[0m             \u001b[0;32mreturn\u001b[0m \u001b[0mimg\u001b[0m\u001b[0;34m.\u001b[0m\u001b[0mresize\u001b[0m\u001b[0;34m(\u001b[0m\u001b[0;34m(\u001b[0m\u001b[0mow\u001b[0m\u001b[0;34m,\u001b[0m \u001b[0moh\u001b[0m\u001b[0;34m)\u001b[0m\u001b[0;34m,\u001b[0m \u001b[0minterpolation\u001b[0m\u001b[0;34m)\u001b[0m\u001b[0;34m\u001b[0m\u001b[0;34m\u001b[0m\u001b[0m\n\u001b[1;32m    254\u001b[0m     \u001b[0;32melse\u001b[0m\u001b[0;34m:\u001b[0m\u001b[0;34m\u001b[0m\u001b[0;34m\u001b[0m\u001b[0m\n\u001b[0;32m--> 255\u001b[0;31m         \u001b[0;32mreturn\u001b[0m \u001b[0mimg\u001b[0m\u001b[0;34m.\u001b[0m\u001b[0mresize\u001b[0m\u001b[0;34m(\u001b[0m\u001b[0msize\u001b[0m\u001b[0;34m[\u001b[0m\u001b[0;34m:\u001b[0m\u001b[0;34m:\u001b[0m\u001b[0;34m-\u001b[0m\u001b[0;36m1\u001b[0m\u001b[0;34m]\u001b[0m\u001b[0;34m,\u001b[0m \u001b[0minterpolation\u001b[0m\u001b[0;34m)\u001b[0m\u001b[0;34m\u001b[0m\u001b[0;34m\u001b[0m\u001b[0m\n\u001b[0m\u001b[1;32m    256\u001b[0m \u001b[0;34m\u001b[0m\u001b[0m\n\u001b[1;32m    257\u001b[0m \u001b[0;34m\u001b[0m\u001b[0m\n",
      "\u001b[0;32m/opt/conda/lib/python3.7/site-packages/PIL/Image.py\u001b[0m in \u001b[0;36mresize\u001b[0;34m(self, size, resample, box)\u001b[0m\n\u001b[1;32m   1884\u001b[0m             \u001b[0;32mreturn\u001b[0m \u001b[0mim\u001b[0m\u001b[0;34m.\u001b[0m\u001b[0mconvert\u001b[0m\u001b[0;34m(\u001b[0m\u001b[0mself\u001b[0m\u001b[0;34m.\u001b[0m\u001b[0mmode\u001b[0m\u001b[0;34m)\u001b[0m\u001b[0;34m\u001b[0m\u001b[0;34m\u001b[0m\u001b[0m\n\u001b[1;32m   1885\u001b[0m \u001b[0;34m\u001b[0m\u001b[0m\n\u001b[0;32m-> 1886\u001b[0;31m         \u001b[0mself\u001b[0m\u001b[0;34m.\u001b[0m\u001b[0mload\u001b[0m\u001b[0;34m(\u001b[0m\u001b[0;34m)\u001b[0m\u001b[0;34m\u001b[0m\u001b[0;34m\u001b[0m\u001b[0m\n\u001b[0m\u001b[1;32m   1887\u001b[0m \u001b[0;34m\u001b[0m\u001b[0m\n\u001b[1;32m   1888\u001b[0m         \u001b[0;32mreturn\u001b[0m \u001b[0mself\u001b[0m\u001b[0;34m.\u001b[0m\u001b[0m_new\u001b[0m\u001b[0;34m(\u001b[0m\u001b[0mself\u001b[0m\u001b[0;34m.\u001b[0m\u001b[0mim\u001b[0m\u001b[0;34m.\u001b[0m\u001b[0mresize\u001b[0m\u001b[0;34m(\u001b[0m\u001b[0msize\u001b[0m\u001b[0;34m,\u001b[0m \u001b[0mresample\u001b[0m\u001b[0;34m,\u001b[0m \u001b[0mbox\u001b[0m\u001b[0;34m)\u001b[0m\u001b[0;34m)\u001b[0m\u001b[0;34m\u001b[0m\u001b[0;34m\u001b[0m\u001b[0m\n",
      "\u001b[0;32m/opt/conda/lib/python3.7/site-packages/PIL/ImageFile.py\u001b[0m in \u001b[0;36mload\u001b[0;34m(self)\u001b[0m\n\u001b[1;32m    207\u001b[0m                     \u001b[0mself\u001b[0m\u001b[0;34m.\u001b[0m\u001b[0mmap\u001b[0m \u001b[0;34m=\u001b[0m \u001b[0;32mNone\u001b[0m\u001b[0;34m\u001b[0m\u001b[0;34m\u001b[0m\u001b[0m\n\u001b[1;32m    208\u001b[0m \u001b[0;34m\u001b[0m\u001b[0m\n\u001b[0;32m--> 209\u001b[0;31m         \u001b[0mself\u001b[0m\u001b[0;34m.\u001b[0m\u001b[0mload_prepare\u001b[0m\u001b[0;34m(\u001b[0m\u001b[0;34m)\u001b[0m\u001b[0;34m\u001b[0m\u001b[0;34m\u001b[0m\u001b[0m\n\u001b[0m\u001b[1;32m    210\u001b[0m         \u001b[0merr_code\u001b[0m \u001b[0;34m=\u001b[0m \u001b[0;34m-\u001b[0m\u001b[0;36m3\u001b[0m  \u001b[0;31m# initialize to unknown error\u001b[0m\u001b[0;34m\u001b[0m\u001b[0;34m\u001b[0m\u001b[0m\n\u001b[1;32m    211\u001b[0m         \u001b[0;32mif\u001b[0m \u001b[0;32mnot\u001b[0m \u001b[0mself\u001b[0m\u001b[0;34m.\u001b[0m\u001b[0mmap\u001b[0m\u001b[0;34m:\u001b[0m\u001b[0;34m\u001b[0m\u001b[0;34m\u001b[0m\u001b[0m\n",
      "\u001b[0;32m/opt/conda/lib/python3.7/site-packages/PIL/ImageFile.py\u001b[0m in \u001b[0;36mload_prepare\u001b[0;34m(self)\u001b[0m\n\u001b[1;32m    277\u001b[0m         \u001b[0;31m# create image memory if necessary\u001b[0m\u001b[0;34m\u001b[0m\u001b[0;34m\u001b[0m\u001b[0;34m\u001b[0m\u001b[0m\n\u001b[1;32m    278\u001b[0m         \u001b[0;32mif\u001b[0m \u001b[0;32mnot\u001b[0m \u001b[0mself\u001b[0m\u001b[0;34m.\u001b[0m\u001b[0mim\u001b[0m \u001b[0;32mor\u001b[0m \u001b[0mself\u001b[0m\u001b[0;34m.\u001b[0m\u001b[0mim\u001b[0m\u001b[0;34m.\u001b[0m\u001b[0mmode\u001b[0m \u001b[0;34m!=\u001b[0m \u001b[0mself\u001b[0m\u001b[0;34m.\u001b[0m\u001b[0mmode\u001b[0m \u001b[0;32mor\u001b[0m \u001b[0mself\u001b[0m\u001b[0;34m.\u001b[0m\u001b[0mim\u001b[0m\u001b[0;34m.\u001b[0m\u001b[0msize\u001b[0m \u001b[0;34m!=\u001b[0m \u001b[0mself\u001b[0m\u001b[0;34m.\u001b[0m\u001b[0msize\u001b[0m\u001b[0;34m:\u001b[0m\u001b[0;34m\u001b[0m\u001b[0;34m\u001b[0m\u001b[0m\n\u001b[0;32m--> 279\u001b[0;31m             \u001b[0mself\u001b[0m\u001b[0;34m.\u001b[0m\u001b[0mim\u001b[0m \u001b[0;34m=\u001b[0m \u001b[0mImage\u001b[0m\u001b[0;34m.\u001b[0m\u001b[0mcore\u001b[0m\u001b[0;34m.\u001b[0m\u001b[0mnew\u001b[0m\u001b[0;34m(\u001b[0m\u001b[0mself\u001b[0m\u001b[0;34m.\u001b[0m\u001b[0mmode\u001b[0m\u001b[0;34m,\u001b[0m \u001b[0mself\u001b[0m\u001b[0;34m.\u001b[0m\u001b[0msize\u001b[0m\u001b[0;34m)\u001b[0m\u001b[0;34m\u001b[0m\u001b[0;34m\u001b[0m\u001b[0m\n\u001b[0m\u001b[1;32m    280\u001b[0m         \u001b[0;31m# create palette (optional)\u001b[0m\u001b[0;34m\u001b[0m\u001b[0;34m\u001b[0m\u001b[0;34m\u001b[0m\u001b[0m\n\u001b[1;32m    281\u001b[0m         \u001b[0;32mif\u001b[0m \u001b[0mself\u001b[0m\u001b[0;34m.\u001b[0m\u001b[0mmode\u001b[0m \u001b[0;34m==\u001b[0m \u001b[0;34m\"P\"\u001b[0m\u001b[0;34m:\u001b[0m\u001b[0;34m\u001b[0m\u001b[0;34m\u001b[0m\u001b[0m\n",
      "\u001b[0;31mKeyboardInterrupt\u001b[0m: "
     ]
    }
   ],
   "source": [
    "for i, data in tqdm(enumerate(train_bird_dataset)):\n",
    "    if data['labels']>199:\n",
    "        print(i)\n",
    "        print(data)\n",
    "        break"
   ]
  },
  {
   "cell_type": "code",
   "execution_count": 44,
   "metadata": {},
   "outputs": [
    {
     "name": "stderr",
     "output_type": "stream",
     "text": [
      "592it [00:47, 12.37it/s]"
     ]
    },
    {
     "name": "stdout",
     "output_type": "stream",
     "text": [
      "592\n",
      "{'image': tensor([[[[0.8157, 0.7216, 0.6078,  ..., 0.9294, 0.8392, 0.7020],\n",
      "          [0.8275, 0.7294, 0.6157,  ..., 0.9373, 0.8431, 0.7098],\n",
      "          [0.8353, 0.7412, 0.6314,  ..., 0.9412, 0.8471, 0.7059],\n",
      "          ...,\n",
      "          [0.3020, 0.3020, 0.2941,  ..., 0.3294, 0.4353, 0.5255],\n",
      "          [0.2980, 0.2980, 0.2941,  ..., 0.3490, 0.4588, 0.5412],\n",
      "          [0.2824, 0.2980, 0.3020,  ..., 0.3765, 0.4824, 0.5569]],\n",
      "\n",
      "         [[0.6784, 0.6235, 0.5529,  ..., 0.8196, 0.7647, 0.6941],\n",
      "          [0.6863, 0.6235, 0.5529,  ..., 0.8275, 0.7686, 0.7059],\n",
      "          [0.6941, 0.6314, 0.5608,  ..., 0.8353, 0.7686, 0.7020],\n",
      "          ...,\n",
      "          [0.2627, 0.2627, 0.2627,  ..., 0.3255, 0.4549, 0.5765],\n",
      "          [0.2588, 0.2627, 0.2627,  ..., 0.3373, 0.4627, 0.5765],\n",
      "          [0.2471, 0.2627, 0.2706,  ..., 0.3608, 0.4824, 0.5922]],\n",
      "\n",
      "         [[0.3529, 0.2431, 0.1333,  ..., 0.5255, 0.3412, 0.1216],\n",
      "          [0.3725, 0.2510, 0.1373,  ..., 0.5333, 0.3333, 0.1176],\n",
      "          [0.3882, 0.2667, 0.1451,  ..., 0.5333, 0.3333, 0.1137],\n",
      "          ...,\n",
      "          [0.1216, 0.1216, 0.0824,  ..., 0.0000, 0.0078, 0.0157],\n",
      "          [0.1137, 0.1176, 0.0784,  ..., 0.0078, 0.0078, 0.0039],\n",
      "          [0.0980, 0.1137, 0.0902,  ..., 0.0118, 0.0118, 0.0078]]]]), 'labels': tensor([200])}\n"
     ]
    },
    {
     "name": "stderr",
     "output_type": "stream",
     "text": [
      "\n"
     ]
    }
   ],
   "source": [
    "for i, data in tqdm(enumerate(mtt.trainloader, 0)):\n",
    "    if data['labels'][0]>199:\n",
    "        print(i)\n",
    "        print(data)\n",
    "        break"
   ]
  },
  {
   "cell_type": "code",
   "execution_count": 22,
   "metadata": {},
   "outputs": [
    {
     "data": {
      "text/plain": [
       "{'species': {0: 'Black_footed_Albatross',\n",
       "  1: 'Laysan_Albatross',\n",
       "  2: 'Sooty_Albatross',\n",
       "  3: 'Groove_billed_Ani',\n",
       "  4: 'Crested_Auklet',\n",
       "  5: 'Least_Auklet',\n",
       "  6: 'Parakeet_Auklet',\n",
       "  7: 'Rhinoceros_Auklet',\n",
       "  8: 'Brewer_Blackbird',\n",
       "  9: 'Red_winged_Blackbird',\n",
       "  10: 'Rusty_Blackbird',\n",
       "  11: 'Yellow_headed_Blackbird',\n",
       "  12: 'Bobolink',\n",
       "  13: 'Indigo_Bunting',\n",
       "  14: 'Lazuli_Bunting',\n",
       "  15: 'Painted_Bunting',\n",
       "  16: 'Cardinal',\n",
       "  17: 'Spotted_Catbird',\n",
       "  18: 'Gray_Catbird',\n",
       "  19: 'Yellow_breasted_Chat',\n",
       "  20: 'Eastern_Towhee',\n",
       "  21: 'Chuck_will_Widow',\n",
       "  22: 'Brandt_Cormorant',\n",
       "  23: 'Red_faced_Cormorant',\n",
       "  24: 'Pelagic_Cormorant',\n",
       "  25: 'Bronzed_Cowbird',\n",
       "  26: 'Shiny_Cowbird',\n",
       "  27: 'Brown_Creeper',\n",
       "  28: 'American_Crow',\n",
       "  29: 'Fish_Crow',\n",
       "  30: 'Black_billed_Cuckoo',\n",
       "  31: 'Mangrove_Cuckoo',\n",
       "  32: 'Yellow_billed_Cuckoo',\n",
       "  33: 'Gray_crowned_Rosy_Finch',\n",
       "  34: 'Purple_Finch',\n",
       "  35: 'Northern_Flicker',\n",
       "  36: 'Acadian_Flycatcher',\n",
       "  37: 'Great_Crested_Flycatcher',\n",
       "  38: 'Least_Flycatcher',\n",
       "  39: 'Olive_sided_Flycatcher',\n",
       "  40: 'Scissor_tailed_Flycatcher',\n",
       "  41: 'Vermilion_Flycatcher',\n",
       "  42: 'Yellow_bellied_Flycatcher',\n",
       "  43: 'Frigatebird',\n",
       "  44: 'Northern_Fulmar',\n",
       "  45: 'Gadwall',\n",
       "  46: 'American_Goldfinch',\n",
       "  47: 'European_Goldfinch',\n",
       "  48: 'Boat_tailed_Grackle',\n",
       "  49: 'Eared_Grebe',\n",
       "  50: 'Horned_Grebe',\n",
       "  51: 'Pied_billed_Grebe',\n",
       "  52: 'Western_Grebe',\n",
       "  53: 'Blue_Grosbeak',\n",
       "  54: 'Evening_Grosbeak',\n",
       "  55: 'Pine_Grosbeak',\n",
       "  56: 'Rose_breasted_Grosbeak',\n",
       "  57: 'Pigeon_Guillemot',\n",
       "  58: 'California_Gull',\n",
       "  59: 'Glaucous_winged_Gull',\n",
       "  60: 'Heermann_Gull',\n",
       "  61: 'Herring_Gull',\n",
       "  62: 'Ivory_Gull',\n",
       "  63: 'Ring_billed_Gull',\n",
       "  64: 'Slaty_backed_Gull',\n",
       "  65: 'Western_Gull',\n",
       "  66: 'Anna_Hummingbird',\n",
       "  67: 'Ruby_throated_Hummingbird',\n",
       "  68: 'Rufous_Hummingbird',\n",
       "  69: 'Green_Violetear',\n",
       "  70: 'Long_tailed_Jaeger',\n",
       "  71: 'Pomarine_Jaeger',\n",
       "  72: 'Blue_Jay',\n",
       "  73: 'Florida_Jay',\n",
       "  74: 'Green_Jay',\n",
       "  75: 'Dark_eyed_Junco',\n",
       "  76: 'Tropical_Kingbird',\n",
       "  77: 'Gray_Kingbird',\n",
       "  78: 'Belted_Kingfisher',\n",
       "  79: 'Green_Kingfisher',\n",
       "  80: 'Pied_Kingfisher',\n",
       "  81: 'Ringed_Kingfisher',\n",
       "  82: 'White_breasted_Kingfisher',\n",
       "  83: 'Red_legged_Kittiwake',\n",
       "  84: 'Horned_Lark',\n",
       "  85: 'Pacific_Loon',\n",
       "  86: 'Mallard',\n",
       "  87: 'Western_Meadowlark',\n",
       "  88: 'Hooded_Merganser',\n",
       "  89: 'Red_breasted_Merganser',\n",
       "  90: 'Mockingbird',\n",
       "  91: 'Nighthawk',\n",
       "  92: 'Clark_Nutcracker',\n",
       "  93: 'White_breasted_Nuthatch',\n",
       "  94: 'Baltimore_Oriole',\n",
       "  95: 'Hooded_Oriole',\n",
       "  96: 'Orchard_Oriole',\n",
       "  97: 'Scott_Oriole',\n",
       "  98: 'Ovenbird',\n",
       "  99: 'Brown_Pelican',\n",
       "  100: 'White_Pelican',\n",
       "  101: 'Western_Wood_Pewee',\n",
       "  102: 'Sayornis',\n",
       "  103: 'American_Pipit',\n",
       "  104: 'Whip_poor_Will',\n",
       "  105: 'Horned_Puffin',\n",
       "  106: 'Common_Raven',\n",
       "  107: 'White_necked_Raven',\n",
       "  108: 'American_Redstart',\n",
       "  109: 'Geococcyx',\n",
       "  110: 'Loggerhead_Shrike',\n",
       "  111: 'Great_Grey_Shrike',\n",
       "  112: 'Baird_Sparrow',\n",
       "  113: 'Black_throated_Sparrow',\n",
       "  114: 'Brewer_Sparrow',\n",
       "  115: 'Chipping_Sparrow',\n",
       "  116: 'Clay_colored_Sparrow',\n",
       "  117: 'House_Sparrow',\n",
       "  118: 'Field_Sparrow',\n",
       "  119: 'Fox_Sparrow',\n",
       "  120: 'Grasshopper_Sparrow',\n",
       "  121: 'Harris_Sparrow',\n",
       "  122: 'Henslow_Sparrow',\n",
       "  123: 'Le_Conte_Sparrow',\n",
       "  124: 'Lincoln_Sparrow',\n",
       "  125: 'Nelson_Sharp_tailed_Sparrow',\n",
       "  126: 'Savannah_Sparrow',\n",
       "  127: 'Seaside_Sparrow',\n",
       "  128: 'Song_Sparrow',\n",
       "  129: 'Tree_Sparrow',\n",
       "  130: 'Vesper_Sparrow',\n",
       "  131: 'White_crowned_Sparrow',\n",
       "  132: 'White_throated_Sparrow',\n",
       "  133: 'Cape_Glossy_Starling',\n",
       "  134: 'Bank_Swallow',\n",
       "  135: 'Barn_Swallow',\n",
       "  136: 'Cliff_Swallow',\n",
       "  137: 'Tree_Swallow',\n",
       "  138: 'Scarlet_Tanager',\n",
       "  139: 'Summer_Tanager',\n",
       "  140: 'Artic_Tern',\n",
       "  141: 'Black_Tern',\n",
       "  142: 'Caspian_Tern',\n",
       "  143: 'Common_Tern',\n",
       "  144: 'Elegant_Tern',\n",
       "  145: 'Forsters_Tern',\n",
       "  146: 'Least_Tern',\n",
       "  147: 'Green_tailed_Towhee',\n",
       "  148: 'Brown_Thrasher',\n",
       "  149: 'Sage_Thrasher',\n",
       "  150: 'Black_capped_Vireo',\n",
       "  151: 'Blue_headed_Vireo',\n",
       "  152: 'Philadelphia_Vireo',\n",
       "  153: 'Red_eyed_Vireo',\n",
       "  154: 'Warbling_Vireo',\n",
       "  155: 'White_eyed_Vireo',\n",
       "  156: 'Yellow_throated_Vireo',\n",
       "  157: 'Bay_breasted_Warbler',\n",
       "  158: 'Black_and_white_Warbler',\n",
       "  159: 'Black_throated_Blue_Warbler',\n",
       "  160: 'Blue_winged_Warbler',\n",
       "  161: 'Canada_Warbler',\n",
       "  162: 'Cape_May_Warbler',\n",
       "  163: 'Cerulean_Warbler',\n",
       "  164: 'Chestnut_sided_Warbler',\n",
       "  165: 'Golden_winged_Warbler',\n",
       "  166: 'Hooded_Warbler',\n",
       "  167: 'Kentucky_Warbler',\n",
       "  168: 'Magnolia_Warbler',\n",
       "  169: 'Mourning_Warbler',\n",
       "  170: 'Myrtle_Warbler',\n",
       "  171: 'Nashville_Warbler',\n",
       "  172: 'Orange_crowned_Warbler',\n",
       "  173: 'Palm_Warbler',\n",
       "  174: 'Pine_Warbler',\n",
       "  175: 'Prairie_Warbler',\n",
       "  176: 'Prothonotary_Warbler',\n",
       "  177: 'Swainson_Warbler',\n",
       "  178: 'Tennessee_Warbler',\n",
       "  179: 'Wilson_Warbler',\n",
       "  180: 'Worm_eating_Warbler',\n",
       "  181: 'Yellow_Warbler',\n",
       "  182: 'Northern_Waterthrush',\n",
       "  183: 'Louisiana_Waterthrush',\n",
       "  184: 'Bohemian_Waxwing',\n",
       "  185: 'Cedar_Waxwing',\n",
       "  186: 'American_Three_toed_Woodpecker',\n",
       "  187: 'Pileated_Woodpecker',\n",
       "  188: 'Red_bellied_Woodpecker',\n",
       "  189: 'Red_cockaded_Woodpecker',\n",
       "  190: 'Red_headed_Woodpecker',\n",
       "  191: 'Downy_Woodpecker',\n",
       "  192: 'Bewick_Wren',\n",
       "  193: 'Cactus_Wren',\n",
       "  194: 'Carolina_Wren',\n",
       "  195: 'House_Wren',\n",
       "  196: 'Marsh_Wren',\n",
       "  197: 'Rock_Wren',\n",
       "  198: 'Winter_Wren',\n",
       "  199: 'Common_Yellowthroat'}}"
      ]
     },
     "execution_count": 22,
     "metadata": {},
     "output_type": "execute_result"
    }
   ],
   "source": [
    "mtt.train_set.class_dict"
   ]
  },
  {
   "cell_type": "code",
   "execution_count": null,
   "metadata": {},
   "outputs": [],
   "source": []
  }
 ],
 "metadata": {
  "kernelspec": {
   "display_name": "torchgeo",
   "language": "python",
   "name": "torchgeo"
  },
  "language_info": {
   "codemirror_mode": {
    "name": "ipython",
    "version": 3
   },
   "file_extension": ".py",
   "mimetype": "text/x-python",
   "name": "python",
   "nbconvert_exporter": "python",
   "pygments_lexer": "ipython3",
   "version": "3.7.9"
  }
 },
 "nbformat": 4,
 "nbformat_minor": 4
}

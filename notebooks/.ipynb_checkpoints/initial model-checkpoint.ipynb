{
 "cells": [
  {
   "cell_type": "code",
   "execution_count": 1,
   "metadata": {},
   "outputs": [],
   "source": [
    "import os\n",
    "import torch\n",
    "import pandas as pd\n",
    "from skimage import io, transform\n",
    "import numpy as np\n",
    "import matplotlib.pyplot as plt\n",
    "from torch.utils.data import Dataset, DataLoader\n",
    "from torchvision import transforms, utils, models\n",
    "import PIL.Image as Image\n",
    "import torch.nn as nn\n",
    "import torch.optim as optim\n",
    "import sys"
   ]
  },
  {
   "cell_type": "code",
   "execution_count": 2,
   "metadata": {},
   "outputs": [],
   "source": [
    "sys.path.insert(0, '../src')\n",
    "from bird_dataset import *"
   ]
  },
  {
   "cell_type": "code",
   "execution_count": 3,
   "metadata": {},
   "outputs": [],
   "source": [
    "bd = BirdDataset()"
   ]
  },
  {
   "cell_type": "code",
   "execution_count": 4,
   "metadata": {},
   "outputs": [
    {
     "data": {
      "text/plain": [
       "array([8760, 5015, 4372, ..., 2085, 1285, 7390])"
      ]
     },
     "execution_count": 4,
     "metadata": {},
     "output_type": "execute_result"
    }
   ],
   "source": [
    "bd.train_indices"
   ]
  },
  {
   "cell_type": "code",
   "execution_count": 5,
   "metadata": {},
   "outputs": [],
   "source": [
    "# with open(f'../CUB_200_2011/classes-subset.txt') as f:\n",
    "#     for line in f.readlines():\n",
    "#         print(line.split(' '))\n",
    "# #     try:class_dict = {int(line.split(' ')[0]):i for i, line in enumerate(f.readlines())}\n",
    "# #     except: \n",
    "# #         print(int(line.split(' ')))\n",
    "# #         raise ValueErro"
   ]
  },
  {
   "cell_type": "code",
   "execution_count": 5,
   "metadata": {},
   "outputs": [
    {
     "data": {
      "text/plain": [
       "{'filepath': '001.Black_footed_Albatross/Black_Footed_Albatross_0046_18.jpg',\n",
       " 'class_label': 1,\n",
       " 'bounding_box': [60.0, 27.0, 325.0, 304.0],\n",
       " 'parts': {'beak': [312.0, 182.0],\n",
       "  'crown': [186.0, 45.0],\n",
       "  'forehead': [247.0, 79.0],\n",
       "  'nape': [100.0, 221.0],\n",
       "  'right eye': [183.0, 101.0],\n",
       "  'throat': [215.0, 194.0]},\n",
       " 'attributes': ['has_bill_shape::hooked_seabird',\n",
       "  'has_head_pattern::masked',\n",
       "  'has_throat_color::buff',\n",
       "  'has_eye_color::brown',\n",
       "  'has_bill_length::longer_than_head',\n",
       "  'has_forehead_color::white',\n",
       "  'has_nape_color::buff',\n",
       "  'has_size::large_(16_-_32_in)',\n",
       "  'has_shape::long-legged-like',\n",
       "  'has_primary_color::buff',\n",
       "  'has_bill_color::buff',\n",
       "  'has_crown_color::buff']}"
      ]
     },
     "execution_count": 5,
     "metadata": {},
     "output_type": "execute_result"
    }
   ],
   "source": [
    "bd.images[1]"
   ]
  },
  {
   "cell_type": "code",
   "execution_count": 6,
   "metadata": {},
   "outputs": [],
   "source": [
    "class XAI_Birds_Dataset(Dataset):\n",
    "    \n",
    "    def __init__(self, bd:BirdDataset, subset=True, transform=None, train=True):\n",
    "        self.bd = bd\n",
    "        self.transform = transform\n",
    "        self.subset = subset\n",
    "        self.train = train\n",
    "        if self.train: self.train_test_indices = self.bd.train_indices\n",
    "        else: self.train_test_indices = self.bd.test_indices\n",
    "        \n",
    "        if self.subset: self.class_dict = self._set_classes('classes-subset')\n",
    "        else: self.class_dict = self._set_classes('classes')\n",
    "        self.images = self.load_images()\n",
    "        \n",
    "        \n",
    "    def __len__(self):\n",
    "        return len(self.images)\n",
    "        \n",
    "    def __getitem__(self, idx):\n",
    "        if torch.is_tensor(idx):\n",
    "            idx = idx.tolist()\n",
    "        img_id = list(self.images.keys())[idx]\n",
    "        img_path = os.path.join(self.bd.img_dir, self.images[img_id]['filepath'])\n",
    "        image = Image.open(img_path)\n",
    "        label = self.class_dict[self.images[img_id]['class_label']]\n",
    "        sample = {'image': image, 'label':label}\n",
    "        \n",
    "        if self.transform:\n",
    "            sample['image'] = self.transform(sample['image'])\n",
    "        return sample\n",
    "    def _set_classes(self, fname):\n",
    "        with open(f'../CUB_200_2011/{fname}.txt') as f:\n",
    "            class_dict = {int(line.split(' ')[0]):i for i, line in enumerate(f.readlines())}\n",
    "        return class_dict\n",
    "    \n",
    "    def load_images(self):\n",
    "        images = {}\n",
    "        for key in self.bd.images:\n",
    "            class_label = self.bd.images[key]['class_label']\n",
    "            if class_label in list(self.class_dict.keys()) and class_label in self.train_test_indices:\n",
    "                images[key] = self.bd.images[key] \n",
    "        return images"
   ]
  },
  {
   "cell_type": "code",
   "execution_count": 7,
   "metadata": {},
   "outputs": [
    {
     "name": "stdout",
     "output_type": "stream",
     "text": [
      "cuda:0\n"
     ]
    }
   ],
   "source": [
    "# If there are GPUs, choose the first one for computing. Otherwise use CPU.\n",
    "device = torch.device(\"cuda:0\" if torch.cuda.is_available() else \"cpu\")\n",
    "print(device)\n",
    "# If 'cuda:0' is printed, it means GPU is available."
   ]
  },
  {
   "cell_type": "code",
   "execution_count": 8,
   "metadata": {},
   "outputs": [],
   "source": [
    "transf = transforms.Compose([\n",
    "    transforms.Resize((224, 224)),\n",
    "    transforms.RandomCrop(32, padding=4),\n",
    "    transforms.RandomHorizontalFlip(),\n",
    "    transforms.ToTensor()\n",
    "])\n",
    "train_bird_dataset = XAI_Birds_Dataset(bd, transform=transf, train=True)\n",
    "val_bird_dataset = XAI_Birds_Dataset(bd, transform=transf, train=False)"
   ]
  },
  {
   "cell_type": "code",
   "execution_count": 10,
   "metadata": {},
   "outputs": [
    {
     "data": {
      "text/plain": [
       "1536"
      ]
     },
     "execution_count": 10,
     "metadata": {},
     "output_type": "execute_result"
    }
   ],
   "source": [
    "len(train_bird_dataset)"
   ]
  },
  {
   "cell_type": "code",
   "execution_count": 16,
   "metadata": {},
   "outputs": [
    {
     "data": {
      "text/plain": [
       "1833"
      ]
     },
     "execution_count": 16,
     "metadata": {},
     "output_type": "execute_result"
    }
   ],
   "source": [
    "len(train_bird_dataset) + len(val_bird_dataset)"
   ]
  },
  {
   "cell_type": "code",
   "execution_count": 17,
   "metadata": {},
   "outputs": [
    {
     "data": {
      "text/plain": [
       "355"
      ]
     },
     "execution_count": 17,
     "metadata": {},
     "output_type": "execute_result"
    }
   ],
   "source": [
    "len(val_bird_dataset)"
   ]
  },
  {
   "cell_type": "code",
   "execution_count": 18,
   "metadata": {},
   "outputs": [],
   "source": [
    "vgg16 = models.vgg16_bn(pretrained=False)\n",
    "num_feats = vgg16.classifier[6].in_features\n",
    "features = list(vgg16.classifier.children())[:-1]\n",
    "features.extend([nn.Linear(num_feats, len(train_bird_dataset.class_dict))])\n",
    "vgg16.classifier = nn.Sequential(*features) # Replace the model classifier"
   ]
  },
  {
   "cell_type": "code",
   "execution_count": 19,
   "metadata": {},
   "outputs": [],
   "source": [
    "# num_feats = vgg16.classifier[6].in_features\n",
    "# features = list(vgg16.classifier.children())[:-1]\n",
    "# features.extend([nn.Linear(num_feats, len(train_bird_dataset.class_dict))])\n",
    "# vgg16.classifier = nn.Sequential(*features) # Replace the model classifier"
   ]
  },
  {
   "cell_type": "code",
   "execution_count": 20,
   "metadata": {},
   "outputs": [],
   "source": [
    "\n",
    "if torch.cuda.is_available():\n",
    "    vgg16.cuda()"
   ]
  },
  {
   "cell_type": "code",
   "execution_count": 21,
   "metadata": {},
   "outputs": [],
   "source": [
    "# indices = list(range(len(bird_dataset)))\n",
    "# train_idx = np.random.choice(indices, size=int(len(bird_dataset)*.8), replace=False)\n",
    "# test_idx = list(set(indices) - set(train_idx))"
   ]
  },
  {
   "cell_type": "code",
   "execution_count": 23,
   "metadata": {},
   "outputs": [],
   "source": [
    "# DataLoader?"
   ]
  },
  {
   "cell_type": "code",
   "execution_count": 24,
   "metadata": {},
   "outputs": [],
   "source": [
    "batch_size = 4\n",
    "trainloader = DataLoader(train_bird_dataset, batch_size=batch_size)\n",
    "valloader = DataLoader(val_bird_dataset, batch_size=batch_size)"
   ]
  },
  {
   "cell_type": "code",
   "execution_count": 25,
   "metadata": {},
   "outputs": [],
   "source": [
    "# for i, data in enumerate(trainloader, 0):\n",
    "#     print(data)"
   ]
  },
  {
   "cell_type": "code",
   "execution_count": 26,
   "metadata": {},
   "outputs": [],
   "source": [
    "loss_func = nn.CrossEntropyLoss()\n",
    "opt = optim.SGD(vgg16.parameters(), lr=0.001, momentum=0.9)"
   ]
  },
  {
   "cell_type": "code",
   "execution_count": 12,
   "metadata": {},
   "outputs": [
    {
     "data": {
      "text/plain": [
       "25.6"
      ]
     },
     "execution_count": 12,
     "metadata": {},
     "output_type": "execute_result"
    }
   ],
   "source": [
    "len(train_bird_dataset) / 60"
   ]
  },
  {
   "cell_type": "code",
   "execution_count": 27,
   "metadata": {},
   "outputs": [
    {
     "name": "stdout",
     "output_type": "stream",
     "text": [
      "[epoch: 0, i:    99] avg mini-batch loss: 3.736\n",
      "Average validation loss: 4.957454523343719\n",
      "[epoch: 0, i:   199] avg mini-batch loss: 3.446\n",
      "Average validation loss: 3.5564093670148527\n",
      "[epoch: 0, i:   299] avg mini-batch loss: 3.445\n",
      "Average validation loss: 3.4948744345247076\n",
      "[epoch: 1, i:    99] avg mini-batch loss: 3.298\n",
      "Average validation loss: 7.420080747497216\n",
      "[epoch: 1, i:   199] avg mini-batch loss: 2.893\n",
      "Average validation loss: 4.610361902901296\n",
      "[epoch: 1, i:   299] avg mini-batch loss: 3.335\n",
      "Average validation loss: 3.5802922382783353\n",
      "[epoch: 2, i:    99] avg mini-batch loss: 3.479\n",
      "Average validation loss: 3.6638265941919905\n",
      "[epoch: 2, i:   199] avg mini-batch loss: 2.977\n",
      "Average validation loss: 6.4106350266531615\n",
      "[epoch: 2, i:   299] avg mini-batch loss: 3.194\n",
      "Average validation loss: 3.6666982763268976\n",
      "[epoch: 3, i:    99] avg mini-batch loss: 3.438\n",
      "Average validation loss: 3.7532945697227222\n",
      "[epoch: 3, i:   199] avg mini-batch loss: 2.968\n",
      "Average validation loss: 5.496786230065849\n",
      "[epoch: 3, i:   299] avg mini-batch loss: 3.083\n",
      "Average validation loss: 3.7762318139665583\n",
      "[epoch: 4, i:    99] avg mini-batch loss: 3.399\n",
      "Average validation loss: 3.8554609304063776\n",
      "[epoch: 4, i:   199] avg mini-batch loss: 3.182\n",
      "Average validation loss: 7.333838414610102\n",
      "[epoch: 4, i:   299] avg mini-batch loss: 2.914\n",
      "Average validation loss: 3.8912313680970265\n",
      "[epoch: 5, i:    99] avg mini-batch loss: 3.366\n",
      "Average validation loss: 3.8634629303149963\n",
      "[epoch: 5, i:   199] avg mini-batch loss: 3.205\n",
      "Average validation loss: 7.119121776537948\n",
      "[epoch: 5, i:   299] avg mini-batch loss: 2.654\n",
      "Average validation loss: 3.9263598195622476\n",
      "[epoch: 6, i:    99] avg mini-batch loss: 3.336\n",
      "Average validation loss: 3.9598965403738986\n",
      "[epoch: 6, i:   199] avg mini-batch loss: 3.508\n",
      "Average validation loss: 3.958547889516595\n",
      "[epoch: 6, i:   299] avg mini-batch loss: 3.419\n",
      "Average validation loss: 3.9824022550261424\n",
      "[epoch: 7, i:    99] avg mini-batch loss: 3.332\n",
      "Average validation loss: 4.014153984155548\n",
      "[epoch: 7, i:   199] avg mini-batch loss: 3.482\n",
      "Average validation loss: 4.043056016557672\n",
      "[epoch: 7, i:   299] avg mini-batch loss: 3.403\n",
      "Average validation loss: 4.040011084481572\n",
      "[epoch: 8, i:    99] avg mini-batch loss: 3.328\n",
      "Average validation loss: 4.081376541866345\n",
      "[epoch: 8, i:   199] avg mini-batch loss: 3.459\n",
      "Average validation loss: 4.139940524369143\n",
      "[epoch: 8, i:   299] avg mini-batch loss: 3.390\n",
      "Average validation loss: 4.107073333825958\n",
      "[epoch: 9, i:    99] avg mini-batch loss: 3.326\n",
      "Average validation loss: 4.147327208786868\n",
      "[epoch: 9, i:   199] avg mini-batch loss: 3.439\n",
      "Average validation loss: 4.180683805701438\n",
      "[epoch: 9, i:   299] avg mini-batch loss: 3.378\n",
      "Average validation loss: 4.185398235749663\n",
      "[epoch: 10, i:    99] avg mini-batch loss: 3.324\n",
      "Average validation loss: 4.224407453215524\n",
      "[epoch: 10, i:   199] avg mini-batch loss: 3.421\n",
      "Average validation loss: 4.24557717462604\n",
      "[epoch: 10, i:   299] avg mini-batch loss: 3.367\n",
      "Average validation loss: 4.249078380927611\n",
      "[epoch: 11, i:    99] avg mini-batch loss: 3.323\n",
      "Average validation loss: 4.281893494423856\n",
      "[epoch: 11, i:   199] avg mini-batch loss: 3.406\n",
      "Average validation loss: 4.327623420886779\n",
      "[epoch: 11, i:   299] avg mini-batch loss: 3.358\n",
      "Average validation loss: 4.308642098073209\n",
      "[epoch: 12, i:    99] avg mini-batch loss: 3.322\n",
      "Average validation loss: 4.332484673917963\n",
      "[epoch: 12, i:   199] avg mini-batch loss: 3.392\n",
      "Average validation loss: 4.364114032702499\n",
      "[epoch: 12, i:   299] avg mini-batch loss: 3.350\n",
      "Average validation loss: 4.367236812462967\n",
      "[epoch: 13, i:    99] avg mini-batch loss: 3.321\n",
      "Average validation loss: 4.377399926774957\n",
      "[epoch: 13, i:   199] avg mini-batch loss: 3.380\n",
      "Average validation loss: 4.473572066660678\n",
      "[epoch: 13, i:   299] avg mini-batch loss: 3.343\n",
      "Average validation loss: 4.420292270317506\n",
      "[epoch: 14, i:    99] avg mini-batch loss: 3.320\n",
      "Average validation loss: 4.473295281442364\n",
      "[epoch: 14, i:   199] avg mini-batch loss: 3.369\n",
      "Average validation loss: 4.479990418037672\n",
      "[epoch: 14, i:   299] avg mini-batch loss: 3.337\n",
      "Average validation loss: 4.470075698381059\n",
      "[epoch: 15, i:    99] avg mini-batch loss: 3.319\n",
      "Average validation loss: 4.494075212585792\n",
      "[epoch: 15, i:   199] avg mini-batch loss: 3.360\n",
      "Average validation loss: 4.564572398582201\n",
      "[epoch: 15, i:   299] avg mini-batch loss: 3.332\n",
      "Average validation loss: 4.583157357205166\n",
      "[epoch: 16, i:    99] avg mini-batch loss: 3.318\n",
      "Average validation loss: 4.552744297499068\n",
      "[epoch: 16, i:   199] avg mini-batch loss: 3.352\n",
      "Average validation loss: 4.563036302502236\n",
      "[epoch: 16, i:   299] avg mini-batch loss: 3.327\n",
      "Average validation loss: 4.5694751632347534\n",
      "[epoch: 17, i:    99] avg mini-batch loss: 3.317\n",
      "Average validation loss: 4.588553198267904\n",
      "[epoch: 17, i:   199] avg mini-batch loss: 3.344\n",
      "Average validation loss: 4.619595120462139\n",
      "[epoch: 17, i:   299] avg mini-batch loss: 3.322\n",
      "Average validation loss: 4.619478525740377\n",
      "[epoch: 18, i:    99] avg mini-batch loss: 3.316\n",
      "Average validation loss: 4.663025475619884\n",
      "[epoch: 18, i:   199] avg mini-batch loss: 3.338\n",
      "Average validation loss: 4.719703642170081\n",
      "[epoch: 18, i:   299] avg mini-batch loss: 3.294\n",
      "Average validation loss: 4.688126087188721\n",
      "[epoch: 19, i:    99] avg mini-batch loss: 3.309\n",
      "Average validation loss: 4.663963939366716\n",
      "[epoch: 19, i:   199] avg mini-batch loss: 3.329\n",
      "Average validation loss: 4.755563553799404\n",
      "[epoch: 19, i:   299] avg mini-batch loss: 3.150\n",
      "Average validation loss: 4.842011264200961\n",
      "[epoch: 20, i:    99] avg mini-batch loss: 3.298\n",
      "Average validation loss: 4.704235039400251\n",
      "[epoch: 20, i:   199] avg mini-batch loss: 3.317\n",
      "Average validation loss: 4.738512971428003\n",
      "[epoch: 20, i:   299] avg mini-batch loss: 3.352\n",
      "Average validation loss: 4.739569283603283\n",
      "[epoch: 21, i:    99] avg mini-batch loss: 3.298\n",
      "Average validation loss: 4.736830143446333\n",
      "[epoch: 21, i:   199] avg mini-batch loss: 3.313\n",
      "Average validation loss: 4.768460289815838\n",
      "[epoch: 21, i:   299] avg mini-batch loss: 3.344\n",
      "Average validation loss: 4.8052119726545355\n",
      "[epoch: 22, i:    99] avg mini-batch loss: 3.300\n",
      "Average validation loss: 4.778812547748008\n",
      "[epoch: 22, i:   199] avg mini-batch loss: 3.310\n",
      "Average validation loss: 4.82139729381947\n",
      "[epoch: 22, i:   299] avg mini-batch loss: 3.337\n",
      "Average validation loss: 4.825038020530443\n",
      "[epoch: 23, i:    99] avg mini-batch loss: 3.301\n",
      "Average validation loss: 4.834499064456211\n",
      "[epoch: 23, i:   199] avg mini-batch loss: 3.265\n",
      "Average validation loss: 6.215925607788429\n",
      "[epoch: 23, i:   299] avg mini-batch loss: 2.559\n",
      "Average validation loss: 4.902508387404882\n",
      "[epoch: 24, i:    99] avg mini-batch loss: 3.278\n",
      "Average validation loss: 4.84165645449349\n",
      "[epoch: 24, i:   199] avg mini-batch loss: 3.292\n",
      "Average validation loss: 4.85719535591897\n",
      "[epoch: 24, i:   299] avg mini-batch loss: 3.096\n",
      "Average validation loss: 9.338033440407742\n",
      "[epoch: 25, i:    99] avg mini-batch loss: 3.270\n",
      "Average validation loss: 4.896873420543885\n",
      "[epoch: 25, i:   199] avg mini-batch loss: 3.283\n",
      "Average validation loss: 4.889331222919935\n",
      "[epoch: 25, i:   299] avg mini-batch loss: 3.398\n",
      "Average validation loss: 4.918659906708792\n",
      "[epoch: 26, i:    99] avg mini-batch loss: 3.274\n",
      "Average validation loss: 4.935422007957201\n",
      "[epoch: 26, i:   199] avg mini-batch loss: 3.283\n",
      "Average validation loss: 4.930068423239033\n",
      "[epoch: 26, i:   299] avg mini-batch loss: 3.383\n",
      "Average validation loss: 4.927220162380947\n",
      "[epoch: 27, i:    99] avg mini-batch loss: 3.278\n",
      "Average validation loss: 4.954228379753198\n",
      "[epoch: 27, i:   199] avg mini-batch loss: 3.283\n",
      "Average validation loss: 4.958543434571684\n",
      "[epoch: 27, i:   299] avg mini-batch loss: 3.370\n",
      "Average validation loss: 4.957849588287011\n",
      "[epoch: 28, i:    99] avg mini-batch loss: 3.281\n",
      "Average validation loss: 4.978632230437204\n",
      "[epoch: 28, i:   199] avg mini-batch loss: 3.283\n",
      "Average validation loss: 4.991551463523607\n",
      "[epoch: 28, i:   299] avg mini-batch loss: 3.358\n",
      "Average validation loss: 5.000795209005977\n",
      "[epoch: 29, i:    99] avg mini-batch loss: 3.283\n",
      "Average validation loss: 5.021218294508002\n",
      "[epoch: 29, i:   199] avg mini-batch loss: 3.283\n",
      "Average validation loss: 5.022360549883896\n",
      "[epoch: 29, i:   299] avg mini-batch loss: 3.348\n"
     ]
    },
    {
     "name": "stdout",
     "output_type": "stream",
     "text": [
      "Average validation loss: 5.026277483179328\n",
      "[epoch: 30, i:    99] avg mini-batch loss: 3.286\n",
      "Average validation loss: 5.132549366254485\n",
      "[epoch: 30, i:   199] avg mini-batch loss: 3.283\n",
      "Average validation loss: 5.045573652460334\n",
      "[epoch: 30, i:   299] avg mini-batch loss: 3.340\n",
      "Average validation loss: 5.054790620053752\n",
      "[epoch: 31, i:    99] avg mini-batch loss: 3.288\n",
      "Average validation loss: 5.1139015079884045\n",
      "[epoch: 31, i:   199] avg mini-batch loss: 3.283\n",
      "Average validation loss: 5.093228393726134\n",
      "[epoch: 31, i:   299] avg mini-batch loss: 3.332\n",
      "Average validation loss: 5.08380986867326\n",
      "[epoch: 32, i:    99] avg mini-batch loss: 3.289\n",
      "Average validation loss: 5.095916983786593\n",
      "[epoch: 32, i:   199] avg mini-batch loss: 3.283\n",
      "Average validation loss: 5.101016489307532\n",
      "[epoch: 32, i:   299] avg mini-batch loss: 3.325\n",
      "Average validation loss: 5.113647112685643\n",
      "[epoch: 33, i:    99] avg mini-batch loss: 3.290\n",
      "Average validation loss: 5.144732550288854\n",
      "[epoch: 33, i:   199] avg mini-batch loss: 3.283\n",
      "Average validation loss: 5.13344620586781\n",
      "[epoch: 33, i:   299] avg mini-batch loss: 3.319\n",
      "Average validation loss: 5.135795041416468\n",
      "[epoch: 34, i:    99] avg mini-batch loss: 3.291\n",
      "Average validation loss: 5.160930446024691\n",
      "[epoch: 34, i:   199] avg mini-batch loss: 3.283\n",
      "Average validation loss: 5.161663478679872\n",
      "[epoch: 34, i:   299] avg mini-batch loss: 3.314\n",
      "Average validation loss: 5.163288320048472\n",
      "[epoch: 35, i:    99] avg mini-batch loss: 3.292\n",
      "Average validation loss: 5.215218318982071\n",
      "[epoch: 35, i:   199] avg mini-batch loss: 3.281\n",
      "Average validation loss: 5.2168363024679465\n",
      "[epoch: 35, i:   299] avg mini-batch loss: 2.651\n",
      "Average validation loss: 6.248050770063079\n",
      "[epoch: 36, i:    99] avg mini-batch loss: 3.273\n",
      "Average validation loss: 5.1943955796488215\n",
      "[epoch: 36, i:   199] avg mini-batch loss: 3.266\n",
      "Average validation loss: 5.20626712113284\n",
      "[epoch: 36, i:   299] avg mini-batch loss: 2.939\n",
      "Average validation loss: 11.952646812696136\n",
      "[epoch: 37, i:    99] avg mini-batch loss: 3.262\n",
      "Average validation loss: 5.215939698594339\n",
      "[epoch: 37, i:   199] avg mini-batch loss: 3.256\n",
      "Average validation loss: 5.224616473980165\n",
      "[epoch: 37, i:   299] avg mini-batch loss: 3.377\n",
      "Average validation loss: 5.244982976591989\n",
      "[epoch: 38, i:    99] avg mini-batch loss: 3.265\n",
      "Average validation loss: 5.243257752965006\n",
      "[epoch: 38, i:   199] avg mini-batch loss: 3.259\n",
      "Average validation loss: 5.263288926542475\n",
      "[epoch: 38, i:   299] avg mini-batch loss: 3.363\n",
      "Average validation loss: 5.260888689019707\n",
      "[epoch: 39, i:    99] avg mini-batch loss: 3.269\n",
      "Average validation loss: 5.266211975826306\n",
      "[epoch: 39, i:   199] avg mini-batch loss: 3.261\n",
      "Average validation loss: 5.282341153434153\n",
      "[epoch: 39, i:   299] avg mini-batch loss: 3.276\n",
      "Average validation loss: 9.79258771960655\n",
      "[epoch: 40, i:    99] avg mini-batch loss: 3.265\n",
      "Average validation loss: 5.286826985605647\n",
      "[epoch: 40, i:   199] avg mini-batch loss: 3.257\n",
      "Average validation loss: 5.3125403650691\n",
      "[epoch: 40, i:   299] avg mini-batch loss: 3.346\n",
      "Average validation loss: 5.2983866648727584\n",
      "[epoch: 41, i:    99] avg mini-batch loss: 3.268\n",
      "Average validation loss: 5.316029934400923\n",
      "[epoch: 41, i:   199] avg mini-batch loss: 3.259\n",
      "Average validation loss: 5.32399893878551\n",
      "[epoch: 41, i:   299] avg mini-batch loss: 3.336\n",
      "Average validation loss: 5.322081881962466\n",
      "[epoch: 42, i:    99] avg mini-batch loss: 3.271\n",
      "Average validation loss: 5.326968412720755\n",
      "[epoch: 42, i:   199] avg mini-batch loss: 3.261\n",
      "Average validation loss: 5.337783234842708\n",
      "[epoch: 42, i:   299] avg mini-batch loss: 3.328\n",
      "Average validation loss: 5.355142523733417\n",
      "[epoch: 43, i:    99] avg mini-batch loss: 3.271\n",
      "Average validation loss: 5.356422027845062\n",
      "[epoch: 43, i:   199] avg mini-batch loss: 3.262\n",
      "Average validation loss: 5.36654489495781\n",
      "[epoch: 43, i:   299] avg mini-batch loss: 3.161\n",
      "Average validation loss: 13.203721710805143\n",
      "[epoch: 44, i:    99] avg mini-batch loss: 3.260\n",
      "Average validation loss: 5.38700758473257\n",
      "[epoch: 44, i:   199] avg mini-batch loss: 3.252\n",
      "Average validation loss: 5.382815468177367\n",
      "[epoch: 44, i:   299] avg mini-batch loss: 3.238\n",
      "Average validation loss: 6.637932021966141\n",
      "[epoch: 45, i:    99] avg mini-batch loss: 3.248\n",
      "Average validation loss: 5.393849201416701\n",
      "[epoch: 45, i:   199] avg mini-batch loss: 3.242\n",
      "Average validation loss: 5.397978739792041\n",
      "[epoch: 45, i:   299] avg mini-batch loss: 3.319\n",
      "Average validation loss: 5.413431301545561\n",
      "[epoch: 46, i:    99] avg mini-batch loss: 3.253\n",
      "Average validation loss: 5.411652377482211\n",
      "[epoch: 46, i:   199] avg mini-batch loss: 3.246\n",
      "Average validation loss: 5.4283260388320755\n",
      "[epoch: 46, i:   299] avg mini-batch loss: 3.313\n",
      "Average validation loss: 5.430014074518439\n",
      "[epoch: 47, i:    99] avg mini-batch loss: 3.258\n",
      "Average validation loss: 5.447370084483972\n",
      "[epoch: 47, i:   199] avg mini-batch loss: 3.249\n",
      "Average validation loss: 5.441855800285768\n",
      "[epoch: 47, i:   299] avg mini-batch loss: 3.307\n",
      "Average validation loss: 5.45748587404744\n",
      "[epoch: 48, i:    99] avg mini-batch loss: 3.262\n",
      "Average validation loss: 5.445375683602323\n",
      "[epoch: 48, i:   199] avg mini-batch loss: 3.252\n",
      "Average validation loss: 5.453647281346696\n",
      "[epoch: 48, i:   299] avg mini-batch loss: 3.302\n",
      "Average validation loss: 5.465189328354396\n",
      "[epoch: 49, i:    99] avg mini-batch loss: 3.266\n",
      "Average validation loss: 5.472996095593056\n",
      "[epoch: 49, i:   199] avg mini-batch loss: 3.255\n",
      "Average validation loss: 5.487909033057395\n",
      "[epoch: 49, i:   299] avg mini-batch loss: 3.298\n",
      "Average validation loss: 5.483974231762833\n",
      "Finished Training.\n",
      "CPU times: user 17min 17s, sys: 2.53 s, total: 17min 19s\n",
      "Wall time: 17min 20s\n"
     ]
    }
   ],
   "source": [
    "%%time\n",
    "avg_losses = []\n",
    "avg_val_losses = []\n",
    "epochs = 50\n",
    "print_freq = 100\n",
    "\n",
    "for epoch in range(epochs):\n",
    "    running_loss = 0.0\n",
    "    for i, data in enumerate(trainloader, 0):\n",
    "        # Get the inputs.\n",
    "        inputs, labels = data['image'], data['label']\n",
    "\n",
    "        # Move the inputs to the specified device.\n",
    "        inputs, labels = inputs.to(device), labels.to(device)\n",
    "        \n",
    "        # Zero the parameter gradients.\n",
    "        opt.zero_grad()\n",
    "\n",
    "        # Forward step.\n",
    "        outputs = vgg16(inputs)\n",
    "        loss = loss_func(outputs, labels)\n",
    "        \n",
    "        # Backward step.\n",
    "        loss.backward()\n",
    "        \n",
    "        # Optimization step (update the parameters).\n",
    "        opt.step()\n",
    "\n",
    "        # Print statistics.\n",
    "        running_loss += loss.item()\n",
    "#         print(outputs)\n",
    "        if i % print_freq == print_freq - 1: # Print every several mini-batches.\n",
    "            avg_loss = running_loss / print_freq\n",
    "            print('[epoch: {}, i: {:5d}] avg mini-batch loss: {:.3f}'.format(\n",
    "                epoch, i, avg_loss))\n",
    "            vgg16.eval()\n",
    "            with torch.no_grad():\n",
    "                val_losses = []\n",
    "                data_iter = iter(valloader)\n",
    "                for val_data in data_iter:\n",
    "                    val_inputs, val_labels = val_data['image'].cuda(), val_data['label'].cuda()\n",
    "#                     print('val inputs: ',val_inputs.size())\n",
    "#                     print('val labels: ',val_labels)\n",
    "#                     print('inputs: ',inputs.size())\n",
    "                    val_outputs = vgg16(val_inputs)\n",
    "#                     print('val outputs: ',val_outputs)\n",
    "#                     print('val loss: ',nn.CrossEntropyLoss()(val_outputs, val_labels))\n",
    "                    opt.zero_grad() #zero the parameter gradients\n",
    "                    val_losses.append(loss_func(val_outputs, val_labels).item())\n",
    "                print('Average validation loss:',np.mean(val_losses))\n",
    "                avg_val_losses.append(np.mean(val_losses))\n",
    "            avg_losses.append(avg_loss)\n",
    "            running_loss = 0.0\n",
    "            vgg16.train()\n",
    "print('Finished Training.')"
   ]
  },
  {
   "cell_type": "code",
   "execution_count": null,
   "metadata": {},
   "outputs": [],
   "source": [
    "# vgg16.eval(val)"
   ]
  },
  {
   "cell_type": "code",
   "execution_count": 28,
   "metadata": {},
   "outputs": [
    {
     "data": {
      "text/plain": [
       "[<matplotlib.lines.Line2D at 0x7feb6d730940>]"
      ]
     },
     "execution_count": 28,
     "metadata": {},
     "output_type": "execute_result"
    },
    {
     "data": {
      "image/png": "[encoded data removed]",
      "text/plain": [
       "<Figure size 432x288 with 1 Axes>"
      ]
     },
     "metadata": {
      "needs_background": "light"
     },
     "output_type": "display_data"
    }
   ],
   "source": [
    "plt.plot(avg_losses)\n",
    "plt.plot(avg_val_losses)"
   ]
  },
  {
   "cell_type": "code",
   "execution_count": 29,
   "metadata": {},
   "outputs": [],
   "source": [
    "torch.save(vgg16.state_dict(), '../models/vgg16_31_class_50_epoch_4_batch.pth')"
   ]
  },
  {
   "cell_type": "code",
   "execution_count": 10,
   "metadata": {},
   "outputs": [
    {
     "data": {
      "text/plain": [
       "<module 'torch' from '/home/jdlevy/anaconda3/envs/py38/lib/python3.8/site-packages/torch/__init__.py'>"
      ]
     },
     "execution_count": 10,
     "metadata": {},
     "output_type": "execute_result"
    }
   ],
   "source": [
    "torch.load()"
   ]
  },
  {
   "cell_type": "code",
   "execution_count": 28,
   "metadata": {},
   "outputs": [
    {
     "data": {
      "text/plain": [
       "VGG(\n",
       "  (features): Sequential(\n",
       "    (0): Conv2d(3, 64, kernel_size=(3, 3), stride=(1, 1), padding=(1, 1))\n",
       "    (1): BatchNorm2d(64, eps=1e-05, momentum=0.1, affine=True, track_running_stats=True)\n",
       "    (2): ReLU(inplace=True)\n",
       "    (3): Conv2d(64, 64, kernel_size=(3, 3), stride=(1, 1), padding=(1, 1))\n",
       "    (4): BatchNorm2d(64, eps=1e-05, momentum=0.1, affine=True, track_running_stats=True)\n",
       "    (5): ReLU(inplace=True)\n",
       "    (6): MaxPool2d(kernel_size=2, stride=2, padding=0, dilation=1, ceil_mode=False)\n",
       "    (7): Conv2d(64, 128, kernel_size=(3, 3), stride=(1, 1), padding=(1, 1))\n",
       "    (8): BatchNorm2d(128, eps=1e-05, momentum=0.1, affine=True, track_running_stats=True)\n",
       "    (9): ReLU(inplace=True)\n",
       "    (10): Conv2d(128, 128, kernel_size=(3, 3), stride=(1, 1), padding=(1, 1))\n",
       "    (11): BatchNorm2d(128, eps=1e-05, momentum=0.1, affine=True, track_running_stats=True)\n",
       "    (12): ReLU(inplace=True)\n",
       "    (13): MaxPool2d(kernel_size=2, stride=2, padding=0, dilation=1, ceil_mode=False)\n",
       "    (14): Conv2d(128, 256, kernel_size=(3, 3), stride=(1, 1), padding=(1, 1))\n",
       "    (15): BatchNorm2d(256, eps=1e-05, momentum=0.1, affine=True, track_running_stats=True)\n",
       "    (16): ReLU(inplace=True)\n",
       "    (17): Conv2d(256, 256, kernel_size=(3, 3), stride=(1, 1), padding=(1, 1))\n",
       "    (18): BatchNorm2d(256, eps=1e-05, momentum=0.1, affine=True, track_running_stats=True)\n",
       "    (19): ReLU(inplace=True)\n",
       "    (20): Conv2d(256, 256, kernel_size=(3, 3), stride=(1, 1), padding=(1, 1))\n",
       "    (21): BatchNorm2d(256, eps=1e-05, momentum=0.1, affine=True, track_running_stats=True)\n",
       "    (22): ReLU(inplace=True)\n",
       "    (23): MaxPool2d(kernel_size=2, stride=2, padding=0, dilation=1, ceil_mode=False)\n",
       "    (24): Conv2d(256, 512, kernel_size=(3, 3), stride=(1, 1), padding=(1, 1))\n",
       "    (25): BatchNorm2d(512, eps=1e-05, momentum=0.1, affine=True, track_running_stats=True)\n",
       "    (26): ReLU(inplace=True)\n",
       "    (27): Conv2d(512, 512, kernel_size=(3, 3), stride=(1, 1), padding=(1, 1))\n",
       "    (28): BatchNorm2d(512, eps=1e-05, momentum=0.1, affine=True, track_running_stats=True)\n",
       "    (29): ReLU(inplace=True)\n",
       "    (30): Conv2d(512, 512, kernel_size=(3, 3), stride=(1, 1), padding=(1, 1))\n",
       "    (31): BatchNorm2d(512, eps=1e-05, momentum=0.1, affine=True, track_running_stats=True)\n",
       "    (32): ReLU(inplace=True)\n",
       "    (33): MaxPool2d(kernel_size=2, stride=2, padding=0, dilation=1, ceil_mode=False)\n",
       "    (34): Conv2d(512, 512, kernel_size=(3, 3), stride=(1, 1), padding=(1, 1))\n",
       "    (35): BatchNorm2d(512, eps=1e-05, momentum=0.1, affine=True, track_running_stats=True)\n",
       "    (36): ReLU(inplace=True)\n",
       "    (37): Conv2d(512, 512, kernel_size=(3, 3), stride=(1, 1), padding=(1, 1))\n",
       "    (38): BatchNorm2d(512, eps=1e-05, momentum=0.1, affine=True, track_running_stats=True)\n",
       "    (39): ReLU(inplace=True)\n",
       "    (40): Conv2d(512, 512, kernel_size=(3, 3), stride=(1, 1), padding=(1, 1))\n",
       "    (41): BatchNorm2d(512, eps=1e-05, momentum=0.1, affine=True, track_running_stats=True)\n",
       "    (42): ReLU(inplace=True)\n",
       "    (43): MaxPool2d(kernel_size=2, stride=2, padding=0, dilation=1, ceil_mode=False)\n",
       "  )\n",
       "  (avgpool): AdaptiveAvgPool2d(output_size=(7, 7))\n",
       "  (classifier): Sequential(\n",
       "    (0): Linear(in_features=25088, out_features=4096, bias=True)\n",
       "    (1): ReLU(inplace=True)\n",
       "    (2): Dropout(p=0.5, inplace=False)\n",
       "    (3): Linear(in_features=4096, out_features=4096, bias=True)\n",
       "    (4): ReLU(inplace=True)\n",
       "    (5): Dropout(p=0.5, inplace=False)\n",
       "    (6): Linear(in_features=4096, out_features=1000, bias=True)\n",
       "  )\n",
       ")"
      ]
     },
     "execution_count": 28,
     "metadata": {},
     "output_type": "execute_result"
    }
   ],
   "source": [
    "vgg16"
   ]
  },
  {
   "cell_type": "markdown",
   "metadata": {},
   "source": [
    "**Captum Model Explainability**"
   ]
  },
  {
   "cell_type": "code",
   "execution_count": null,
   "metadata": {},
   "outputs": [],
   "source": [
    "bd."
   ]
  },
  {
   "cell_type": "code",
   "execution_count": null,
   "metadata": {},
   "outputs": [],
   "source": [
    "inv_classes = {v: k for k, v in }"
   ]
  },
  {
   "cell_type": "code",
   "execution_count": 11,
   "metadata": {},
   "outputs": [],
   "source": [
    "\n",
    "\n",
    "# The function to show an image.\n",
    "def imshow(img):\n",
    "#     img = img / 2 + 0.5     # Unnormalize.\n",
    "    npimg = img.numpy()\n",
    "    plt.imshow(np.transpose(npimg, (1, 2, 0)))\n",
    "    plt.show()\n",
    "\n"
   ]
  },
  {
   "cell_type": "code",
   "execution_count": null,
   "metadata": {},
   "outputs": [],
   "source": [
    "val_bird_dataset"
   ]
  },
  {
   "cell_type": "code",
   "execution_count": 12,
   "metadata": {},
   "outputs": [
    {
     "ename": "NameError",
     "evalue": "name 'valloader' is not defined",
     "output_type": "error",
     "traceback": [
      "\u001b[0;31m---------------------------------------------------------------------------\u001b[0m",
      "\u001b[0;31mNameError\u001b[0m                                 Traceback (most recent call last)",
      "\u001b[0;32m<ipython-input-12-3fc92c9712c7>\u001b[0m in \u001b[0;36m<module>\u001b[0;34m\u001b[0m\n\u001b[1;32m      1\u001b[0m \u001b[0;31m# Check several images.\u001b[0m\u001b[0;34m\u001b[0m\u001b[0;34m\u001b[0m\u001b[0;34m\u001b[0m\u001b[0m\n\u001b[0;32m----> 2\u001b[0;31m \u001b[0mdataiter\u001b[0m \u001b[0;34m=\u001b[0m \u001b[0miter\u001b[0m\u001b[0;34m(\u001b[0m\u001b[0mvalloader\u001b[0m\u001b[0;34m)\u001b[0m\u001b[0;34m\u001b[0m\u001b[0;34m\u001b[0m\u001b[0m\n\u001b[0m\u001b[1;32m      3\u001b[0m \u001b[0mbatch_size\u001b[0m \u001b[0;34m=\u001b[0m \u001b[0;36m4\u001b[0m\u001b[0;34m\u001b[0m\u001b[0;34m\u001b[0m\u001b[0m\n\u001b[1;32m      4\u001b[0m \u001b[0;31m# for i in range(len(dataiter)):\u001b[0m\u001b[0;34m\u001b[0m\u001b[0;34m\u001b[0m\u001b[0;34m\u001b[0m\u001b[0m\n\u001b[1;32m      5\u001b[0m \u001b[0mimages\u001b[0m\u001b[0;34m,\u001b[0m \u001b[0mlabels\u001b[0m \u001b[0;34m=\u001b[0m \u001b[0mdataiter\u001b[0m\u001b[0;34m.\u001b[0m\u001b[0mnext\u001b[0m\u001b[0;34m(\u001b[0m\u001b[0;34m)\u001b[0m\u001b[0;34m\u001b[0m\u001b[0;34m\u001b[0m\u001b[0m\n",
      "\u001b[0;31mNameError\u001b[0m: name 'valloader' is not defined"
     ]
    }
   ],
   "source": [
    "# Check several images.\n",
    "dataiter = iter(val_loader)\n",
    "batch_size = 4\n",
    "# for i in range(len(dataiter)):\n",
    "images, labels = dataiter.next()\n",
    "imshow(torchvision.utils.make_grid(images))\n",
    "# print(labels)\n",
    "# print('GroundTruth: ', ' '.join('%5s' % classes[labels[j]] for j in range(4)))\n",
    "outputs = net(images.to(device))\n",
    "_, predicted = torch.max(outputs, 1)\n",
    "\n",
    "print(\"Ground Truth:\", [classes[labels[i]] for i in range(batch_size)])\n",
    "print(\"Predicted:\",[classes[predicted[i]] for i in range(batch_size)])\n",
    "print(\"Accuracy:\",sum(np.array(labels)==np.array(predicted.cpu()))/len(labels))"
   ]
  },
  {
   "cell_type": "code",
   "execution_count": null,
   "metadata": {},
   "outputs": [],
   "source": []
  },
  {
   "cell_type": "code",
   "execution_count": 29,
   "metadata": {},
   "outputs": [],
   "source": [
    "from captum.attr import GuidedGradCam"
   ]
  },
  {
   "cell_type": "code",
   "execution_count": 30,
   "metadata": {},
   "outputs": [],
   "source": [
    "last_conv = vgg16.features[40]"
   ]
  },
  {
   "cell_type": "code",
   "execution_count": 31,
   "metadata": {},
   "outputs": [],
   "source": [
    "gc = GuidedGradCam(vgg16, last_conv)"
   ]
  },
  {
   "cell_type": "code",
   "execution_count": 35,
   "metadata": {},
   "outputs": [],
   "source": [
    "gc.attribute?"
   ]
  },
  {
   "cell_type": "code",
   "execution_count": 36,
   "metadata": {},
   "outputs": [],
   "source": [
    "img, label = val_bird_dataset[0]['image'], val_bird_dataset[0]['label']"
   ]
  },
  {
   "cell_type": "code",
   "execution_count": 37,
   "metadata": {
    "collapsed": true
   },
   "outputs": [
    {
     "name": "stderr",
     "output_type": "stream",
     "text": [
      "/home/jdlevy/anaconda3/envs/py38/lib/python3.8/site-packages/captum/_utils/gradient.py:53: UserWarning: Input Tensor 0 did not already require gradients, required_grads has been set automatically.\n",
      "  warnings.warn(\n"
     ]
    },
    {
     "ename": "RuntimeError",
     "evalue": "Expected 4-dimensional input for 4-dimensional weight [64, 3, 3, 3], but got 3-dimensional input of size [3, 224, 224] instead",
     "output_type": "error",
     "traceback": [
      "\u001b[0;31m---------------------------------------------------------------------------\u001b[0m",
      "\u001b[0;31mRuntimeError\u001b[0m                              Traceback (most recent call last)",
      "\u001b[0;32m<ipython-input-37-4c7cc5c0211d>\u001b[0m in \u001b[0;36m<module>\u001b[0;34m\u001b[0m\n\u001b[0;32m----> 1\u001b[0;31m \u001b[0mgc\u001b[0m\u001b[0;34m.\u001b[0m\u001b[0mattribute\u001b[0m\u001b[0;34m(\u001b[0m\u001b[0mimg\u001b[0m\u001b[0;34m,\u001b[0m \u001b[0mlabel\u001b[0m\u001b[0;34m)\u001b[0m\u001b[0;34m\u001b[0m\u001b[0;34m\u001b[0m\u001b[0m\n\u001b[0m",
      "\u001b[0;32m~/anaconda3/envs/py38/lib/python3.8/site-packages/captum/log/__init__.py\u001b[0m in \u001b[0;36mwrapper\u001b[0;34m(*args, **kwargs)\u001b[0m\n\u001b[1;32m     33\u001b[0m             \u001b[0;34m@\u001b[0m\u001b[0mwraps\u001b[0m\u001b[0;34m(\u001b[0m\u001b[0mfunc\u001b[0m\u001b[0;34m)\u001b[0m\u001b[0;34m\u001b[0m\u001b[0;34m\u001b[0m\u001b[0m\n\u001b[1;32m     34\u001b[0m             \u001b[0;32mdef\u001b[0m \u001b[0mwrapper\u001b[0m\u001b[0;34m(\u001b[0m\u001b[0;34m*\u001b[0m\u001b[0margs\u001b[0m\u001b[0;34m,\u001b[0m \u001b[0;34m**\u001b[0m\u001b[0mkwargs\u001b[0m\u001b[0;34m)\u001b[0m\u001b[0;34m:\u001b[0m\u001b[0;34m\u001b[0m\u001b[0;34m\u001b[0m\u001b[0m\n\u001b[0;32m---> 35\u001b[0;31m                 \u001b[0;32mreturn\u001b[0m \u001b[0mfunc\u001b[0m\u001b[0;34m(\u001b[0m\u001b[0;34m*\u001b[0m\u001b[0margs\u001b[0m\u001b[0;34m,\u001b[0m \u001b[0;34m**\u001b[0m\u001b[0mkwargs\u001b[0m\u001b[0;34m)\u001b[0m\u001b[0;34m\u001b[0m\u001b[0;34m\u001b[0m\u001b[0m\n\u001b[0m\u001b[1;32m     36\u001b[0m \u001b[0;34m\u001b[0m\u001b[0m\n\u001b[1;32m     37\u001b[0m             \u001b[0;32mreturn\u001b[0m \u001b[0mwrapper\u001b[0m\u001b[0;34m\u001b[0m\u001b[0;34m\u001b[0m\u001b[0m\n",
      "\u001b[0;32m~/anaconda3/envs/py38/lib/python3.8/site-packages/captum/attr/_core/guided_grad_cam.py\u001b[0m in \u001b[0;36mattribute\u001b[0;34m(self, inputs, target, additional_forward_args, interpolate_mode, attribute_to_layer_input)\u001b[0m\n\u001b[1;32m    182\u001b[0m         \u001b[0mis_inputs_tuple\u001b[0m \u001b[0;34m=\u001b[0m \u001b[0m_is_tuple\u001b[0m\u001b[0;34m(\u001b[0m\u001b[0minputs\u001b[0m\u001b[0;34m)\u001b[0m\u001b[0;34m\u001b[0m\u001b[0;34m\u001b[0m\u001b[0m\n\u001b[1;32m    183\u001b[0m         \u001b[0minputs\u001b[0m \u001b[0;34m=\u001b[0m \u001b[0m_format_input\u001b[0m\u001b[0;34m(\u001b[0m\u001b[0minputs\u001b[0m\u001b[0;34m)\u001b[0m\u001b[0;34m\u001b[0m\u001b[0;34m\u001b[0m\u001b[0m\n\u001b[0;32m--> 184\u001b[0;31m         grad_cam_attr = self.grad_cam.attribute.__wrapped__(\n\u001b[0m\u001b[1;32m    185\u001b[0m             \u001b[0mself\u001b[0m\u001b[0;34m.\u001b[0m\u001b[0mgrad_cam\u001b[0m\u001b[0;34m,\u001b[0m  \u001b[0;31m# self\u001b[0m\u001b[0;34m\u001b[0m\u001b[0;34m\u001b[0m\u001b[0m\n\u001b[1;32m    186\u001b[0m             \u001b[0minputs\u001b[0m\u001b[0;34m=\u001b[0m\u001b[0minputs\u001b[0m\u001b[0;34m,\u001b[0m\u001b[0;34m\u001b[0m\u001b[0;34m\u001b[0m\u001b[0m\n",
      "\u001b[0;32m~/anaconda3/envs/py38/lib/python3.8/site-packages/captum/attr/_core/layer/grad_cam.py\u001b[0m in \u001b[0;36mattribute\u001b[0;34m(self, inputs, target, additional_forward_args, attribute_to_layer_input, relu_attributions)\u001b[0m\n\u001b[1;32m    194\u001b[0m         \u001b[0;31m# Returns gradient of output with respect to\u001b[0m\u001b[0;34m\u001b[0m\u001b[0;34m\u001b[0m\u001b[0;34m\u001b[0m\u001b[0m\n\u001b[1;32m    195\u001b[0m         \u001b[0;31m# hidden layer and hidden layer evaluated at each input.\u001b[0m\u001b[0;34m\u001b[0m\u001b[0;34m\u001b[0m\u001b[0;34m\u001b[0m\u001b[0m\n\u001b[0;32m--> 196\u001b[0;31m         layer_gradients, layer_evals = compute_layer_gradients_and_eval(\n\u001b[0m\u001b[1;32m    197\u001b[0m             \u001b[0mself\u001b[0m\u001b[0;34m.\u001b[0m\u001b[0mforward_func\u001b[0m\u001b[0;34m,\u001b[0m\u001b[0;34m\u001b[0m\u001b[0;34m\u001b[0m\u001b[0m\n\u001b[1;32m    198\u001b[0m             \u001b[0mself\u001b[0m\u001b[0;34m.\u001b[0m\u001b[0mlayer\u001b[0m\u001b[0;34m,\u001b[0m\u001b[0;34m\u001b[0m\u001b[0;34m\u001b[0m\u001b[0m\n",
      "\u001b[0;32m~/anaconda3/envs/py38/lib/python3.8/site-packages/captum/_utils/gradient.py\u001b[0m in \u001b[0;36mcompute_layer_gradients_and_eval\u001b[0;34m(forward_fn, layer, inputs, target_ind, additional_forward_args, gradient_neuron_selector, device_ids, attribute_to_layer_input, output_fn)\u001b[0m\n\u001b[1;32m    591\u001b[0m         \u001b[0;31m# saved_layer is a dictionary mapping device to a tuple of\u001b[0m\u001b[0;34m\u001b[0m\u001b[0;34m\u001b[0m\u001b[0;34m\u001b[0m\u001b[0m\n\u001b[1;32m    592\u001b[0m         \u001b[0;31m# layer evaluations on that device.\u001b[0m\u001b[0;34m\u001b[0m\u001b[0;34m\u001b[0m\u001b[0;34m\u001b[0m\u001b[0m\n\u001b[0;32m--> 593\u001b[0;31m         saved_layer, output = _forward_layer_distributed_eval(\n\u001b[0m\u001b[1;32m    594\u001b[0m             \u001b[0mforward_fn\u001b[0m\u001b[0;34m,\u001b[0m\u001b[0;34m\u001b[0m\u001b[0;34m\u001b[0m\u001b[0m\n\u001b[1;32m    595\u001b[0m             \u001b[0minputs\u001b[0m\u001b[0;34m,\u001b[0m\u001b[0;34m\u001b[0m\u001b[0;34m\u001b[0m\u001b[0m\n",
      "\u001b[0;32m~/anaconda3/envs/py38/lib/python3.8/site-packages/captum/_utils/gradient.py\u001b[0m in \u001b[0;36m_forward_layer_distributed_eval\u001b[0;34m(forward_fn, inputs, layer, target_ind, additional_forward_args, attribute_to_layer_input, forward_hook_with_return)\u001b[0m\n\u001b[1;32m    293\u001b[0m                     \u001b[0msingle_layer\u001b[0m\u001b[0;34m.\u001b[0m\u001b[0mregister_forward_hook\u001b[0m\u001b[0;34m(\u001b[0m\u001b[0mhook_wrapper\u001b[0m\u001b[0;34m(\u001b[0m\u001b[0msingle_layer\u001b[0m\u001b[0;34m)\u001b[0m\u001b[0;34m)\u001b[0m\u001b[0;34m\u001b[0m\u001b[0;34m\u001b[0m\u001b[0m\n\u001b[1;32m    294\u001b[0m                 )\n\u001b[0;32m--> 295\u001b[0;31m         output = _run_forward(\n\u001b[0m\u001b[1;32m    296\u001b[0m             \u001b[0mforward_fn\u001b[0m\u001b[0;34m,\u001b[0m\u001b[0;34m\u001b[0m\u001b[0;34m\u001b[0m\u001b[0m\n\u001b[1;32m    297\u001b[0m             \u001b[0minputs\u001b[0m\u001b[0;34m,\u001b[0m\u001b[0;34m\u001b[0m\u001b[0;34m\u001b[0m\u001b[0m\n",
      "\u001b[0;32m~/anaconda3/envs/py38/lib/python3.8/site-packages/captum/_utils/common.py\u001b[0m in \u001b[0;36m_run_forward\u001b[0;34m(forward_func, inputs, target, additional_forward_args)\u001b[0m\n\u001b[1;32m    434\u001b[0m     \u001b[0madditional_forward_args\u001b[0m \u001b[0;34m=\u001b[0m \u001b[0m_format_additional_forward_args\u001b[0m\u001b[0;34m(\u001b[0m\u001b[0madditional_forward_args\u001b[0m\u001b[0;34m)\u001b[0m\u001b[0;34m\u001b[0m\u001b[0;34m\u001b[0m\u001b[0m\n\u001b[1;32m    435\u001b[0m \u001b[0;34m\u001b[0m\u001b[0m\n\u001b[0;32m--> 436\u001b[0;31m     output = forward_func(\n\u001b[0m\u001b[1;32m    437\u001b[0m         \u001b[0;34m*\u001b[0m\u001b[0;34m(\u001b[0m\u001b[0;34m*\u001b[0m\u001b[0minputs\u001b[0m\u001b[0;34m,\u001b[0m \u001b[0;34m*\u001b[0m\u001b[0madditional_forward_args\u001b[0m\u001b[0;34m)\u001b[0m\u001b[0;34m\u001b[0m\u001b[0;34m\u001b[0m\u001b[0m\n\u001b[1;32m    438\u001b[0m         \u001b[0;32mif\u001b[0m \u001b[0madditional_forward_args\u001b[0m \u001b[0;32mis\u001b[0m \u001b[0;32mnot\u001b[0m \u001b[0;32mNone\u001b[0m\u001b[0;34m\u001b[0m\u001b[0;34m\u001b[0m\u001b[0m\n",
      "\u001b[0;32m~/anaconda3/envs/py38/lib/python3.8/site-packages/torch/nn/modules/module.py\u001b[0m in \u001b[0;36m_call_impl\u001b[0;34m(self, *input, **kwargs)\u001b[0m\n\u001b[1;32m    720\u001b[0m             \u001b[0mresult\u001b[0m \u001b[0;34m=\u001b[0m \u001b[0mself\u001b[0m\u001b[0;34m.\u001b[0m\u001b[0m_slow_forward\u001b[0m\u001b[0;34m(\u001b[0m\u001b[0;34m*\u001b[0m\u001b[0minput\u001b[0m\u001b[0;34m,\u001b[0m \u001b[0;34m**\u001b[0m\u001b[0mkwargs\u001b[0m\u001b[0;34m)\u001b[0m\u001b[0;34m\u001b[0m\u001b[0;34m\u001b[0m\u001b[0m\n\u001b[1;32m    721\u001b[0m         \u001b[0;32melse\u001b[0m\u001b[0;34m:\u001b[0m\u001b[0;34m\u001b[0m\u001b[0;34m\u001b[0m\u001b[0m\n\u001b[0;32m--> 722\u001b[0;31m             \u001b[0mresult\u001b[0m \u001b[0;34m=\u001b[0m \u001b[0mself\u001b[0m\u001b[0;34m.\u001b[0m\u001b[0mforward\u001b[0m\u001b[0;34m(\u001b[0m\u001b[0;34m*\u001b[0m\u001b[0minput\u001b[0m\u001b[0;34m,\u001b[0m \u001b[0;34m**\u001b[0m\u001b[0mkwargs\u001b[0m\u001b[0;34m)\u001b[0m\u001b[0;34m\u001b[0m\u001b[0;34m\u001b[0m\u001b[0m\n\u001b[0m\u001b[1;32m    723\u001b[0m         for hook in itertools.chain(\n\u001b[1;32m    724\u001b[0m                 \u001b[0m_global_forward_hooks\u001b[0m\u001b[0;34m.\u001b[0m\u001b[0mvalues\u001b[0m\u001b[0;34m(\u001b[0m\u001b[0;34m)\u001b[0m\u001b[0;34m,\u001b[0m\u001b[0;34m\u001b[0m\u001b[0;34m\u001b[0m\u001b[0m\n",
      "\u001b[0;32m~/anaconda3/envs/py38/lib/python3.8/site-packages/torchvision/models/vgg.py\u001b[0m in \u001b[0;36mforward\u001b[0;34m(self, x)\u001b[0m\n\u001b[1;32m     41\u001b[0m \u001b[0;34m\u001b[0m\u001b[0m\n\u001b[1;32m     42\u001b[0m     \u001b[0;32mdef\u001b[0m \u001b[0mforward\u001b[0m\u001b[0;34m(\u001b[0m\u001b[0mself\u001b[0m\u001b[0;34m,\u001b[0m \u001b[0mx\u001b[0m\u001b[0;34m)\u001b[0m\u001b[0;34m:\u001b[0m\u001b[0;34m\u001b[0m\u001b[0;34m\u001b[0m\u001b[0m\n\u001b[0;32m---> 43\u001b[0;31m         \u001b[0mx\u001b[0m \u001b[0;34m=\u001b[0m \u001b[0mself\u001b[0m\u001b[0;34m.\u001b[0m\u001b[0mfeatures\u001b[0m\u001b[0;34m(\u001b[0m\u001b[0mx\u001b[0m\u001b[0;34m)\u001b[0m\u001b[0;34m\u001b[0m\u001b[0;34m\u001b[0m\u001b[0m\n\u001b[0m\u001b[1;32m     44\u001b[0m         \u001b[0mx\u001b[0m \u001b[0;34m=\u001b[0m \u001b[0mself\u001b[0m\u001b[0;34m.\u001b[0m\u001b[0mavgpool\u001b[0m\u001b[0;34m(\u001b[0m\u001b[0mx\u001b[0m\u001b[0;34m)\u001b[0m\u001b[0;34m\u001b[0m\u001b[0;34m\u001b[0m\u001b[0m\n\u001b[1;32m     45\u001b[0m         \u001b[0mx\u001b[0m \u001b[0;34m=\u001b[0m \u001b[0mtorch\u001b[0m\u001b[0;34m.\u001b[0m\u001b[0mflatten\u001b[0m\u001b[0;34m(\u001b[0m\u001b[0mx\u001b[0m\u001b[0;34m,\u001b[0m \u001b[0;36m1\u001b[0m\u001b[0;34m)\u001b[0m\u001b[0;34m\u001b[0m\u001b[0;34m\u001b[0m\u001b[0m\n",
      "\u001b[0;32m~/anaconda3/envs/py38/lib/python3.8/site-packages/torch/nn/modules/module.py\u001b[0m in \u001b[0;36m_call_impl\u001b[0;34m(self, *input, **kwargs)\u001b[0m\n\u001b[1;32m    720\u001b[0m             \u001b[0mresult\u001b[0m \u001b[0;34m=\u001b[0m \u001b[0mself\u001b[0m\u001b[0;34m.\u001b[0m\u001b[0m_slow_forward\u001b[0m\u001b[0;34m(\u001b[0m\u001b[0;34m*\u001b[0m\u001b[0minput\u001b[0m\u001b[0;34m,\u001b[0m \u001b[0;34m**\u001b[0m\u001b[0mkwargs\u001b[0m\u001b[0;34m)\u001b[0m\u001b[0;34m\u001b[0m\u001b[0;34m\u001b[0m\u001b[0m\n\u001b[1;32m    721\u001b[0m         \u001b[0;32melse\u001b[0m\u001b[0;34m:\u001b[0m\u001b[0;34m\u001b[0m\u001b[0;34m\u001b[0m\u001b[0m\n\u001b[0;32m--> 722\u001b[0;31m             \u001b[0mresult\u001b[0m \u001b[0;34m=\u001b[0m \u001b[0mself\u001b[0m\u001b[0;34m.\u001b[0m\u001b[0mforward\u001b[0m\u001b[0;34m(\u001b[0m\u001b[0;34m*\u001b[0m\u001b[0minput\u001b[0m\u001b[0;34m,\u001b[0m \u001b[0;34m**\u001b[0m\u001b[0mkwargs\u001b[0m\u001b[0;34m)\u001b[0m\u001b[0;34m\u001b[0m\u001b[0;34m\u001b[0m\u001b[0m\n\u001b[0m\u001b[1;32m    723\u001b[0m         for hook in itertools.chain(\n\u001b[1;32m    724\u001b[0m                 \u001b[0m_global_forward_hooks\u001b[0m\u001b[0;34m.\u001b[0m\u001b[0mvalues\u001b[0m\u001b[0;34m(\u001b[0m\u001b[0;34m)\u001b[0m\u001b[0;34m,\u001b[0m\u001b[0;34m\u001b[0m\u001b[0;34m\u001b[0m\u001b[0m\n",
      "\u001b[0;32m~/anaconda3/envs/py38/lib/python3.8/site-packages/torch/nn/modules/container.py\u001b[0m in \u001b[0;36mforward\u001b[0;34m(self, input)\u001b[0m\n\u001b[1;32m    115\u001b[0m     \u001b[0;32mdef\u001b[0m \u001b[0mforward\u001b[0m\u001b[0;34m(\u001b[0m\u001b[0mself\u001b[0m\u001b[0;34m,\u001b[0m \u001b[0minput\u001b[0m\u001b[0;34m)\u001b[0m\u001b[0;34m:\u001b[0m\u001b[0;34m\u001b[0m\u001b[0;34m\u001b[0m\u001b[0m\n\u001b[1;32m    116\u001b[0m         \u001b[0;32mfor\u001b[0m \u001b[0mmodule\u001b[0m \u001b[0;32min\u001b[0m \u001b[0mself\u001b[0m\u001b[0;34m:\u001b[0m\u001b[0;34m\u001b[0m\u001b[0;34m\u001b[0m\u001b[0m\n\u001b[0;32m--> 117\u001b[0;31m             \u001b[0minput\u001b[0m \u001b[0;34m=\u001b[0m \u001b[0mmodule\u001b[0m\u001b[0;34m(\u001b[0m\u001b[0minput\u001b[0m\u001b[0;34m)\u001b[0m\u001b[0;34m\u001b[0m\u001b[0;34m\u001b[0m\u001b[0m\n\u001b[0m\u001b[1;32m    118\u001b[0m         \u001b[0;32mreturn\u001b[0m \u001b[0minput\u001b[0m\u001b[0;34m\u001b[0m\u001b[0;34m\u001b[0m\u001b[0m\n\u001b[1;32m    119\u001b[0m \u001b[0;34m\u001b[0m\u001b[0m\n",
      "\u001b[0;32m~/anaconda3/envs/py38/lib/python3.8/site-packages/torch/nn/modules/module.py\u001b[0m in \u001b[0;36m_call_impl\u001b[0;34m(self, *input, **kwargs)\u001b[0m\n\u001b[1;32m    720\u001b[0m             \u001b[0mresult\u001b[0m \u001b[0;34m=\u001b[0m \u001b[0mself\u001b[0m\u001b[0;34m.\u001b[0m\u001b[0m_slow_forward\u001b[0m\u001b[0;34m(\u001b[0m\u001b[0;34m*\u001b[0m\u001b[0minput\u001b[0m\u001b[0;34m,\u001b[0m \u001b[0;34m**\u001b[0m\u001b[0mkwargs\u001b[0m\u001b[0;34m)\u001b[0m\u001b[0;34m\u001b[0m\u001b[0;34m\u001b[0m\u001b[0m\n\u001b[1;32m    721\u001b[0m         \u001b[0;32melse\u001b[0m\u001b[0;34m:\u001b[0m\u001b[0;34m\u001b[0m\u001b[0;34m\u001b[0m\u001b[0m\n\u001b[0;32m--> 722\u001b[0;31m             \u001b[0mresult\u001b[0m \u001b[0;34m=\u001b[0m \u001b[0mself\u001b[0m\u001b[0;34m.\u001b[0m\u001b[0mforward\u001b[0m\u001b[0;34m(\u001b[0m\u001b[0;34m*\u001b[0m\u001b[0minput\u001b[0m\u001b[0;34m,\u001b[0m \u001b[0;34m**\u001b[0m\u001b[0mkwargs\u001b[0m\u001b[0;34m)\u001b[0m\u001b[0;34m\u001b[0m\u001b[0;34m\u001b[0m\u001b[0m\n\u001b[0m\u001b[1;32m    723\u001b[0m         for hook in itertools.chain(\n\u001b[1;32m    724\u001b[0m                 \u001b[0m_global_forward_hooks\u001b[0m\u001b[0;34m.\u001b[0m\u001b[0mvalues\u001b[0m\u001b[0;34m(\u001b[0m\u001b[0;34m)\u001b[0m\u001b[0;34m,\u001b[0m\u001b[0;34m\u001b[0m\u001b[0;34m\u001b[0m\u001b[0m\n",
      "\u001b[0;32m~/anaconda3/envs/py38/lib/python3.8/site-packages/torch/nn/modules/conv.py\u001b[0m in \u001b[0;36mforward\u001b[0;34m(self, input)\u001b[0m\n\u001b[1;32m    417\u001b[0m \u001b[0;34m\u001b[0m\u001b[0m\n\u001b[1;32m    418\u001b[0m     \u001b[0;32mdef\u001b[0m \u001b[0mforward\u001b[0m\u001b[0;34m(\u001b[0m\u001b[0mself\u001b[0m\u001b[0;34m,\u001b[0m \u001b[0minput\u001b[0m\u001b[0;34m:\u001b[0m \u001b[0mTensor\u001b[0m\u001b[0;34m)\u001b[0m \u001b[0;34m->\u001b[0m \u001b[0mTensor\u001b[0m\u001b[0;34m:\u001b[0m\u001b[0;34m\u001b[0m\u001b[0;34m\u001b[0m\u001b[0m\n\u001b[0;32m--> 419\u001b[0;31m         \u001b[0;32mreturn\u001b[0m \u001b[0mself\u001b[0m\u001b[0;34m.\u001b[0m\u001b[0m_conv_forward\u001b[0m\u001b[0;34m(\u001b[0m\u001b[0minput\u001b[0m\u001b[0;34m,\u001b[0m \u001b[0mself\u001b[0m\u001b[0;34m.\u001b[0m\u001b[0mweight\u001b[0m\u001b[0;34m)\u001b[0m\u001b[0;34m\u001b[0m\u001b[0;34m\u001b[0m\u001b[0m\n\u001b[0m\u001b[1;32m    420\u001b[0m \u001b[0;34m\u001b[0m\u001b[0m\n\u001b[1;32m    421\u001b[0m \u001b[0;32mclass\u001b[0m \u001b[0mConv3d\u001b[0m\u001b[0;34m(\u001b[0m\u001b[0m_ConvNd\u001b[0m\u001b[0;34m)\u001b[0m\u001b[0;34m:\u001b[0m\u001b[0;34m\u001b[0m\u001b[0;34m\u001b[0m\u001b[0m\n",
      "\u001b[0;32m~/anaconda3/envs/py38/lib/python3.8/site-packages/torch/nn/modules/conv.py\u001b[0m in \u001b[0;36m_conv_forward\u001b[0;34m(self, input, weight)\u001b[0m\n\u001b[1;32m    413\u001b[0m                             \u001b[0mweight\u001b[0m\u001b[0;34m,\u001b[0m \u001b[0mself\u001b[0m\u001b[0;34m.\u001b[0m\u001b[0mbias\u001b[0m\u001b[0;34m,\u001b[0m \u001b[0mself\u001b[0m\u001b[0;34m.\u001b[0m\u001b[0mstride\u001b[0m\u001b[0;34m,\u001b[0m\u001b[0;34m\u001b[0m\u001b[0;34m\u001b[0m\u001b[0m\n\u001b[1;32m    414\u001b[0m                             _pair(0), self.dilation, self.groups)\n\u001b[0;32m--> 415\u001b[0;31m         return F.conv2d(input, weight, self.bias, self.stride,\n\u001b[0m\u001b[1;32m    416\u001b[0m                         self.padding, self.dilation, self.groups)\n\u001b[1;32m    417\u001b[0m \u001b[0;34m\u001b[0m\u001b[0m\n",
      "\u001b[0;31mRuntimeError\u001b[0m: Expected 4-dimensional input for 4-dimensional weight [64, 3, 3, 3], but got 3-dimensional input of size [3, 224, 224] instead"
     ]
    }
   ],
   "source": [
    "gc.attribute(img, label)"
   ]
  },
  {
   "cell_type": "code",
   "execution_count": null,
   "metadata": {},
   "outputs": [],
   "source": []
  }
 ],
 "metadata": {
  "kernelspec": {
   "display_name": "Python 3",
   "language": "python",
   "name": "python3"
  },
  "language_info": {
   "codemirror_mode": {
    "name": "ipython",
    "version": 3
   },
   "file_extension": ".py",
   "mimetype": "text/x-python",
   "name": "python",
   "nbconvert_exporter": "python",
   "pygments_lexer": "ipython3",
   "version": "3.8.2"
  }
 },
 "nbformat": 4,
 "nbformat_minor": 4
}
